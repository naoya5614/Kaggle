{
  "nbformat": 4,
  "nbformat_minor": 0,
  "metadata": {
    "colab": {
      "name": "Ubiquant_Market_Prediction.ipynb",
      "provenance": [],
      "collapsed_sections": [],
      "authorship_tag": "ABX9TyMTadvQXB9ZZABv4dGSv3Wq",
      "include_colab_link": true
    },
    "kernelspec": {
      "name": "python3",
      "display_name": "Python 3"
    },
    "language_info": {
      "name": "python"
    }
  },
  "cells": [
    {
      "cell_type": "markdown",
      "metadata": {
        "id": "view-in-github",
        "colab_type": "text"
      },
      "source": [
        "<a href=\"https://colab.research.google.com/github/naoya5614/SIGNATE-Kaggle/blob/main/Ubiquant_Market_Prediction.ipynb\" target=\"_parent\"><img src=\"https://colab.research.google.com/assets/colab-badge.svg\" alt=\"Open In Colab\"/></a>"
      ]
    },
    {
      "cell_type": "markdown",
      "source": [
        "Ubiquauantコンペアイデア"
      ],
      "metadata": {
        "id": "-vLPrTrJAAPo"
      }
    },
    {
      "cell_type": "code",
      "execution_count": null,
      "metadata": {
        "id": "Q9PsUTJq_5Sq"
      },
      "outputs": [],
      "source": [
        "import gc, time\n",
        "import numpy as np\n",
        "import pandas as pd\n",
        "import matplotlib.pyplot as plt\n",
        "import seaborn as sns\n",
        "\n",
        "import lightgbm as lgb\n",
        "\n",
        "from scipy.stats import pearsonr\n",
        "from tqdm.notebook import tqdm\n",
        "from sklearn.base import clone\n",
        "from sklearn.metrics import log_loss, mean_squared_error\n",
        "\n",
        "plt.rcParams['figure.figsize'] = (16, 5)\n",
        "\n",
        "import warnings\n",
        "warnings.filterwarnings(\"ignore\")"
      ]
    },
    {
      "cell_type": "code",
      "source": [
        "%%time\n",
        "rain = (pd.read_parquet('../input/ubiquant-parquet/train_low_mem.parquet')\n",
        ".sort_values(['time_id', 'investment_id'])\n",
        ".drop(columns=['row_id'])\n",
        ".query('time_id > 599')\n",
        ".reset_index(drop=True));\n",
        "\n",
        "gc.collect()"
      ],
      "metadata": {
        "id": "-4Ku60K7FGR2"
      },
      "execution_count": null,
      "outputs": []
    },
    {
      "cell_type": "code",
      "source": [
        "all_columns = train.colomuns\n",
        "features = all_columns[train.columns.str.contains('f_')]"
      ],
      "metadata": {
        "id": "Hh8xGpVCF6a7"
      },
      "execution_count": null,
      "outputs": []
    },
    {
      "cell_type": "code",
      "source": [
        "train.shape"
      ],
      "metadata": {
        "id": "CaQvTfijGEy5"
      },
      "execution_count": null,
      "outputs": []
    },
    {
      "cell_type": "code",
      "source": [
        "train.head()"
      ],
      "metadata": {
        "id": "W0WfWbLnGHX7"
      },
      "execution_count": null,
      "outputs": []
    }
  ]
}