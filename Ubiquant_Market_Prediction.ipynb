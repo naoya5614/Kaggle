{
  "nbformat": 4,
  "nbformat_minor": 0,
  "metadata": {
    "colab": {
      "name": "Ubiquant_Market_Prediction.ipynb",
      "provenance": [],
      "collapsed_sections": [],
      "authorship_tag": "ABX9TyOENMhnQl+/iET+ebR2Xr3z",
      "include_colab_link": true
    },
    "kernelspec": {
      "name": "python3",
      "display_name": "Python 3"
    },
    "language_info": {
      "name": "python"
    }
  },
  "cells": [
    {
      "cell_type": "markdown",
      "metadata": {
        "id": "view-in-github",
        "colab_type": "text"
      },
      "source": [
        "<a href=\"https://colab.research.google.com/github/naoya5614/SIGNATE-Kaggle/blob/main/Ubiquant_Market_Prediction.ipynb\" target=\"_parent\"><img src=\"https://colab.research.google.com/assets/colab-badge.svg\" alt=\"Open In Colab\"/></a>"
      ]
    },
    {
      "cell_type": "markdown",
      "source": [
        "Ubiquauantコンペアイデア"
      ],
      "metadata": {
        "id": "-vLPrTrJAAPo"
      }
    },
    {
      "cell_type": "code",
      "execution_count": 1,
      "metadata": {
        "id": "Q9PsUTJq_5Sq"
      },
      "outputs": [],
      "source": [
        "import gc, time\n",
        "import numpy as np\n",
        "import pandas as pd\n",
        "import matplotlib.pyplot as plt\n",
        "import seaborn as sns\n",
        "\n",
        "import lightgbm as lgb\n",
        "\n",
        "from scipy.stats import pearsonr\n",
        "from tqdm.notebook import tqdm\n",
        "from sklearn.base import clone\n",
        "from sklearn.metrics import log_loss, mean_squared_error\n",
        "\n",
        "plt.rcParams['figure.figsize'] = (16, 5)\n",
        "\n",
        "import warnings\n",
        "warnings.filterwarnings(\"ignore\")"
      ]
    }
  ]
}