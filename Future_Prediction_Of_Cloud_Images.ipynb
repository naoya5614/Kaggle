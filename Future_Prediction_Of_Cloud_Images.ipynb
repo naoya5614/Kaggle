{
  "nbformat": 4,
  "nbformat_minor": 0,
  "metadata": {
    "colab": {
      "name": "Future_Prediction_Of_Cloud_Images.ipynb",
      "provenance": [],
      "collapsed_sections": [],
      "toc_visible": true,
      "authorship_tag": "ABX9TyONorb1HRK5kyN6qd+/1wEt",
      "include_colab_link": true
    },
    "kernelspec": {
      "name": "python3",
      "display_name": "Python 3"
    },
    "language_info": {
      "name": "python"
    }
  },
  "cells": [
    {
      "cell_type": "markdown",
      "metadata": {
        "id": "view-in-github",
        "colab_type": "text"
      },
      "source": [
        "<a href=\"https://colab.research.google.com/github/naoya5614/Kaggle/blob/main/Future_Prediction_Of_Cloud_Images.ipynb\" target=\"_parent\"><img src=\"https://colab.research.google.com/assets/colab-badge.svg\" alt=\"Open In Colab\"/></a>"
      ]
    },
    {
      "cell_type": "markdown",
      "metadata": {
        "id": "X_8dGw-bwUJx"
      },
      "source": [
        "# 雲画像の未来予測"
      ]
    },
    {
      "cell_type": "markdown",
      "metadata": {
        "id": "28kwUUS_wUMt"
      },
      "source": [
        "# [1] データの確認・把握"
      ]
    },
    {
      "cell_type": "markdown",
      "metadata": {
        "id": "OtKLVgvHwx-u"
      },
      "source": [
        "## 1.衛星画像データの確認・把握"
      ]
    },
    {
      "cell_type": "markdown",
      "metadata": {
        "id": "oivttNpkFNs_"
      },
      "source": [
        "### 1-1.衛星画像データのファイルパス"
      ]
    },
    {
      "cell_type": "markdown",
      "metadata": {
        "id": "dn1IDhBSFRxC"
      },
      "source": [
        "**ファイルパスとは、ファイルの住所を表す文字列を意味し、以下の2つに大別される**\n",
        "```\n",
        "*   絶対パス: 最上位の階層から見た目的のファイルの場所\n",
        "*   相対パス: プログラムを実行する位置から見た目的のファイルの場所\n",
        "```"
      ]
    },
    {
      "cell_type": "markdown",
      "metadata": {
        "id": "_rwzt6KUGIuV"
      },
      "source": [
        "### 1-2.衛星画像を読み込む"
      ]
    },
    {
      "cell_type": "markdown",
      "metadata": {
        "id": "A44VyxkmGPYT"
      },
      "source": [
        "**画像の読み込むライブラリのインポート**\n",
        "```\n",
        "# OpenCVライブラリのインポート\n",
        "import cv2\n",
        "```\n",
        "**画像を読み込む**\n",
        "```\n",
        "# cv2.imread()関数を使って、白黒画像を読み込む\n",
        "image = cv2.imread(画像のファイルパス, 0)\n",
        "```"
      ]
    },
    {
      "cell_type": "code",
      "metadata": {
        "id": "tC_MYyYpGqvj"
      },
      "source": [
        "# ライブラリのインポート\n",
        "import numpy as np\n",
        "import cv2\n",
        "\n",
        "# 2016年１月１日16時時点の衛星画像を指定するファイルパス\n",
        "file_path = 'train/sat/2016-01-01/2016-01-01-16-00.fv.png'\n",
        "\n",
        "# 衛星画像を読み込む\n",
        "image = cv2.imread(file_path, 0)\n",
        "\n",
        "# 出力\n",
        "print(image)"
      ],
      "execution_count": null,
      "outputs": []
    },
    {
      "cell_type": "markdown",
      "metadata": {
        "id": "6vR3AphiG17T"
      },
      "source": [
        "### 1-3.衛星画像を構成する値の統計量を確認する"
      ]
    },
    {
      "cell_type": "markdown",
      "metadata": {
        "id": "qhoYKcf7G5Zs"
      },
      "source": [
        "**読み込んだ衛星画像がどのような値で構成されているのかを確認する**\n",
        "```\n",
        "*   最大値　np.max()関数\n",
        "*   最小値　np.min()関数\n",
        "*   平均値　np.mean()関数\n",
        "```\n",
        "```\n",
        "# NumPyライブラリのインポート\n",
        "import numpy as np\n",
        "\n",
        "# 最大値の取得\n",
        "np.max(配列)\n",
        "\n",
        "# 最小値の取得\n",
        "np.min(配列)\n",
        "\n",
        "# 平均値の取得\n",
        "np.mean(配列)\n",
        "```"
      ]
    },
    {
      "cell_type": "code",
      "metadata": {
        "id": "ofS-fdfEHQ5-"
      },
      "source": [
        "# ライブラリのインポート\n",
        "import numpy as np\n",
        "import cv2\n",
        "\n",
        "# 2016年１月１日16時時点の衛星画像を指定するファイルパス\n",
        "file_path = 'train/sat/2016-01-01/2016-01-01-16-00.fv.png'\n",
        "\n",
        "# 衛星画像を読み込む\n",
        "image = cv2.imread(file_path, 0)\n",
        "\n",
        "# 最大値の出力\n",
        "print(np.max(image))\n",
        "\n",
        "# 最小値の出力\n",
        "print(np.min(image))\n",
        "\n",
        "# 平均値の出力\n",
        "print(np.mean(image))"
      ],
      "execution_count": null,
      "outputs": []
    },
    {
      "cell_type": "markdown",
      "metadata": {
        "id": "Q3r6OVWqHXL1"
      },
      "source": [
        "### 1-4.衛星画像を可視化する"
      ]
    },
    {
      "cell_type": "markdown",
      "metadata": {
        "id": "5huK6d1LHfMl"
      },
      "source": [
        "**今回扱う衛星画像**\n",
        "```\n",
        "*   最小値0\n",
        "*   最大値255\n",
        "# 8bit(256階調)\n",
        "```\n",
        "**可視化ライブラリをインポートする**\n",
        "```\n",
        "# matplotlib.pyplotモジュールのインポート\n",
        "import matplotlib.pyplot as plt\n",
        "```\n",
        "**画像を可視化する**\n",
        "```\n",
        "# 白黒画像の描画\n",
        "plt.imshow(画像を表す配列, 'gray')\n",
        "```"
      ]
    },
    {
      "cell_type": "code",
      "metadata": {
        "id": "F00mgKdmP1sm"
      },
      "source": [
        "# ライブラリのインポート\n",
        "import numpy as np\n",
        "import cv2\n",
        "import matplotlib.pyplot as plt\n",
        "\n",
        "# 2016年１月１日16時時点の衛星画像を指定するファイルパス\n",
        "file_path = 'train/sat/2016-01-01/2016-01-01-16-00.fv.png'\n",
        "\n",
        "# 衛星画像を読み込む\n",
        "image = cv2.imread(file_path, 0)\n",
        "\n",
        "# 衛星画像を描画する\n",
        "plt.imshow(image, 'gray')\n",
        "\n",
        "# グラフの出力\n",
        "plt.show()"
      ],
      "execution_count": null,
      "outputs": []
    },
    {
      "cell_type": "markdown",
      "metadata": {
        "id": "JzV5czR0QCEw"
      },
      "source": [
        "### 1-5.ファイルパスを一般化する① f文字列による文字列の置換"
      ]
    },
    {
      "cell_type": "markdown",
      "metadata": {
        "id": "DBkXlTo7QKyS"
      },
      "source": [
        "**規則性を捉えるために、文字列の構成成分を理解する**\n",
        "```\n",
        "# 下記のように一般化する\n",
        "{trainもしくはtest}/sat/{年}-{月}-{日}/{年}-{月}-{日}-{時}-00.fv.png\n",
        "\n",
        "衛星画像のファイルパスは\n",
        "*   train もしくは test\n",
        "*   年\n",
        "*   月\n",
        "*   日\n",
        "*   時\n",
        "の5つの成分から構成されています。\n",
        "\n",
        "\n",
        "これらの成分に対応する５つの変数である\n",
        "*   phase:train もしくはtest\n",
        "*   year: 年\n",
        "*   month: 月\n",
        "*   day: 日\n",
        "*   hour: 時間\n",
        "を与える。\n",
        "\n",
        "{phase}/sat/{year}-{month}-{day}/{year}-{month}-{day}-{hour}-00.fv.png\n",
        "```"
      ]
    },
    {
      "cell_type": "markdown",
      "metadata": {
        "id": "diRagSnMQ5sM"
      },
      "source": [
        "**f文字列と置換フィールド**\n",
        "```\n",
        "phase = 'train'\n",
        "year = 2016\n",
        "month = 1\n",
        "day = 1\n",
        "hour = 16\n",
        "\n",
        "# f文字列による文字列の置換\n",
        "file_path = f'{phase}/sat/{year}-{month:02}-{day:02}/{year}-{month:02}-{day:02}-{hour:02}-00.fv.png'\n",
        "\n",
        "## 置換フィールド{}内の文字列が変数によって置換されることで、\n",
        "## file_pathに代入される文字列は、'train/sat/2016-01-01/2016-01-01-16-00.fv.png'となる。\n",
        "```"
      ]
    },
    {
      "cell_type": "code",
      "metadata": {
        "id": "9MHto--XRDxa"
      },
      "source": [
        "# 衛星画像のファイルパスを特定するための５つの変数に値を代入する\n",
        "phase = 'train'\n",
        "year = 2016\n",
        "month = 1\n",
        "day = 1\n",
        "hour = 16\n",
        "\n",
        "# 「f文字列」による置換が可能な文字列をfile_pathに代入する\n",
        "file_path = f'{phase}/sat/{year}-{month:02}-{day:02}/{year}-{month:02}-{day:02}-{hour:02}-00.fv.png'\n",
        "\n",
        "print(file_path)"
      ],
      "execution_count": null,
      "outputs": []
    },
    {
      "cell_type": "markdown",
      "metadata": {
        "id": "6EN7Qs5dROzU"
      },
      "source": [
        "### 1-6.ファイルパスを一般化する② 日時の扱い方"
      ]
    },
    {
      "cell_type": "markdown",
      "metadata": {
        "id": "0PdZywwFRUkM"
      },
      "source": [
        "**衛星画像の各ファイルパスを分ける差分となる変数について改めて確認する**\n",
        "```\n",
        "*   phase:train もしくはtest\n",
        "*   year: 年\n",
        "*   month: 月\n",
        "*   day: 日\n",
        "*   hour: 時間\n",
        "# year、month、day、hourの４つは全て日時を表すもの\n",
        "# phaseに関しても日時の情報によって文字列を特定できる\n",
        "```\n",
        "**datetimeとtimedelta**\n",
        "```\n",
        "datetime: 日時情報を表す\n",
        "timedelta: 日時どうしの差分(経過時間)を表す\n",
        "```\n",
        "**datetime、timedeltaのインポート**\n",
        "```\n",
        "# datetime.datetimeクラスのインポート\n",
        "from datetime import datetime as dt\n",
        "\n",
        "# datetime.timedeltaクラスのインポート\n",
        "from datetime import timedelta\n",
        "```"
      ]
    },
    {
      "cell_type": "markdown",
      "metadata": {
        "id": "l1eqNnqRSDx8"
      },
      "source": [
        "**1. datetimeによる日時の操作**\n",
        "\n",
        "```\n",
        "# オブジェクト生成の際の引数に(年, 月, 日, 時, 分, 秒)をそれぞれ指定することで、日時を表すオブジェクトを作成できる\n",
        "\n",
        "# 「2016年1月1日16時0分0秒」\n",
        "date = dt(2016, 1, 1, 16, 0, 0)\n",
        "```\n",
        "\n"
      ]
    },
    {
      "cell_type": "markdown",
      "metadata": {
        "id": "Yer3h_18SaAj"
      },
      "source": [
        "**年, 月, 日, 時, 分, 秒の情報を、それぞれ単独で数値データとして抽出する**\n",
        "\n",
        "```\n",
        "# 「2016年1月1日16時0分0秒」\n",
        "date = dt(2016, 1, 1, 16, 0, 0)\n",
        "\n",
        "\n",
        "# dateから、「年」のみを数値データとして抽出する\n",
        "## yearに2016が代入される\n",
        "year = date.year\n",
        "\n",
        "# dateから、「月」のみを数値データとして抽出する\n",
        "## monthに1が代入される\n",
        "month = date.month\n",
        "\n",
        "# dateから、「日」のみを数値データとして抽出する\n",
        "## dayに1が代入される\n",
        "day = date.day\n",
        "\n",
        "# dateから、「時」のみを数値データとして抽出する\n",
        "## hourに16が代入される\n",
        "hour = date.hour\n",
        "```\n",
        "\n"
      ]
    },
    {
      "cell_type": "markdown",
      "metadata": {
        "id": "BPbjQ8x4SiE4"
      },
      "source": [
        "**2. timedeltaによる日時の加算、減算**\n",
        "\n",
        "```\n",
        "# 「年」「日」「時」「分」「秒」の各単位ごとに、日時の差分を指定できる\n",
        "\n",
        "単位\t引数名\n",
        "年\tyears\n",
        "日\tdays\n",
        "時\thours\n",
        "分\tminutes\n",
        "秒\tseconds\n",
        "\n",
        "# 例) 2時間分の差分を表すtimedeltaオブジェクトを生成する\n",
        "two_hours = timedelta(hours=2)\n",
        "```"
      ]
    },
    {
      "cell_type": "markdown",
      "metadata": {
        "id": "Y5OKgrr6Su2w"
      },
      "source": [
        "**datetimeオブジェクトの日時情報に対して変更を加える**\n",
        "```\n",
        "# 「2016年1月1日16時0分0秒」のdatetimeオブジェクト\n",
        "date = dt(2016, 1, 1, 16, 0, 0)\n",
        "\n",
        "# 2時間後を表すdatetimeオブジェクトを生成\n",
        "date_after2hours = date + timedelta(hours=2)\n",
        "\n",
        "# 3年前を表すdatetimeオブジェクトを生成\n",
        "date_before3years = date - timedelta(years=3)\n",
        "```"
      ]
    },
    {
      "cell_type": "code",
      "metadata": {
        "id": "hLohfCrES5xI"
      },
      "source": [
        "# ライブラリのインポート\n",
        "from datetime import datetime as dt\n",
        "from datetime import timedelta\n",
        "\n",
        "# 「2016年1月1日16時0分0秒」の日時オブジェクトを作成する\n",
        "date = dt(2016, 1, 1, 16, 0, 0)\n",
        "\n",
        "# dateの１日後の日時オブジェクトdate_after1daysを作成する\n",
        "date_after1days = date + timedelta(days=1)"
      ],
      "execution_count": null,
      "outputs": []
    },
    {
      "cell_type": "markdown",
      "metadata": {
        "id": "tyoJoVXOS-XK"
      },
      "source": [
        "### 1-7.衛星画像を並べて可視化する"
      ]
    },
    {
      "cell_type": "markdown",
      "metadata": {
        "id": "Fvg4Fe3pTB_2"
      },
      "source": [
        "**これまでの作業**\n",
        "```\n",
        "1.   f文字列の手法による文字列の置換\n",
        "2.   datetimeモジュールによる日時の操作\n",
        "```\n",
        "**複数の画像を並べて表示する**\n",
        "\n",
        "```\n",
        "# 1枚目の画像を表示する\n",
        "plt.subplot(1, 2, 1)\n",
        "plt.imshow(1枚目の画像)\n",
        "\n",
        "# 2枚目の画像を表示する\n",
        "plt.subplot(1, 2, 2)\n",
        "plt.imshow(2枚めの画像)\n",
        "\n",
        "# plt.subplot(x, y, z)は、x行y列の図の内、z番目の図に描画することを宣言する\n",
        "```\n",
        "\n",
        "\n"
      ]
    },
    {
      "cell_type": "code",
      "metadata": {
        "id": "7G6JGHwdTa7y"
      },
      "source": [
        "# ライブラリのインポート\n",
        "import numpy as np\n",
        "import cv2\n",
        "import matplotlib.pyplot as plt\n",
        "plt.figure(figsize=(20,10))\n",
        "from datetime import datetime as dt\n",
        "from datetime import timedelta\n",
        "\n",
        "\n",
        "# 日時の初期設定として、1つ目の衛星画像に該当する日時を設定する\n",
        "start_date = dt(2016, 1, 1, 16)\n",
        "\n",
        "# 5時間分の衛星画像を順番に取得、描画する\n",
        "for i in range(5):\n",
        "    \n",
        "    \"\"\"\n",
        "    2. 日時の操作\n",
        "    \"\"\"\n",
        "    # start_dateから、i時間先の日時をdateに代入する\n",
        "    date = start_date + timedelta(hours=i)\n",
        "    \n",
        "    # 年:year、月:month、日:day、時:hourの情報をdateから取得する\n",
        "    year = date.year\n",
        "    month = date.month\n",
        "    day = date.day\n",
        "    hour = date.hour\n",
        "    \n",
        "    # 2018年ならばテストデータ(test)\n",
        "    # 2016年、2017年ならば学習データ(train)をphaseに代入する\n",
        "    if year == 2018:\n",
        "        phase = 'test'\n",
        "    else:\n",
        "        phase = 'train'\n",
        "        \n",
        "    \"\"\"\n",
        "    1. 文字列の置換\n",
        "    \"\"\"\n",
        "    # ファイル名を指定する\n",
        "    file_path = f\"{phase}/sat/{year}-{month:02}-{day:02}/{year}-{month:02}-{day:02}-{hour:02}-00.fv.png\"\n",
        "    \n",
        "    # 衛星画像を読み込む\n",
        "    image = cv2.imread(file_path)\n",
        "        \n",
        "    # 1行5列並んだ図の内、i+1番目の図に描画する設定を行う \n",
        "    plt.subplot(1, 5, i+1)\n",
        "    \n",
        "    # 画像を描画する\n",
        "    plt.imshow(image)\n",
        "\n",
        "plt.show()"
      ],
      "execution_count": null,
      "outputs": []
    },
    {
      "cell_type": "markdown",
      "metadata": {
        "id": "slD6BhXdwyCN"
      },
      "source": [
        "## 2.気象データの確認・把握"
      ]
    },
    {
      "cell_type": "markdown",
      "metadata": {
        "id": "28cA0GTHVKLA"
      },
      "source": [
        "### 2-1.気象データのファイルパス"
      ]
    },
    {
      "cell_type": "markdown",
      "metadata": {
        "id": "-_vEND3yWqXD"
      },
      "source": [
        "**各ディレクトリ名についての説明**\n",
        "```\n",
        "1.   train と test\n",
        "学習用(train)として2016年&2017年、評価用(test)として2018年のデータを使用するため、2016年、2017年のデータはtrainディレクトリ内に、2018年のデータはtestディレクトリ内に含まれている。\n",
        "\n",
        "2.   sat と met\n",
        "衛星(Satellite)画像データを「sat」気象(Meteorological)データを「met」と、それぞれ表現している。\n",
        "```"
      ]
    },
    {
      "cell_type": "markdown",
      "metadata": {
        "id": "GrlmVsNKXIWs"
      },
      "source": [
        "### 2-2.気象データを読み込む"
      ]
    },
    {
      "cell_type": "markdown",
      "metadata": {
        "id": "1k46WEZjXNf8"
      },
      "source": [
        "**gzipファイルを扱う方針**\n",
        "```\n",
        "1.   ストレージ内に全てのgzipファイルを展開してしまう\n",
        "# 読み込み処理にかかる時間が削減される一方、ストレージの容量が圧迫される\n",
        "\n",
        "2.   気象データを読み込むタイミングで毎回gzipファイルを開く\n",
        "# 読み込み処理にかかる時間がかかる一方、ストレージの容量が圧迫されない\n",
        "```\n",
        "**gzipファイルを引数に受け取り、NumPyファイルを返り値とする関数**\n",
        "```\n",
        "def Read_gz_Binary(file_path):\n",
        "    file_tmp = file + \"_tmp\"\n",
        "    with gzip.open(file, 'rb') as f_in:\n",
        "        with open(file_tmp, 'wb') as f_out:\n",
        "            shutil.copyfileobj(f_in, f_out)\n",
        "\n",
        "    bin_data = np.fromfile(file_tmp, np.float32)\n",
        "    os.remove(file_tmp)\n",
        "    return bin_data.reshape( [168,128] )\n",
        "```"
      ]
    },
    {
      "cell_type": "markdown",
      "metadata": {
        "id": "GoNZ6TdjZkIU"
      },
      "source": [
        "**Read_gz_Binary関数**\n",
        "\n",
        "```\n",
        "*   ファイルパスを引数に受け取り\n",
        "*   形状が(168, 128)のNumPy配列を返り値とする\n",
        "```\n",
        "**Read_gz_Binary関数内部の処理**"
      ]
    },
    {
      "cell_type": "markdown",
      "metadata": {
        "id": "B-aglZIKZv_u"
      },
      "source": [
        "**1.「gzip.open()」関数によるgzファイルの読み込み**\n",
        "```\n",
        "# gzipモジュールのインポート\n",
        "import gzip\n",
        "\n",
        "# gzipファイルをバイナリデータで開いたファイルオブジェクトとして返す\n",
        "with gzip.open(ファイルパス, 'rb') as opened_file:\n",
        "\n",
        "# 第1引数に、展開したいファイルのファイルパスを指定\n",
        "# 第2引数は、'r'が読み込み、'b'がバイナリモードを意味する\n",
        "```\n",
        "**2.「shutil.copyfileobj()」関数によるファイルオブジェクトのコピー**\n",
        "\n",
        "```\n",
        "# shutilのインポート\n",
        "import shutil\n",
        "\n",
        "# ファイルオブジェクト1の中身を、ファイルオブジェクト2にコピーする\n",
        "shutil.copyfileobj(ファイルオブジェクト1, ファイルオブジェクト2)\n",
        "```\n",
        "**「np.fromfile()」関数によるバイナリデータの読み込み**\n",
        "```\n",
        "# NumPyライブラリのインポート\n",
        "import numpy as np\n",
        "\n",
        "# バイナリファイルをNumPy配列として読み込む\n",
        "bin_data = np.fromfile(ファイルパス, dtypeの指定)\n",
        "\n",
        "# 第1引数にバイナリファイルのパス\n",
        "# 第2引数に返り値となるNumPy配列のdtypeを指定する\n",
        "```\n",
        "**4. 「np.reshape()」関数による配列の2次元化**\n",
        "```\n",
        "# バイナリデータ(1次元の配列)を\n",
        "# 2次元の配列に変換する\n",
        "array2d = bin_data.reshape( [168,128] )\n",
        "```\n",
        "**Read_gz_Binary()関数の処理の流れ**\n",
        "```\n",
        "1.   「gzip.open()」関数によるgzファイルの読み込み\n",
        "1.   「shutil.copyfileobj()」関数によるファイルオブジェクトのコピー\n",
        "3.   「np.fromfile()」関数によるバイナリデータの読み込み\n",
        "```\n",
        "```\n",
        "def Read_gz_Binary(file_path):\n",
        "\n",
        "    # 1. 変数file_tmpに「元のファイル名_tmp」となる文字列を代入\n",
        "    file_tmp = file_path + \"_tmp\"\n",
        "\n",
        "    # 2. gzipファイルを、「読み込み(r)モード & バイナリ(b)モード」 で開き、\n",
        "    #     開いたファイルオブジェクトをf_inに代入する\n",
        "    with gzip.open(file_path, 'rb') as f_in:\n",
        "\n",
        "        # 3. ファイル名を「元のファイル名_tmp」としたファイルを\n",
        "        #     open()関数の「書き込み(w)モード & バイナリ(b)モード」で新規作成し、\n",
        "        #     ファイルオブジェクトをf_outとする\n",
        "        with open(file_tmp, 'wb') as f_out:\n",
        "\n",
        "            # 4. f_inのファイルオブジェクトをf_outにコピーする\n",
        "            shutil.copyfileobj(f_in, f_out)\n",
        "\n",
        "    # 5. バイナリファイルをNumPy配列として読み込む\n",
        "    met_data = np.fromfile(file_tmp, np.float32)\n",
        "\n",
        "    # 6. 一時的に作成した展開済みのバイナリファイル「元のファイル名_tmp」を削除する\n",
        "    os.remove(file_tmp)\n",
        "\n",
        "    # 7. 読み込んだ配列の形状を(168, 128)に整形する\n",
        "    met_data = met_data.reshape( [168,128] )\n",
        "\n",
        "    return met_data\n",
        "```\n",
        "\n"
      ]
    },
    {
      "cell_type": "code",
      "metadata": {
        "id": "-Ym7Xoh_bRa1"
      },
      "source": [
        "# ライブラリのインポート\n",
        "import numpy as np\n",
        "import gzip\n",
        "import shutil\n",
        "\n",
        "# 気象データを読み込む関数; Read_gz_Binary を実装する\n",
        "def Read_gz_Binary(file_path):\n",
        "    file_tmp = file_path + \"_tmp\"\n",
        "    with gzip.open(file_path, 'rb') as f_in:\n",
        "        with open(file_tmp, 'wb') as f_out:\n",
        "            shutil.copyfileobj(f_in, f_out)\n",
        "    \n",
        "    # バイナリファイルをNumPy配列として読み込む\n",
        "    met_data = np.fromfile(file_tmp, np.float32)\n",
        "    os.remove(file_tmp)\n",
        "    \n",
        "    # 配列の次元に変更を加える\n",
        "    met_data = met_data.reshape( [168,128] )\n",
        "    \n",
        "    return met_data\n",
        "\n",
        "# 気象データのファイルパスを指定する\n",
        "file_path = 'train/met/2016/01/01/HGT.200.3.2016010118.gz'\n",
        "\n",
        "# 気象データを読み込む\n",
        "met_data = Read_gz_Binary(file_path)\n",
        "\n",
        "# 読み込んだ気象データに関する基本情報を出力する\n",
        "print(type(met_data))\n",
        "print(met_data.shape)"
      ],
      "execution_count": null,
      "outputs": []
    },
    {
      "cell_type": "markdown",
      "metadata": {
        "id": "j8HygcOObXoF"
      },
      "source": [
        "### 2-3.気象データを構成する値の統計量を確認する"
      ]
    },
    {
      "cell_type": "markdown",
      "metadata": {
        "id": "bEzdIiYBbdGf"
      },
      "source": [
        "**算出する統計量**\n",
        "\n",
        "```\n",
        "*   最大値\n",
        "*   最小値\n",
        "*   平均値\n",
        "```"
      ]
    },
    {
      "cell_type": "code",
      "metadata": {
        "id": "XCCDwym6bnx-"
      },
      "source": [
        "# ライブラリのインポート\n",
        "import numpy as np\n",
        "\n",
        "# 気象データのファイルパスを指定する\n",
        "file_path = 'train/met/2016/01/01/HGT.200.3.2016010118.gz'\n",
        "\n",
        "# 気象データを読み込む\n",
        "met_data = Read_gz_Binary(file_path)\n",
        "\n",
        "# 最大値の出力\n",
        "print('最大値: ', np.max(met_data))\n",
        "\n",
        "# 最小値の出力\n",
        "print('最小値: ', np.min(met_data))\n",
        "\n",
        "# 平均値の出力\n",
        "print('平均値: ', np.mean(met_data))"
      ],
      "execution_count": null,
      "outputs": []
    },
    {
      "cell_type": "markdown",
      "metadata": {
        "id": "9G873tdaejoh"
      },
      "source": [
        "### 2-4.データの未計測部分を補間する"
      ]
    },
    {
      "cell_type": "markdown",
      "metadata": {
        "id": "MGdBQihnerD9"
      },
      "source": [
        "**1. 北側、南側の未計測部分を補間する(上下方向の補間)**\n",
        "```\n",
        "未計測部分\n",
        "*   北側: 1行目と2行目\n",
        "*   南側: 155行目〜168行目\n",
        "\n",
        "有効な計測値\n",
        "*   北側: 3行目\n",
        "*   南側: 154行目\n",
        "\n",
        "\n",
        "# 北側の未計測部分を補間する\n",
        "data[0:2] = data[2]\n",
        "\n",
        "# 南側の未計測部分を補間する\n",
        "data[154:] = data[153]\n",
        "```"
      ]
    },
    {
      "cell_type": "markdown",
      "metadata": {
        "id": "cOi8WvTrlV6c"
      },
      "source": [
        "**2. 西側の未計測部分を補間する(左右方向の補間)**\n",
        "```\n",
        "未計測部分\n",
        "*   西側: 1列目〜8列目\n",
        "\n",
        "有効な計測値\n",
        "*   西側: 9列目\n",
        "\n",
        "\n",
        "# 西側の未計測部分を補間する\n",
        "data[:, :8] = data[:, 8].reshape(-1, 1)\n",
        "```"
      ]
    },
    {
      "cell_type": "code",
      "metadata": {
        "id": "Md6GbFVwl8mz"
      },
      "source": [
        "# ライブラリのインポート\n",
        "import numpy as np\n",
        "\n",
        "# 気象データのファイルパスを指定する\n",
        "file_path = 'train/met/2016/01/01/HGT.200.3.2016010118.gz'\n",
        "\n",
        "# 気象データを読み込む\n",
        "met_data = Read_gz_Binary(file_path)\n",
        "\n",
        "plt.subplot(1, 2, 1)\n",
        "plt.imshow(met_data, 'gray')\n",
        "\n",
        "# fill_lack_data()関数を実装する\n",
        "def fill_lack_data(data):\n",
        "    \n",
        "    ## 1. 北側、南側の未計測部分を補間する(上下)\n",
        "    \n",
        "    # 北側の未計測部分を補間する\n",
        "    data[0:2] = data[2]\n",
        "    # 南側の未計測部分を補間する\n",
        "    data[154:] = data[153]\n",
        "    \n",
        "    \n",
        "    ## 2. 西側の未計測部分を補間する(左右)\n",
        "    \n",
        "    # 西側の未計測部分を補間する\n",
        "    data[:, :8] = data[:, 8].reshape(-1, 1)\n",
        "    \n",
        "    return data\n",
        "\n",
        "# fill_lack_data()関数をmet_dataに対して実行する\n",
        "filled_data = fill_lack_data(met_data)\n",
        "\n",
        "\n",
        "\n",
        "plt.subplot(1, 2, 2)\n",
        "plt.imshow(filled_data, 'gray')\n",
        "\n",
        "plt.show()"
      ],
      "execution_count": null,
      "outputs": []
    },
    {
      "cell_type": "markdown",
      "metadata": {
        "id": "QIm9QvK5mTXP"
      },
      "source": [
        "### 2-5.ファイルパスを一般化する"
      ]
    },
    {
      "cell_type": "markdown",
      "metadata": {
        "id": "BR84QP6_mb2F"
      },
      "source": [
        "**構成成分の確認**\n",
        "```\n",
        "{train もしくは test}/met/{年}/{月}/{日}/{気象データの名称}.3.{年}{月}{日}{時}.gz\n",
        "\n",
        "衛星画像データと同じく\n",
        "*   train もしくは test\n",
        "*   年\n",
        "*   月\n",
        "*   日\n",
        "*   時\n",
        "の5つに加えて、\n",
        "*   気象データの名称\n",
        "```\n",
        "**気象データの種類名**\n",
        "```\n",
        "*   アルファベット名: 気象データの種類\n",
        "*   数字: 等圧面における気圧\n",
        "\n",
        "\n",
        "*   各アルファベット名と各種気象データの対応\n",
        "アルファベット名\t気象データの種類\n",
        "HGT\t高度\n",
        "PRMSL\t海面気圧\n",
        "RH\t湿度\n",
        "TMP\t気温\n",
        "UGRD\t東西風\n",
        "VGRD\t南北風\n",
        "VVEL\t鉛直流\n",
        "```\n",
        "**それぞれの変数の対応**\n",
        "```\n",
        "*   phase: train もしくは test\n",
        "*   year: 年\n",
        "*   month: 月\n",
        "*   day: 日\n",
        "*   hour: 時\n",
        "*   data_type: 気象データの名称\n",
        "```"
      ]
    },
    {
      "cell_type": "code",
      "metadata": {
        "id": "UsMtPecQnfQZ"
      },
      "source": [
        "# ライブラリのインポート\n",
        "from datetime import datetime as dt\n",
        "\n",
        "# 日時オブジェクトの作成\n",
        "date = dt(2016, 1, 1, 18)\n",
        "\n",
        "\"\"\"\n",
        "file_path = 'train/met/2016/01/01/HGT.200.3.2016010118.gz'\n",
        "\n",
        "となるように、以下の変数phase, year, month, day, hour, data_typeに値を代入しましょう。\n",
        "\"\"\"\n",
        "\n",
        "phase = 'train'\n",
        "year = date.year\n",
        "month = date.month\n",
        "day = date.day\n",
        "hour = date.hour\n",
        "data_type = 'HGT.200'\n",
        "\n",
        "\n",
        "\n",
        "# f文字列を利用して、ファイルパスを表す文字列を作成する\n",
        "file_path = f'{phase}/met/{year}/{month:02}/{day:02}/{data_type}.3.{year}{month:02}{day:02}{hour:02}.gz'\n",
        "\n",
        "\n",
        "print(file_path)"
      ],
      "execution_count": null,
      "outputs": []
    },
    {
      "cell_type": "markdown",
      "metadata": {
        "id": "c_99JFzHwUQK"
      },
      "source": [
        "# [2] データセットの作成"
      ]
    },
    {
      "cell_type": "markdown",
      "metadata": {
        "id": "GO4uKBVbw_HN"
      },
      "source": [
        "## 1.データが与えられている日付の取得"
      ]
    },
    {
      "cell_type": "markdown",
      "metadata": {
        "id": "RzO26BF7w_KW"
      },
      "source": [
        "## 2.衛星画像データをまとめたnpyファイルの作成"
      ]
    },
    {
      "cell_type": "markdown",
      "metadata": {
        "id": "XVtIcrI9w_NH"
      },
      "source": [
        "## 3.気象データをまとめたnpyファイルの作成"
      ]
    },
    {
      "cell_type": "markdown",
      "metadata": {
        "id": "TZ4VdWLXwjfZ"
      },
      "source": [
        "# [3] 前処理"
      ]
    },
    {
      "cell_type": "markdown",
      "metadata": {
        "id": "OnmhCsGRxJxx"
      },
      "source": [
        "## 1.学習データと検証データの分割"
      ]
    },
    {
      "cell_type": "markdown",
      "metadata": {
        "id": "pwwxzZYqxJ1a"
      },
      "source": [
        "## 2.データの正規化"
      ]
    },
    {
      "cell_type": "markdown",
      "metadata": {
        "id": "gIAmsCBRxJ4m"
      },
      "source": [
        "## 3.入力データと正解データの分割"
      ]
    },
    {
      "cell_type": "markdown",
      "metadata": {
        "id": "vPJp0ErNwobp"
      },
      "source": [
        "# [4] モデリング"
      ]
    },
    {
      "cell_type": "markdown",
      "metadata": {
        "id": "UV0qN_dqxWAq"
      },
      "source": [
        "## 1.Convolutional LSTMモデルの構築"
      ]
    },
    {
      "cell_type": "markdown",
      "metadata": {
        "id": "iwQVVIwrxWFd"
      },
      "source": [
        "## 2.コールバックの設定"
      ]
    },
    {
      "cell_type": "markdown",
      "metadata": {
        "id": "A3sxV2C9xWLX"
      },
      "source": [
        "## 3.モデルの学習と推論の実行"
      ]
    },
    {
      "cell_type": "markdown",
      "metadata": {
        "id": "mt5hpoKowoes"
      },
      "source": [
        "# [5] 予測精度の改善"
      ]
    },
    {
      "cell_type": "markdown",
      "metadata": {
        "id": "zREDngADxjmC"
      },
      "source": [
        "## 1.特徴量として気象データを追加"
      ]
    }
  ]
}