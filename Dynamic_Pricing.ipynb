{
  "nbformat": 4,
  "nbformat_minor": 0,
  "metadata": {
    "colab": {
      "name": "Dynamic_Pricing.ipynb",
      "provenance": [],
      "collapsed_sections": [],
      "toc_visible": true,
      "authorship_tag": "ABX9TyNsO8s9DlzL6wpc6q9w9gTs",
      "include_colab_link": true
    },
    "kernelspec": {
      "name": "python3",
      "display_name": "Python 3"
    },
    "language_info": {
      "name": "python"
    }
  },
  "cells": [
    {
      "cell_type": "markdown",
      "metadata": {
        "id": "view-in-github",
        "colab_type": "text"
      },
      "source": [
        "<a href=\"https://colab.research.google.com/github/naoya5614/Kaggle/blob/main/Dynamic_Pricing.ipynb\" target=\"_parent\"><img src=\"https://colab.research.google.com/assets/colab-badge.svg\" alt=\"Open In Colab\"/></a>"
      ]
    },
    {
      "cell_type": "markdown",
      "metadata": {
        "id": "jCalLBj9GGA9"
      },
      "source": [
        "# ダイナミックプライシング"
      ]
    },
    {
      "cell_type": "markdown",
      "metadata": {
        "id": "D44T40qcGGDs"
      },
      "source": [
        "# [1] ダイナミックプライシング"
      ]
    },
    {
      "cell_type": "markdown",
      "metadata": {
        "id": "V3VVqImfGGFo"
      },
      "source": [
        "## 1.ダイナミックプライシングとは？"
      ]
    },
    {
      "cell_type": "markdown",
      "metadata": {
        "id": "Xw4wvwYwGGH-"
      },
      "source": [
        "# [2] データの分析"
      ]
    },
    {
      "cell_type": "markdown",
      "metadata": {
        "id": "gCcsHzF-GGKF"
      },
      "source": [
        "## 1.データの読み込み"
      ]
    },
    {
      "cell_type": "markdown",
      "metadata": {
        "id": "T-ZpBR9DN2Ni"
      },
      "source": [
        "### 1-1.ライブラリのインポート"
      ]
    },
    {
      "cell_type": "markdown",
      "metadata": {
        "id": "t6X7mZV2N6Ge"
      },
      "source": [
        "**データ分析で役立つライブラリ**\n",
        "```\n",
        "*   andas : データ分析に必要なDataFrameという道具を扱うためのライブラリ\n",
        "*   numpy : 数値演算で必要なライブラリ\n",
        "*   matplotlib : グラフを作成する可視化ライブラリ\n",
        "*   seaborn :グラフを作成する可視化ライブラリ(matplotlibよりも記述が簡単)\n",
        "*   scikit-learn : 機械学習のライブラリ\n",
        "```\n",
        "**ライブラリを読み込む**\n",
        "```\n",
        "import ライブラリ名\n",
        "\n",
        "import ライブラリ名 as 省略名\n",
        "\n",
        "import ライブラリ名.モジュール名\n",
        "from ライブラリ名 import モジュール名\n",
        "\n",
        "import ライブラリ名.モジュール名 as 省略名\n",
        "from ライブラリ名 import モジュール名 as 省略名\n",
        "```\n",
        "\n"
      ]
    },
    {
      "cell_type": "code",
      "metadata": {
        "id": "rHdwoHjWOTSF"
      },
      "source": [
        "# pandas のインポート\n",
        "import pandas as pd"
      ],
      "execution_count": null,
      "outputs": []
    },
    {
      "cell_type": "markdown",
      "metadata": {
        "id": "6pRGUNK_OYNv"
      },
      "source": [
        "### 1-2.データの読み込み"
      ]
    },
    {
      "cell_type": "markdown",
      "metadata": {
        "id": "yXm-OpIYObx5"
      },
      "source": [
        "```\n",
        "# これはコードとして書式設定されますライブラリ名.関数名()\n",
        "\n",
        "変数名 = pd.read_csv(\"ファイル名\")\n",
        "```"
      ]
    },
    {
      "cell_type": "code",
      "metadata": {
        "id": "WJo5LXIAOh8A"
      },
      "source": [
        "# pandasのインポート\n",
        "import pandas as pd\n",
        "\n",
        "# データの読み込み\n",
        "df = pd.read_csv(\"booking_data.csv\")"
      ],
      "execution_count": null,
      "outputs": []
    },
    {
      "cell_type": "markdown",
      "metadata": {
        "id": "PYOaxlcZGGMU"
      },
      "source": [
        "## 2.データの確認"
      ]
    },
    {
      "cell_type": "markdown",
      "metadata": {
        "id": "W2oAjQTSOuHi"
      },
      "source": [
        "### 2-1.データの表示"
      ]
    },
    {
      "cell_type": "markdown",
      "metadata": {
        "id": "iqboNTu9Ozxi"
      },
      "source": [
        "**データの先頭行を表示する**\n",
        "```\n",
        "DataFrameが代入された変数.head(表示したい行数)\n",
        "```\n",
        "\n"
      ]
    },
    {
      "cell_type": "code",
      "metadata": {
        "id": "F2d_zw3XO7AW"
      },
      "source": [
        "# pandasのインポート\n",
        "import pandas as pd\n",
        "\n",
        "# データの読み込み\n",
        "df = pd.read_csv(\"booking_data.csv\")\n",
        "\n",
        "# 先頭10行の表示\n",
        "print(df.head(10))"
      ],
      "execution_count": null,
      "outputs": []
    },
    {
      "cell_type": "markdown",
      "metadata": {
        "id": "8sxhNexWO-uU"
      },
      "source": [
        "### 2-2.データ量の確認"
      ]
    },
    {
      "cell_type": "markdown",
      "metadata": {
        "id": "UdtH1l3nPEa3"
      },
      "source": [
        "**データの行数と列数を調べる**\n",
        "```\n",
        "DataFrameが代入された変数.shape\n",
        "```\n",
        "\n"
      ]
    },
    {
      "cell_type": "code",
      "metadata": {
        "id": "UfOX2ehfPLll"
      },
      "source": [
        "# pandasのインポート\n",
        "import pandas as pd\n",
        "\n",
        "# データの読み込み\n",
        "df = pd.read_csv(\"booking_data.csv\")\n",
        "\n",
        "# データ量の確認\n",
        "print(df.shape)"
      ],
      "execution_count": null,
      "outputs": []
    },
    {
      "cell_type": "markdown",
      "metadata": {
        "id": "Nlv_PR4-PPHG"
      },
      "source": [
        "### 2-3.データの型の確認"
      ]
    },
    {
      "cell_type": "markdown",
      "metadata": {
        "id": "mXSRVKTJPSeH"
      },
      "source": [
        "**代表的なデータ型**\n",
        "\n",
        "```\n",
        "数値\n",
        "*   int型：整数\n",
        "*   float型：浮動小数点数（小数点を含む数字）\n",
        "*   bool型：真偽値（1 or 0であるが、pythonではTrue or Falseとも表記）\n",
        "\n",
        "文字列\n",
        "*   str型：文字列（pandasを利用した場合はobjectと表記）\n",
        "\n",
        "日時\n",
        "*   date型：日付\n",
        "*   time型：時刻\n",
        "*   datetime型：日時\n",
        "```\n",
        "**DataFrameの各カラムのデータの型を確認する**\n",
        "```\n",
        "DataFrameが代入された変数.dtypes\n",
        "```\n",
        "\n",
        "\n"
      ]
    },
    {
      "cell_type": "code",
      "metadata": {
        "id": "M0UO0C2fQHkv"
      },
      "source": [
        "# pandasのインポート\n",
        "import pandas as pd\n",
        "\n",
        "# データの読み込み\n",
        "df = pd.read_csv(\"booking_data.csv\")\n",
        "\n",
        "# データの型の表示\n",
        "print(df.dtypes)"
      ],
      "execution_count": null,
      "outputs": []
    },
    {
      "cell_type": "markdown",
      "metadata": {
        "id": "1_FuZ2eEGGOo"
      },
      "source": [
        "## 3.データの精査"
      ]
    },
    {
      "cell_type": "markdown",
      "metadata": {
        "id": "R03UamsiQMTd"
      },
      "source": [
        "### 3-1.日時型への変換"
      ]
    },
    {
      "cell_type": "markdown",
      "metadata": {
        "id": "yBWVoCRsQRxv"
      },
      "source": [
        "**データの型を日時型に変換する**\n",
        "```\n",
        "pd.to_datetime(DataFrameが代入された変数[\"日時が格納されたカラム名\"])\n",
        "```\n",
        "**DataFrameの特定のカラムの値を、変換したデータで上書きする**\n",
        "```\n",
        "DataFrameが代入された変数[\"カラム名\"] = 上書きしたいデータ\n",
        "```\n",
        "\n",
        "\n"
      ]
    },
    {
      "cell_type": "code",
      "metadata": {
        "id": "8G3pMKlMQiLC"
      },
      "source": [
        "# pandasのインポート\n",
        "import pandas as pd\n",
        "\n",
        "# データの読み込み\n",
        "df = pd.read_csv(\"booking_data.csv\")\n",
        "\n",
        "# 日時型への変換\n",
        "df[\"予約受付日\"] = pd.to_datetime(df[\"予約受付日\"])\n",
        "df[\"宿泊日\"] = pd.to_datetime(df[\"宿泊日\"])\n",
        "\n",
        "# データの型の表示\n",
        "print(df.dtypes)"
      ],
      "execution_count": null,
      "outputs": []
    },
    {
      "cell_type": "markdown",
      "metadata": {
        "id": "3HfK28x8QrPw"
      },
      "source": [
        "### 3-2.日時型データからの情報の抽出"
      ]
    },
    {
      "cell_type": "markdown",
      "metadata": {
        "id": "BE58-TjsQtOO"
      },
      "source": [
        "**日時型データから情報を抽出する**\n",
        "```\n",
        "datetimeオブジェクト.strftime(書式)\n",
        "```\n",
        "**()内に書式を指定することで、月や曜日などの文字列情報に変換する**\n",
        "```\n",
        "代表的な書式\t意味\t例\n",
        "\"%Y\"\t西暦\t2019, 2020, ...\n",
        "\"%m\"\t月\t01, 02, ..., 12\n",
        "\"%d\"\t日\t01, 02, ..., 31\n",
        "\"%a\"\t曜日\tSun, Mon, ..., Sat\n",
        "```\n",
        "**DataFrameの特定のカラムに対して関数を適用する**\n",
        "```\n",
        "DataFrameが代入された変数['カラム名'].apply(適用したい関数)\n",
        "```\n",
        "**labmda式**\n",
        "```\n",
        "lambda 引数: 返り値\n",
        "```\n",
        "**作成したデータを新しいカラムとして、元のDataFrameの追加する**\n",
        "```\n",
        "DataFrameが代入された変数[\"新しいカラム名\"] = 追加したいデータ\n",
        "```\n",
        "\n",
        "\n",
        "\n",
        "\n",
        "\n"
      ]
    },
    {
      "cell_type": "code",
      "metadata": {
        "id": "h5IVK3EYRdqr"
      },
      "source": [
        "# pandasのインポート\n",
        "import pandas as pd\n",
        "\n",
        "# データの読み込み\n",
        "df = pd.read_csv(\"booking_data.csv\", parse_dates=[\"予約受付日\",\"宿泊日\"])\n",
        "\n",
        "# 月・曜日データの作成\n",
        "month_of_stay = df[\"宿泊日\"].apply(lambda x: x.strftime('%m'))\n",
        "week_of_stay = df[\"宿泊日\"].apply(lambda x: x.strftime('%a'))\n",
        "week_of_reservation = df[\"予約受付日\"].apply(lambda x: x.strftime('%a'))\n",
        "\n",
        "# 月・曜日データの追加\n",
        "df[\"宿泊月\"] = month_of_stay\n",
        "df[\"宿泊曜日\"] = week_of_stay\n",
        "df[\"予約受付曜日\"] = week_of_reservation\n",
        "\n",
        "# 先頭10行の表示\n",
        "print(df.head(10))"
      ],
      "execution_count": null,
      "outputs": []
    },
    {
      "cell_type": "markdown",
      "metadata": {
        "id": "lUjV-ps4Rmw3"
      },
      "source": [
        "### 3-3.基本統計量の確認"
      ]
    },
    {
      "cell_type": "markdown",
      "metadata": {
        "id": "Az-qyURGRsEl"
      },
      "source": [
        "**DataFrameの数値型データの基本統計量を表示する**\n",
        "```\n",
        "DataFrameが代入された変数.describe()\n",
        "```\n",
        "**基本統計量の説明**\n",
        "```\n",
        "<数値型>\n",
        "count : データの個数\n",
        "mean : 平均値\n",
        "std : 標準偏差\n",
        "min : 最小値\n",
        "25% : 第一四分位数\n",
        "50% : 第二四分位数(中央値)\n",
        "75% : 第三四分位数\n",
        "max : 最大値\n",
        "\n",
        "<文字列型>\n",
        "count : データの個数\n",
        "unique : ユニークな要素の個数\n",
        "top : 最も多く出現する要素（最頻値）\n",
        "freq : topで返された要素の出現回数\n",
        "\n",
        "<日時型>\n",
        "count : データの個数\n",
        "unique : ユニークな要素の個数\n",
        "top : 最も多く出現する要素（最頻値）\n",
        "freq : topで返された要素の出現回数\n",
        "first : 最初の日時\n",
        "last : 最後の日時\n",
        "```\n",
        "\n",
        "\n",
        "\n"
      ]
    },
    {
      "cell_type": "code",
      "metadata": {
        "id": "OVDHuIQxS5Jl"
      },
      "source": [
        "# pandasのインポート\n",
        "import pandas as pd\n",
        "\n",
        "# データの読み込み\n",
        "df = pd.read_csv(\"booking_data.csv\", parse_dates=[\"予約受付日\",\"宿泊日\"])\n",
        "\n",
        "# 月・曜日データの作成\n",
        "df[\"宿泊月\"] = df[\"宿泊日\"].apply(lambda x: x.strftime('%m'))\n",
        "df[\"宿泊曜日\"] = df[\"宿泊日\"].apply(lambda x: x.strftime('%a'))\n",
        "df[\"予約受付曜日\"] = df[\"予約受付日\"].apply(lambda x: x.strftime('%a'))\n",
        "\n",
        "# 数値型データの基本統計量の表示\n",
        "print(df.describe())\n",
        "\n",
        "# 文字列型データの基本統計量の表示\n",
        "print(df.describe(include=\"object\"))\n",
        "\n",
        "# 日時型データの基本統計量の表示\n",
        "print(df.describe(include=\"datetime\"))"
      ],
      "execution_count": null,
      "outputs": []
    },
    {
      "cell_type": "markdown",
      "metadata": {
        "id": "Q27BXA3eGiOV"
      },
      "source": [
        "## 4.変数の分布の確認"
      ]
    },
    {
      "cell_type": "markdown",
      "metadata": {
        "id": "9-ChqXd6S-8Y"
      },
      "source": [
        "### 4-1.各宿泊日の予約数の集計"
      ]
    },
    {
      "cell_type": "markdown",
      "metadata": {
        "id": "WwiNA5QnTD6r"
      },
      "source": [
        "**DataFrameの特定のカラムに存在する各要素の出現回数を数える**\n",
        "```\n",
        "DataFrameが代入された変数[\"カラム名\"].value_counts()\n",
        "```"
      ]
    },
    {
      "cell_type": "code",
      "metadata": {
        "id": "w-KzY8d-TLUx"
      },
      "source": [
        "# pandasのインポート\n",
        "import pandas as pd\n",
        "\n",
        "# データの読み込み\n",
        "df = pd.read_csv(\"booking_data.csv\", parse_dates=[\"予約受付日\",\"宿泊日\"])\n",
        "\n",
        "# 月・曜日データの作成\n",
        "df[\"宿泊月\"] = df[\"宿泊日\"].apply(lambda x: x.strftime('%m'))\n",
        "df[\"宿泊曜日\"] = df[\"宿泊日\"].apply(lambda x: x.strftime('%a'))\n",
        "df[\"予約受付曜日\"] = df[\"予約受付日\"].apply(lambda x: x.strftime('%a'))\n",
        "\n",
        "# 宿泊日毎の予約数の集計\n",
        "vc = df[\"宿泊日\"].value_counts()\n",
        "\n",
        "# 集計結果の表示\n",
        "print(vc)"
      ],
      "execution_count": null,
      "outputs": []
    },
    {
      "cell_type": "markdown",
      "metadata": {
        "id": "c5RgwTpITSil"
      },
      "source": [
        "### 4-2.各宿泊日の予約数の分布の可視化"
      ]
    },
    {
      "cell_type": "markdown",
      "metadata": {
        "id": "mG1y9xQCTV8i"
      },
      "source": [
        "**pythonでデータを可視化する**\n",
        "```\n",
        "import matplotlib.pyplot as plt\n",
        "グラフを作成\n",
        "plt.show()\n",
        "```\n",
        "**ヒストグラムを作成する**\n",
        "```\n",
        "SeriesまたはDataFrameが代入された変数.hist()\n",
        "```"
      ]
    },
    {
      "cell_type": "code",
      "metadata": {
        "id": "0nZMO-GeTrfV"
      },
      "source": [
        "# pandasのインポート\n",
        "import pandas as pd\n",
        "\n",
        "# データの読み込み\n",
        "df = pd.read_csv(\"booking_data.csv\", parse_dates=[\"予約受付日\",\"宿泊日\"])\n",
        "\n",
        "# 月・曜日データの作成\n",
        "df[\"宿泊月\"] = df[\"宿泊日\"].apply(lambda x: x.strftime('%m'))\n",
        "df[\"宿泊曜日\"] = df[\"宿泊日\"].apply(lambda x: x.strftime('%a'))\n",
        "df[\"予約受付曜日\"] = df[\"予約受付日\"].apply(lambda x: x.strftime('%a'))\n",
        "\n",
        "# 宿泊日毎の予約数の集計\n",
        "vc = df[\"宿泊日\"].value_counts()\n",
        "\n",
        "# matplotlib.pyplotのインポート\n",
        "import matplotlib.pyplot as plt\n",
        "\n",
        "# グラフの作成\n",
        "vc.hist()\n",
        "\n",
        "# グラフの表示\n",
        "plt.show()"
      ],
      "execution_count": null,
      "outputs": []
    },
    {
      "cell_type": "markdown",
      "metadata": {
        "id": "R9oG8FYiT0f_"
      },
      "source": [
        "### 4-3.月・曜日と予約数の関係"
      ]
    },
    {
      "cell_type": "code",
      "metadata": {
        "id": "Nsg3sSZqT6Sw"
      },
      "source": [
        "# pandasのインポート\n",
        "import pandas as pd\n",
        "\n",
        "# データの読み込み\n",
        "df = pd.read_csv(\"booking_data.csv\", parse_dates=[\"予約受付日\",\"宿泊日\"])\n",
        "\n",
        "# 月・曜日データの作成\n",
        "df[\"宿泊月\"] = df[\"宿泊日\"].apply(lambda x: x.strftime('%m'))\n",
        "df[\"宿泊曜日\"] = df[\"宿泊日\"].apply(lambda x: x.strftime('%a'))\n",
        "df[\"予約受付曜日\"] = df[\"予約受付日\"].apply(lambda x: x.strftime('%a'))\n",
        "\n",
        "# 月・曜日と予約数の集計結果の表示\n",
        "print(df[\"宿泊月\"].value_counts())\n",
        "print(df[\"宿泊曜日\"].value_counts())\n",
        "print(df[\"予約受付曜日\"].value_counts())"
      ],
      "execution_count": null,
      "outputs": []
    },
    {
      "cell_type": "markdown",
      "metadata": {
        "id": "x9AR_lIrGiQ5"
      },
      "source": [
        "# [3] ブッキングカーブ"
      ]
    },
    {
      "cell_type": "markdown",
      "metadata": {
        "id": "4-8ttcOzGiTz"
      },
      "source": [
        "## 1.ブッキングカーブとは？"
      ]
    },
    {
      "cell_type": "markdown",
      "metadata": {
        "id": "d2JoUM6sGiWS"
      },
      "source": [
        "## 2.ブッキングカーブの作成"
      ]
    },
    {
      "cell_type": "markdown",
      "metadata": {
        "id": "wYitZ_LZA8_-"
      },
      "source": [
        "### 2-1.ブッキングカーブの作成"
      ]
    },
    {
      "cell_type": "markdown",
      "metadata": {
        "id": "UfX44GdYBFUU"
      },
      "source": [
        "**指定したカラムの要素が指定した値と等しい行のみを抽出する**\n",
        "```\n",
        "DataFrameが代入された変数[DataFrameが代入された変数[\"カラム名\"]==値]\n",
        "```\n",
        "**カラムに存在する各要素の出現回数を数える**\n",
        "```\n",
        "DataFrame[\"カラム名\"].value_counts()\n",
        "```\n",
        "**インデックスで並び替える**\n",
        "```\n",
        "SeriesまたはDataFrameが代入された変数.sort_index()\n",
        "```\n",
        "**前に出てきた値を足し合わせる**\n",
        "```\n",
        "SeriesまたはDataFrameが代入された変数.cumsum()\n",
        "```\n",
        "**折れ線グラフを作成する**\n",
        "```\n",
        "SeriesまたはDataFrame代入された変数.plot()\n",
        "```"
      ]
    },
    {
      "cell_type": "code",
      "metadata": {
        "id": "12dByXviB4NK"
      },
      "source": [
        "# pandasのインポート\n",
        "import pandas as pd\n",
        "\n",
        "# データの読み込み\n",
        "df = pd.read_csv(\"booking_data.csv\", parse_dates=[\"予約受付日\",\"宿泊日\"])\n",
        "\n",
        "# 月・曜日データの作成\n",
        "df[\"宿泊月\"] = df[\"宿泊日\"].apply(lambda x: x.strftime('%m'))\n",
        "df[\"宿泊曜日\"] = df[\"宿泊日\"].apply(lambda x: x.strftime('%a'))\n",
        "df[\"予約受付曜日\"] = df[\"予約受付日\"].apply(lambda x: x.strftime('%a'))\n",
        "\n",
        "# 指定日付による絞り込み\n",
        "df_part = df[df[\"宿泊日\"] == \"2019-08-01\"]\n",
        "\n",
        "# 予約受付日毎の予約数の集計\n",
        "vc = df_part[\"予約受付日\"].value_counts()\n",
        "\n",
        "# 累計の予約数の計算\n",
        "vcc = vc.sort_index().cumsum()\n",
        "\n",
        "# matplotlib.pyplotのインポート\n",
        "import matplotlib.pyplot as plt\n",
        "\n",
        "# グラフの作成\n",
        "vcc.plot()\n",
        "\n",
        "# グラフの表示\n",
        "plt.show()"
      ],
      "execution_count": null,
      "outputs": []
    },
    {
      "cell_type": "markdown",
      "metadata": {
        "id": "LYX8do0GCA88"
      },
      "source": [
        "### 2-2.ブッキングカーブの修正"
      ]
    },
    {
      "cell_type": "markdown",
      "metadata": {
        "id": "Clakb2G0Cuav"
      },
      "source": [
        "**pythonの標準モジュールの時間に関するデータを取り扱うためのライブラリ**\n",
        "```\n",
        "import datetime as dt\n",
        "date1 = dt.date(年,月,日)\n",
        "date2 = date1 - dt.timedelta(days = 30)\n",
        "```\n",
        "**日付データを作成する**\n",
        "```\n",
        "pd.date_range(start=開始日, end=終了日, freq=頻度)\n",
        "```\n",
        "**Seriesのインデックスを再構築する**\n",
        "```\n",
        "Seriesが代入された変数.reindex(新しいインデックス, fill_value=補完する値)\n",
        "```"
      ]
    },
    {
      "cell_type": "code",
      "metadata": {
        "id": "gdsUQ4XfDWnc"
      },
      "source": [
        "# pandasのインポート\n",
        "import pandas as pd\n",
        "\n",
        "# データの読み込み\n",
        "df = pd.read_csv(\"booking_data.csv\", parse_dates=[\"予約受付日\",\"宿泊日\"])\n",
        "\n",
        "# 月・曜日データの作成\n",
        "df[\"宿泊月\"] = df[\"宿泊日\"].apply(lambda x: x.strftime('%m'))\n",
        "df[\"宿泊曜日\"] = df[\"宿泊日\"].apply(lambda x: x.strftime('%a'))\n",
        "df[\"予約受付曜日\"] = df[\"予約受付日\"].apply(lambda x: x.strftime('%a'))\n",
        "\n",
        "# 指定日付による絞り込み\n",
        "df_part = df[df[\"宿泊日\"] == \"2019-08-01\"]\n",
        "\n",
        "# 予約受付日毎の予約数の集計\n",
        "vc = df_part[\"予約受付日\"].value_counts()\n",
        "\n",
        "# datetimeのインポート\n",
        "import datetime as dt\n",
        "\n",
        "# 宿泊日の日付型オブジェクトの作成\n",
        "dt_date = dt.date(2019,8,1)\n",
        "\n",
        "# 予約受付開始日の計算\n",
        "start_date = dt_date - dt.timedelta(days=30)\n",
        "\n",
        "# 予約受付終了日の計算\n",
        "end_date = dt_date - dt.timedelta(days=1) \n",
        "\n",
        "# 連続する日付の作成\n",
        "new_index = pd.date_range(start=start_date, end=end_date, freq='D')\n",
        "\n",
        "# 集計値のインデックスの再構築\n",
        "vcr = vc.reindex(new_index, fill_value=0)\n",
        "\n",
        "# 累計の予約数の計算\n",
        "vcc = vcr.sort_index().cumsum()\n",
        "\n",
        "# matplotlib.pyplotのインポート\n",
        "import matplotlib.pyplot as plt\n",
        "\n",
        "# グラフの作成\n",
        "vcc.plot()\n",
        "\n",
        "# グラフの表示\n",
        "plt.show()"
      ],
      "execution_count": null,
      "outputs": []
    },
    {
      "cell_type": "markdown",
      "metadata": {
        "id": "kPiQzxtgGiYt"
      },
      "source": [
        "## 3.ブッキングカーブの比較・評価"
      ]
    },
    {
      "cell_type": "markdown",
      "metadata": {
        "id": "QNIRmc06DjE5"
      },
      "source": [
        "### 3-1.ブッキングカーブの比較・解釈"
      ]
    },
    {
      "cell_type": "markdown",
      "metadata": {
        "id": "8ZK4yjbvDr-E"
      },
      "source": [
        "**インデックスをリセットして、0から開始して1ずつ増えていく数字に置き換える**\n",
        "```\n",
        "SeriesまたはDataFrameが代入された変数.reset_index()\n",
        "```\n",
        "**グラフの描画する**\n",
        "\n",
        "```\n",
        "Seriesが代入された変数.plot(label=ラベル名)\n",
        "plt.title(グラフのタイトル)\n",
        "plt.xlabel(横軸のラベル名)\n",
        "plt.ylabel(縦軸のラベル名)\n",
        "plt.ylim(縦軸の下限値, 縦軸の上限値)\n",
        "plt.legend()\n",
        "plt.grid()\n",
        "```"
      ]
    },
    {
      "cell_type": "code",
      "metadata": {
        "id": "0XgjM2fWEDC2"
      },
      "source": [
        "# pandasのインポート\n",
        "import pandas as pd\n",
        "\n",
        "# データの読み込み\n",
        "df = pd.read_csv(\"booking_data.csv\", parse_dates=[\"予約受付日\",\"宿泊日\"])\n",
        "\n",
        "# 月・曜日データの作成\n",
        "df[\"宿泊月\"] = df[\"宿泊日\"].apply(lambda x: x.strftime('%m'))\n",
        "df[\"宿泊曜日\"] = df[\"宿泊日\"].apply(lambda x: x.strftime('%a'))\n",
        "df[\"予約受付曜日\"] = df[\"予約受付日\"].apply(lambda x: x.strftime('%a'))\n",
        "\n",
        "# datetimeのインポート\n",
        "import datetime as dt\n",
        "\n",
        "# 宿泊日の指定\n",
        "str_date1 = \"2019-08-25\"\n",
        "str_date2 = \"2019-04-27\"\n",
        "str_date3 = \"2019-11-11\"\n",
        "\n",
        "# 宿泊日の日時型オブジェクトの作成\n",
        "dt_date1 = pd.Timestamp(str_date1)\n",
        "dt_date2 = pd.Timestamp(str_date2)\n",
        "dt_date3 = pd.Timestamp(str_date3)\n",
        " \n",
        "# 予約受付開始日から宿泊日前日までの連続する日付の作成\n",
        "new_index1 = pd.date_range(start=dt_date1 - dt.timedelta(days=30), end=dt_date1 - dt.timedelta(days=1), freq='D')\n",
        "new_index2 = pd.date_range(start=dt_date2 - dt.timedelta(days=30), end=dt_date2 - dt.timedelta(days=1), freq='D')\n",
        "new_index3 = pd.date_range(start=dt_date3 - dt.timedelta(days=30), end=dt_date3 - dt.timedelta(days=1), freq='D')\n",
        "\n",
        "# 累計の予約数の作成\n",
        "vcc1 = df[df[\"宿泊日\"] == dt_date1][\"予約受付日\"].value_counts().reindex(new_index1, fill_value=0).sort_index().cumsum().reset_index(drop=True)\n",
        "vcc2 = df[df[\"宿泊日\"] == dt_date2][\"予約受付日\"].value_counts().reindex(new_index2, fill_value=0).sort_index().cumsum().reset_index(drop=True)\n",
        "vcc3 = df[df[\"宿泊日\"] == dt_date3][\"予約受付日\"].value_counts().reindex(new_index3, fill_value=0).sort_index().cumsum().reset_index(drop=True)\n",
        "\n",
        "# グラフの作成\n",
        "import matplotlib.pyplot as plt\n",
        "vcc1.plot(label=str_date1)\n",
        "vcc2.plot(label=str_date2)\n",
        "vcc3.plot(label=str_date3)\n",
        "plt.title(\"ブッキングカーブ\")\n",
        "plt.xlabel(\"予約受付開始からの経過日数\")\n",
        "plt.ylabel(\"予約された部屋の数\")\n",
        "plt.legend()\n",
        "plt.grid()\n",
        "plt.show()"
      ],
      "execution_count": null,
      "outputs": []
    },
    {
      "cell_type": "markdown",
      "metadata": {
        "id": "-NuRHL8QEPdT"
      },
      "source": [
        "### 3-2.理想的なブッキングカーブ"
      ]
    },
    {
      "cell_type": "markdown",
      "metadata": {
        "id": "m9Gqw9p0EXKa"
      },
      "source": [
        "**pythonで等間隔の配列を生成する**\n",
        "```\n",
        "import numpy as np\n",
        "np.linspace(始点, 終点, 要素数)\n",
        "```\n",
        "**生成したNumPy配列の末尾に新たな要素を追加する**\n",
        "```\n",
        "np.append(NumPy配列が代入された変数, 追加したい要素)\n",
        "```\n",
        "**横軸のデータと、縦軸のデータを渡して、折れ線グラフを作成する**\n",
        "```\n",
        "plt.plot(横軸のデータ, 縦軸のデータ)\n",
        "```"
      ]
    },
    {
      "cell_type": "code",
      "metadata": {
        "id": "_TtPsYlkE-5W"
      },
      "source": [
        "# numpyのインポート\n",
        "import numpy as np\n",
        "\n",
        "# 0から29を30等分した数値配列の作成\n",
        "x = np.linspace(0,29,30)\n",
        "\n",
        "# 0から20を28等分した数値配列の作成\n",
        "tmp_y = np.linspace(0,20,28)\n",
        "\n",
        "# 要素の追加\n",
        "y = np.append(tmp_y, [20,20])\n",
        "\n",
        "# matplotlibのインポート\n",
        "import matplotlib.pyplot as plt\n",
        "\n",
        "# 折れ線グラフの作成\n",
        "plt.plot(x, y)\n",
        "\n",
        "# 横軸の表示領域の指定\n",
        "plt.xlim(0,29)\n",
        "\n",
        "# 縦軸の表示領域の指定\n",
        "plt.ylim(0,)\n",
        "\n",
        "# グラフの表示\n",
        "plt.show()"
      ],
      "execution_count": null,
      "outputs": []
    },
    {
      "cell_type": "markdown",
      "metadata": {
        "id": "ZIPytk4hFI7r"
      },
      "source": [
        "### 3-3.ブッキングカーブの評価"
      ]
    },
    {
      "cell_type": "markdown",
      "metadata": {
        "id": "__rDj-qfF3eO"
      },
      "source": [
        "```\n",
        "from sklearn import metrics\n",
        "metrics.mean_absolute_error(数値配列1, 数値配列2)\n",
        "```"
      ]
    },
    {
      "cell_type": "code",
      "metadata": {
        "id": "oZjsrpYiGAPm"
      },
      "source": [
        "# pandasのインポート\n",
        "import pandas as pd\n",
        "\n",
        "# データの読み込み\n",
        "df = pd.read_csv(\"booking_data.csv\", parse_dates=[\"予約受付日\",\"宿泊日\"])\n",
        "\n",
        "# 月・曜日データの作成\n",
        "df[\"宿泊月\"] = df[\"宿泊日\"].apply(lambda x: x.strftime('%m'))\n",
        "df[\"宿泊曜日\"] = df[\"宿泊日\"].apply(lambda x: x.strftime('%a'))\n",
        "df[\"予約受付曜日\"] = df[\"予約受付日\"].apply(lambda x: x.strftime('%a'))\n",
        "\n",
        "# datetimeのインポート\n",
        "import datetime as dt\n",
        "\n",
        "# 宿泊日の指定\n",
        "str_date1 = \"2019-08-25\"\n",
        "str_date2 = \"2019-04-27\"\n",
        "str_date3 = \"2019-11-11\"\n",
        "\n",
        "# 宿泊日の日時型オブジェクトの作成\n",
        "dt_date1 = pd.Timestamp(str_date1)\n",
        "dt_date2 = pd.Timestamp(str_date2)\n",
        "dt_date3 = pd.Timestamp(str_date3)\n",
        "\n",
        "# 予約受付開始日から宿泊日前日までの連続する日付の作成\n",
        "new_index1 = pd.date_range(start=dt_date1 - dt.timedelta(days=30), end=dt_date1 - dt.timedelta(days=1), freq='D')\n",
        "new_index2 = pd.date_range(start=dt_date2 - dt.timedelta(days=30), end=dt_date2 - dt.timedelta(days=1), freq='D')\n",
        "new_index3 = pd.date_range(start=dt_date3 - dt.timedelta(days=30), end=dt_date3 - dt.timedelta(days=1), freq='D')\n",
        "\n",
        "# 累計の予約数の作成\n",
        "vcc1 = df[df[\"宿泊日\"] == dt_date1][\"予約受付日\"].value_counts().reindex(new_index1, fill_value=0).sort_index().cumsum().reset_index(drop=True)\n",
        "vcc2 = df[df[\"宿泊日\"] == dt_date2][\"予約受付日\"].value_counts().reindex(new_index2, fill_value=0).sort_index().cumsum().reset_index(drop=True)\n",
        "vcc3 = df[df[\"宿泊日\"] == dt_date3][\"予約受付日\"].value_counts().reindex(new_index3, fill_value=0).sort_index().cumsum().reset_index(drop=True)\n",
        "\n",
        "# numpyのインポート\n",
        "import numpy as np\n",
        "\n",
        "# 0から29までの連番と0から20を28等分した数値の作成\n",
        "x = np.linspace(0,29,30)\n",
        "tmp_y = np.linspace(0,20,28)\n",
        "\n",
        "# 理想的なブッキングカーブの作成\n",
        "y = np.append(tmp_y, [20,20])\n",
        "\n",
        "# グラフの作成\n",
        "import matplotlib.pyplot as plt\n",
        "vcc1.plot(label=str_date1)\n",
        "vcc2.plot(label=str_date2)\n",
        "vcc3.plot(label=str_date3)\n",
        "plt.plot(x, y, label=\"理想的なブッキングカーブ\")\n",
        "plt.title(\"ブッキングカーブ\")\n",
        "plt.xlabel(\"予約受付開始からの経過日数\")\n",
        "plt.ylabel(\"予約された部屋の数\")\n",
        "plt.ylim(0,)\n",
        "plt.grid()\n",
        "plt.legend()\n",
        "plt.show()\n",
        "\n",
        "# sklearn.metricsのインポート\n",
        "from sklearn import metrics\n",
        "\n",
        "# 理想的なブッキングカーブとのMAEの算出\n",
        "print(metrics.mean_absolute_error(y, vcc1))\n",
        "print(metrics.mean_absolute_error(y, vcc2))\n",
        "print(metrics.mean_absolute_error(y, vcc3))"
      ],
      "execution_count": null,
      "outputs": []
    },
    {
      "cell_type": "markdown",
      "metadata": {
        "id": "bZumUineG2xY"
      },
      "source": [
        "# [4] 価格の調整"
      ]
    },
    {
      "cell_type": "markdown",
      "metadata": {
        "id": "ix8LP6C-G20E"
      },
      "source": [
        "## 1.価格調整方針の設計"
      ]
    },
    {
      "cell_type": "markdown",
      "metadata": {
        "id": "vy40-n8JGQ6z"
      },
      "source": [
        "### 1-1.価格調整方針の設計"
      ]
    },
    {
      "cell_type": "markdown",
      "metadata": {
        "id": "e8tUPOJBGV7S"
      },
      "source": [
        "**基本方針**\n",
        "```\n",
        "*   理想のブッキングカーブを上回るペースで予約が入っている、つまり部屋が早めに売り切れそうな場合は、宿泊料金を上げる\n",
        "*   理想のブッキングカーブを下回るペースでしか予約が入っていない、つまり部屋が余りそうな場合は、宿泊料金を下げる\n",
        "*   理想のブッキングカーブに沿って予約が入っている場合、宿泊料金は維持する。\n",
        "```\n",
        "**適用条件**\n",
        "```\n",
        "*   価格変更が簡単\n",
        "*   在庫が希少\n",
        "*   顧客の理解\n",
        "```\n",
        "**予約傾向**\n",
        "```\n",
        "*   宿泊日が7,8月の場合は予約が多い\n",
        "*   宿泊日が金土の場合は予約が非常に多い\n",
        "*   土日は予約の申し込みが多い\n",
        "```\n",
        "\n",
        "\n"
      ]
    },
    {
      "cell_type": "markdown",
      "metadata": {
        "id": "Z0TPboXXG22r"
      },
      "source": [
        "## 2.価格決定関数の作成"
      ]
    },
    {
      "cell_type": "markdown",
      "metadata": {
        "id": "bDqcOpzzHJd9"
      },
      "source": [
        "### 2-1.関数の基本構造"
      ]
    },
    {
      "cell_type": "markdown",
      "metadata": {
        "id": "1Po-qGlEHSS9"
      },
      "source": [
        "**関数の基本的な書き方**\n",
        "```\n",
        "def 関数名(引数1,引数2, ...):\n",
        "   処理\n",
        "   return 戻り値\n",
        "```"
      ]
    },
    {
      "cell_type": "markdown",
      "metadata": {
        "id": "kptj8O5QIsvN"
      },
      "source": [
        "### 2-2.条件分岐と演算子"
      ]
    },
    {
      "cell_type": "markdown",
      "metadata": {
        "id": "8aXlqzFFImpm"
      },
      "source": [
        "```\n",
        "if 条件1:\n",
        "   条件1を満たしたときの処理\n",
        "elif 条件2:\n",
        "   条件1を満たさず、条件2を満たしたときの処理\n",
        "else:\n",
        "   条件1も条件2も満たさなかったときの処理\n",
        "```\n",
        "**比較演算子**\n",
        "```\n",
        "比較演算子\t説明\n",
        "a == b\ta が b と等しい\n",
        "a != b\ta が b と異なる\n",
        "a > b\ta が b よりも大きい\n",
        "a < b\ta が b よりも小さい\n",
        "a >= b\ta が b 以上\n",
        "a <= b\ta が b 以下\n",
        "```\n",
        "**数学と英語のテストの点数が両方とも60点以上であれば合格、という条件の場合**\n",
        "```\n",
        "if math_score >= 60 and english_score >= 60:\n",
        "    print(\"合格\")\n",
        "else:\n",
        "    print(\"不合格\")\n",
        "```"
      ]
    },
    {
      "cell_type": "markdown",
      "metadata": {
        "id": "mgmQ8cmoIYdN"
      },
      "source": [
        "### 2-3.初期価格決定関数の作成"
      ]
    },
    {
      "cell_type": "markdown",
      "metadata": {
        "id": "QggCbxEZG246"
      },
      "source": [
        "# [5] 運用"
      ]
    },
    {
      "cell_type": "markdown",
      "metadata": {
        "id": "QcU0qDcyHHUo"
      },
      "source": [
        "## 1.運用結果の確認"
      ]
    }
  ]
}