{
  "nbformat": 4,
  "nbformat_minor": 0,
  "metadata": {
    "colab": {
      "name": "Dynamic_Pricing.ipynb",
      "provenance": [],
      "collapsed_sections": [],
      "toc_visible": true,
      "authorship_tag": "ABX9TyOhTPE/txnIGu3kKBa6atWO"
    },
    "kernelspec": {
      "name": "python3",
      "display_name": "Python 3"
    },
    "language_info": {
      "name": "python"
    }
  },
  "cells": [
    {
      "cell_type": "markdown",
      "metadata": {
        "id": "jCalLBj9GGA9"
      },
      "source": [
        "# ダイナミックプライシング"
      ]
    },
    {
      "cell_type": "markdown",
      "metadata": {
        "id": "D44T40qcGGDs"
      },
      "source": [
        "# [1] ダイナミックプライシング"
      ]
    },
    {
      "cell_type": "markdown",
      "metadata": {
        "id": "V3VVqImfGGFo"
      },
      "source": [
        "## 1.ダイナミックプライシングとは？"
      ]
    },
    {
      "cell_type": "markdown",
      "metadata": {
        "id": "Xw4wvwYwGGH-"
      },
      "source": [
        "# [2] データの分析"
      ]
    },
    {
      "cell_type": "markdown",
      "metadata": {
        "id": "gCcsHzF-GGKF"
      },
      "source": [
        "## 1.データの読み込み"
      ]
    },
    {
      "cell_type": "markdown",
      "metadata": {
        "id": "PYOaxlcZGGMU"
      },
      "source": [
        "## 2.データの確認"
      ]
    },
    {
      "cell_type": "markdown",
      "metadata": {
        "id": "1_FuZ2eEGGOo"
      },
      "source": [
        "## 3.データの精査"
      ]
    },
    {
      "cell_type": "markdown",
      "metadata": {
        "id": "Q27BXA3eGiOV"
      },
      "source": [
        "## 4.変数の分布の確認"
      ]
    },
    {
      "cell_type": "markdown",
      "metadata": {
        "id": "x9AR_lIrGiQ5"
      },
      "source": [
        "# [3] ブッキングカーブ"
      ]
    },
    {
      "cell_type": "markdown",
      "metadata": {
        "id": "4-8ttcOzGiTz"
      },
      "source": [
        "## 1.ブッキングカーブとは？"
      ]
    },
    {
      "cell_type": "markdown",
      "metadata": {
        "id": "d2JoUM6sGiWS"
      },
      "source": [
        "## 2.ブッキングカーブの作成"
      ]
    },
    {
      "cell_type": "markdown",
      "metadata": {
        "id": "kPiQzxtgGiYt"
      },
      "source": [
        "## 3.ブッキングカーブの比較・評価"
      ]
    },
    {
      "cell_type": "markdown",
      "metadata": {
        "id": "bZumUineG2xY"
      },
      "source": [
        "# [4] 価格の調整"
      ]
    },
    {
      "cell_type": "markdown",
      "metadata": {
        "id": "ix8LP6C-G20E"
      },
      "source": [
        "## 1.価格調整方針の設計"
      ]
    },
    {
      "cell_type": "markdown",
      "metadata": {
        "id": "Z0TPboXXG22r"
      },
      "source": [
        "## 2.価格決定関数の作成"
      ]
    },
    {
      "cell_type": "markdown",
      "metadata": {
        "id": "QggCbxEZG246"
      },
      "source": [
        "# [5] 運用"
      ]
    },
    {
      "cell_type": "markdown",
      "metadata": {
        "id": "QcU0qDcyHHUo"
      },
      "source": [
        "## 1.運用結果の確認"
      ]
    }
  ]
}