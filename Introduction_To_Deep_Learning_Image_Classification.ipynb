{
  "nbformat": 4,
  "nbformat_minor": 0,
  "metadata": {
    "colab": {
      "name": "Introduction_To_Deep_Learning_Image_Classification.ipynb",
      "provenance": [],
      "collapsed_sections": [],
      "toc_visible": true,
      "authorship_tag": "ABX9TyNyjXVCkZG/RibyzCQI8pVu",
      "include_colab_link": true
    },
    "kernelspec": {
      "name": "python3",
      "display_name": "Python 3"
    },
    "language_info": {
      "name": "python"
    }
  },
  "cells": [
    {
      "cell_type": "markdown",
      "metadata": {
        "id": "view-in-github",
        "colab_type": "text"
      },
      "source": [
        "<a href=\"https://colab.research.google.com/github/naoya5614/Kaggle/blob/main/Introduction_To_Deep_Learning_Image_Classification.ipynb\" target=\"_parent\"><img src=\"https://colab.research.google.com/assets/colab-badge.svg\" alt=\"Open In Colab\"/></a>"
      ]
    },
    {
      "cell_type": "markdown",
      "metadata": {
        "id": "MTCJuJlBDiRK"
      },
      "source": [
        "# DeepLearning入門〜画像分類編〜"
      ]
    },
    {
      "cell_type": "markdown",
      "metadata": {
        "id": "iOhd6_WsDiUA"
      },
      "source": [
        "# [1] 画像処理"
      ]
    },
    {
      "cell_type": "markdown",
      "metadata": {
        "id": "CMxv3ItyDiWA"
      },
      "source": [
        "## 1.画像処理の基礎"
      ]
    },
    {
      "cell_type": "markdown",
      "metadata": {
        "id": "-YZ6x0-gJyCE"
      },
      "source": [
        "### 1-1.ライブラリのインポート"
      ]
    },
    {
      "cell_type": "markdown",
      "metadata": {
        "id": "zyH_qpRXJyEm"
      },
      "source": [
        "**Pythonにおける代表的な画像処理ライブラリ**\n",
        "\n",
        "```\n",
        "*   scikit-image\n",
        "*   pillow\n",
        "*   opencv\n",
        "```\n",
        "**画像分析で役立つモジュール**\n",
        "\n",
        "```\n",
        "*   io : 主に画像読み込み関連\n",
        "*   transform : 画像操作関連\n",
        "```\n",
        "**上記のような、ライブラリのscikit-image内のモジュールをインポートする場合**\n",
        "\n",
        "```\n",
        "from skimage import モジュール名\n",
        "```\n",
        "\n",
        "\n",
        "\n"
      ]
    },
    {
      "cell_type": "code",
      "metadata": {
        "id": "RX-svippKn6r"
      },
      "source": [
        "# ioモジュールのインポート\n",
        "from skimage import io\n",
        "\n",
        "# transformモジュールのインポート\n",
        "from skimage import transform"
      ],
      "execution_count": null,
      "outputs": []
    },
    {
      "cell_type": "markdown",
      "metadata": {
        "id": "l05dq5XbKybt"
      },
      "source": [
        "### 1-2.画像を読み込んでみよう"
      ]
    },
    {
      "cell_type": "markdown",
      "metadata": {
        "id": "kxQIEsv8K3nP"
      },
      "source": [
        "**画像処理に必要な画像を読み込む**\n",
        "\n",
        "```\n",
        "io.imread()\n",
        "```\n",
        "**ファイルデータを読み込む**\n",
        "\n",
        "```\n",
        "io.imread('ファイル名')\n",
        "```\n",
        "**読み込んだデータは変数に代入**\n",
        "\n",
        "```\n",
        "変数名 = io.imread(“ファイル名”)\n",
        "```\n",
        "\n",
        "\n",
        "\n"
      ]
    },
    {
      "cell_type": "code",
      "metadata": {
        "id": "GjO0PnMYLVFa"
      },
      "source": [
        "# ioモジュールのインポート\n",
        "from skimage import io\n",
        "\n",
        "# 画像の読み込んで画像の中身を確認する\n",
        "img = io.imread('cat.jpg')\n",
        "print(img)\n",
        "print(type(img))"
      ],
      "execution_count": null,
      "outputs": []
    },
    {
      "cell_type": "markdown",
      "metadata": {
        "id": "Pv9J0_-fLZDT"
      },
      "source": [
        "### 1-3.画像の大きさの確認"
      ]
    },
    {
      "cell_type": "markdown",
      "metadata": {
        "id": "MGi2QbnULewZ"
      },
      "source": [
        "**画像の大きさを確認する**\n",
        "\n",
        "```\n",
        "画像配列.shape\n",
        "# 出力は(高さ, 幅, チャンネル数)\n",
        "```\n",
        "\n"
      ]
    },
    {
      "cell_type": "code",
      "metadata": {
        "id": "YTgnk38lLteM"
      },
      "source": [
        "# ライブラリのインポート\n",
        "from skimage import io\n",
        "\n",
        "# 画像の読み込み\n",
        "img = io.imread(\"cat.jpg\")\n",
        "\n",
        "# 画像の大きさを確認\n",
        "print(img.shape)"
      ],
      "execution_count": null,
      "outputs": []
    },
    {
      "cell_type": "markdown",
      "metadata": {
        "id": "qNICnYBsLwOA"
      },
      "source": [
        "### 1-4.カラー画像を表示してみよう"
      ]
    },
    {
      "cell_type": "code",
      "metadata": {
        "id": "cmprpyWBMVJ5"
      },
      "source": [
        "from skimage import io\n",
        "\n",
        "# 画像の読み込み\n",
        "img = io.imread(\"cat.jpg\")\n",
        "# 画像の大きさ確認\n",
        "print(img.shape)"
      ],
      "execution_count": null,
      "outputs": []
    },
    {
      "cell_type": "markdown",
      "metadata": {
        "id": "_EuRq9V1MRCj"
      },
      "source": [
        "### 1-5.画像を表示してみよう"
      ]
    },
    {
      "cell_type": "markdown",
      "metadata": {
        "id": "6NMHMV8nMdlC"
      },
      "source": [
        "**読み込んだ画像を表示する**\n",
        "\n",
        "```\n",
        "pyplot.imshow()\n",
        "\n",
        "pyplot.imshow(変数名)\n",
        "```\n",
        "\n"
      ]
    },
    {
      "cell_type": "code",
      "metadata": {
        "id": "XsaJdVl2M0j6"
      },
      "source": [
        "# pltのインポート\n",
        "from matplotlib import pyplot as plt\n",
        "\n",
        "from skimage import io\n",
        "\n",
        "# 画像の読み込み\n",
        "img = io.imread(\"cat.jpg\")\n",
        "\n",
        "# 画像の表示\n",
        "plt.imshow(img)\n",
        "plt.show()"
      ],
      "execution_count": null,
      "outputs": []
    },
    {
      "cell_type": "markdown",
      "metadata": {
        "id": "XeBV6EccM29s"
      },
      "source": [
        "### 1-6.複数の画像を表示してみよう"
      ]
    },
    {
      "cell_type": "markdown",
      "metadata": {
        "id": "eH_ISTcIM8Ph"
      },
      "source": [
        "**複数の画像を並べて表示する**\n",
        "\n",
        "```\n",
        "subplot(縦に並べるプロットの数, 横に並べるプロットの数, プロット番号(何番目のプロットか))\n",
        "\n",
        "# 1行3列の1番目\n",
        "plt.subplot(1,3,1)\n",
        "plt.text(0.5,0.5,\"1\")\n",
        "\n",
        "# 1行3列の2番目\n",
        "plt.subplot(1,3,2)\n",
        "plt.text(0.5,0.5,\"2\")\n",
        "\n",
        "# 1行3列の3番目\n",
        "plt.subplot(1,3,3)\n",
        "plt.text(0.5,0.5,\"3\")\n",
        "```\n",
        "\n"
      ]
    },
    {
      "cell_type": "code",
      "metadata": {
        "id": "yfAhGKMTNbO9"
      },
      "source": [
        "from skimage import io\n",
        "import matplotlib.pyplot as plt\n",
        "\n",
        "img = io.imread('cat.jpg')\n",
        "\n",
        "# 1行3列の複数画像の出力\n",
        "\n",
        "# 1行3列の1番目\n",
        "plt.subplot(1,3,1)\n",
        "plt.imshow(img)\n",
        "\n",
        "# 1行3列の2番目\n",
        "plt.subplot(1,3,2)\n",
        "plt.imshow(img)\n",
        "\n",
        "# 1行3列の3番目\n",
        "plt.subplot(1,3,3)\n",
        "plt.imshow(img)\n",
        "\n",
        "plt.show()"
      ],
      "execution_count": null,
      "outputs": []
    },
    {
      "cell_type": "markdown",
      "metadata": {
        "id": "tgIyqWH_DiZI"
      },
      "source": [
        "## 2.反転・回転・移動"
      ]
    },
    {
      "cell_type": "markdown",
      "metadata": {
        "id": "kBayWsyNPuaR"
      },
      "source": [
        "### 2-1.画像を切り出してみよう"
      ]
    },
    {
      "cell_type": "markdown",
      "metadata": {
        "id": "evKCdKXGP0Nw"
      },
      "source": [
        "**画像の読み込み**\n",
        "```\n",
        "変数A = io.imread(\"サンプル画像.jpg\")\n",
        "```\n",
        "**画像の切り出しを行う**\n",
        "\n",
        "```\n",
        "変数A[縦軸始点:縦軸終点, 横軸始点:横軸終点]\n",
        "```\n",
        "**縦軸のみを切り出したい場合**\n",
        "\n",
        "```\n",
        "変数A[50:100]\n",
        "```\n",
        "**横軸のみを切り出したい場合**\n",
        "```\n",
        "変数A[  :  ,  50:100]\n",
        "```\n",
        "\n"
      ]
    },
    {
      "cell_type": "code",
      "metadata": {
        "id": "-23XKhy2Rl2v"
      },
      "source": [
        "# ライブラリのインポート\n",
        "from matplotlib import pyplot as plt\n",
        "from skimage import io\n",
        "\n",
        "# 画像読み込み\n",
        "img = io.imread(\"cat.jpg\")\n",
        "\n",
        "# 画像切り出し\n",
        "img_trim = img[100:300,200:400]\n",
        "\n",
        "# 切り出した画像表示\n",
        "plt.imshow(img_trim)\n",
        "plt.show()"
      ],
      "execution_count": null,
      "outputs": []
    },
    {
      "cell_type": "markdown",
      "metadata": {
        "id": "6gHsNuSWRsro"
      },
      "source": [
        "### 2-2.画像を反転してみよう"
      ]
    },
    {
      "cell_type": "markdown",
      "metadata": {
        "id": "MaB9tyHqR9mM"
      },
      "source": [
        "**画像を反転**\n",
        "```\n",
        "配列[::-1]\n",
        "```\n",
        "**垂直反転（上下反転）**\n",
        "```\n",
        "画像配列[::-1,:]\n",
        "```\n",
        "\n",
        "\n"
      ]
    },
    {
      "cell_type": "code",
      "metadata": {
        "id": "RjPabgFESYWT"
      },
      "source": [
        "# 配列の定義\n",
        "tmp = np.array([1,2,3,4,5])\n",
        "# 配列の表示\n",
        "print(tmp)\n",
        "# 反転した配列の表示\n",
        "print(tmp[::-1])\n",
        "\n",
        "# 画像の読み込み\n",
        "img = io.imread(\"cat.jpg\")\n",
        "# 画像の反転\n",
        "img_inv = img[:,::-1]\n",
        "\n",
        "# 画像の複数表示\n",
        "plt.subplot(1,2,1)\n",
        "plt.imshow(img)\n",
        "plt.subplot(1,2,2)\n",
        "plt.imshow(img_inv)\n",
        "\n",
        "plt.show()"
      ],
      "execution_count": null,
      "outputs": []
    },
    {
      "cell_type": "markdown",
      "metadata": {
        "id": "-ZLPST1USfS-"
      },
      "source": [
        "### 2-3.画像をリサイズしてみよう"
      ]
    },
    {
      "cell_type": "markdown",
      "metadata": {
        "id": "JtJLWDu1SkGg"
      },
      "source": [
        "**画像のサイズを変更する**\n",
        "\n",
        "```\n",
        "transform.resize(画像配列, output_shape=(高さ, 幅))\n",
        "```"
      ]
    },
    {
      "cell_type": "code",
      "metadata": {
        "id": "q2VSja8XStRQ"
      },
      "source": [
        "# transformのインポート\n",
        "from skimage import transform\n",
        "\n",
        "# 画像の読み込み\n",
        "img = io.imread(\"cat.jpg\")\n",
        "# 画像のリサイズ\n",
        "img_resize = transform.resize(img,output_shape=(100,100))\n",
        "# 画像の表示\n",
        "plt.imshow(img_resize)\n",
        "plt.show()"
      ],
      "execution_count": null,
      "outputs": []
    },
    {
      "cell_type": "markdown",
      "metadata": {
        "id": "D9_8fTerSzIb"
      },
      "source": [
        "### 2-4.画像を回転させてみよう"
      ]
    },
    {
      "cell_type": "markdown",
      "metadata": {
        "id": "-OlqDRCpS7AV"
      },
      "source": [
        "**画像を回転させる**\n",
        "```\n",
        "from skimage import transform\n",
        "transform.rotate(画像配列, angle=角度)\n",
        "\n",
        "transform.rotate(image, angle=45)\n",
        "```\n",
        "\n"
      ]
    },
    {
      "cell_type": "code",
      "metadata": {
        "id": "WbqwOMpZTFro"
      },
      "source": [
        "from skimage import transform\n",
        "\n",
        "# 画像の読み込み\n",
        "img = io.imread(\"cat.jpg\")\n",
        "# 画像の回転\n",
        "img_rotate = transform.rotate(img,angle=90)\n",
        "# 画像の表示\n",
        "plt.imshow(img_rotate)\n",
        "plt.show()"
      ],
      "execution_count": null,
      "outputs": []
    },
    {
      "cell_type": "markdown",
      "metadata": {
        "id": "Kj7luOrPTNCJ"
      },
      "source": [
        "### 2-5.画像を平行移動させてみよう"
      ]
    },
    {
      "cell_type": "markdown",
      "metadata": {
        "id": "atSnRBMmTSYJ"
      },
      "source": [
        "**アフィン変換**\n",
        "```\n",
        "画像のリサイズや回転、平行移動などの変換。\n",
        "```\n",
        "**画像の平行移動を行う**\n",
        "\n",
        "```\n",
        "from skimage import transform\n",
        "変数 = transform.AffineTransform(translation=(左方向に動かす大きさ, 上方向に動かす大きさ))\n",
        "transform.warp(画像配列, 変数)\n",
        "```\n",
        "\n",
        "\n"
      ]
    },
    {
      "cell_type": "code",
      "metadata": {
        "id": "C0EoMSwRT1M2"
      },
      "source": [
        "from skimage import transform\n",
        "\n",
        "# 画像の読み込み\n",
        "img = io.imread(\"cat.jpg\")\n",
        "# 移動位置の定義\n",
        "rot = transform.AffineTransform(translation=(40,40))\n",
        "\n",
        "# 画像の移動\n",
        "img_affine = transform.warp(img,rot)\n",
        "\n",
        "# 画像の表示\n",
        "plt.imshow(img_affine)\n",
        "plt.show()"
      ],
      "execution_count": null,
      "outputs": []
    },
    {
      "cell_type": "markdown",
      "metadata": {
        "id": "Cuvj3xhkDicf"
      },
      "source": [
        "# [2] ニューラルネットワーク"
      ]
    },
    {
      "cell_type": "markdown",
      "metadata": {
        "id": "Ds4w2cwRDieu"
      },
      "source": [
        "## 1.画像データの確認"
      ]
    },
    {
      "cell_type": "markdown",
      "metadata": {
        "id": "rB4IePyKR4L6"
      },
      "source": [
        "### 1-1.画像データの読み込み"
      ]
    },
    {
      "cell_type": "markdown",
      "metadata": {
        "id": "o7XmMFFgR4a9"
      },
      "source": [
        "**プログラムで複数画像を読み込む**\n",
        "```\n",
        "1.   全ての画像のファイル名を取得する\n",
        "2.   ファイルを一つずつ読み込む\n",
        "```\n",
        "**全ての画像のファイル名を取得する**\n",
        "```\n",
        "import glob\n",
        "files = glob.glob(\"sample_dir/*\")\n",
        "```\n",
        "**ファイル名を一つずつ取り出し、一つずつ画像を読み込む**\n",
        "```\n",
        "for fname in files:\n",
        "    # 画像の読み込み\n",
        "```\n",
        "\n",
        "\n",
        "\n",
        "\n"
      ]
    },
    {
      "cell_type": "code",
      "metadata": {
        "id": "JdiA7zVaTG_G"
      },
      "source": [
        "# ライブラリのインポート\n",
        "import numpy as np\n",
        "from skimage import io\n",
        "import glob\n",
        "\n",
        "# ファイル名取り出し\n",
        "files = glob.glob(\"train_*.jpg\")\n",
        "\n",
        "#画像読み込み\n",
        "train_imgs = []\n",
        "for fname in files:\n",
        "    \n",
        "    # 画像読み込み\n",
        "    img = io.imread(fname)\n",
        "    \n",
        "    # train_imgsに今読み込んだ画像を格納\n",
        "    train_imgs.append(img)\n",
        "\n",
        "# train_imgsの型を出力\n",
        "print(type(train_imgs))\n",
        "\n",
        "# train_imgsをNumPy配列化し、その型と形状を出力\n",
        "train_imgs = np.array(train_imgs)\n",
        "print(type(train_imgs), train_imgs.shape)"
      ],
      "execution_count": null,
      "outputs": []
    },
    {
      "cell_type": "markdown",
      "metadata": {
        "id": "pjd6SsTDTKTS"
      },
      "source": [
        "### 1-2.読み込んだ画像の可視化"
      ]
    },
    {
      "cell_type": "code",
      "metadata": {
        "id": "vsOofxmKTTre"
      },
      "source": [
        "# ライブラリのインポート\n",
        "from matplotlib import pyplot as plt\n",
        "import numpy as np\n",
        "from skimage import io\n",
        "import glob\n",
        "\n",
        "# ファイル名の取り出し\n",
        "files = (glob.glob(\"train_*.jpg\"))\n",
        "\n",
        "# 画像の読み込み\n",
        "train_imgs = []\n",
        "for fname in files:\n",
        "    img = io.imread(fname)\n",
        "    train_imgs.append(img)\n",
        "train_imgs = np.array(train_imgs)\n",
        "\n",
        "# 画像表示\n",
        "plt.figure(figsize=(12,5))\n",
        "for i in range(10):\n",
        "    \n",
        "    # 2行5列のi+1番目の画像を設定\n",
        "    plt.subplot(2,5,i+1)\n",
        "    \n",
        "    # 画像の表示\n",
        "    plt.imshow(train_imgs[i])\n",
        "\n",
        "plt.show()"
      ],
      "execution_count": null,
      "outputs": []
    },
    {
      "cell_type": "markdown",
      "metadata": {
        "id": "C3ogMlx7TgBx"
      },
      "source": [
        "### 1-3.画像データの画素値の正規化"
      ]
    },
    {
      "cell_type": "code",
      "metadata": {
        "id": "GdfOS59vTsiX"
      },
      "source": [
        "# train_imgsを正規化\n",
        "train_imgs = train_imgs / 255\n",
        "\n",
        "# train_imgsを出力\n",
        "print(train_imgs)"
      ],
      "execution_count": null,
      "outputs": []
    },
    {
      "cell_type": "markdown",
      "metadata": {
        "id": "Ivihsy2JTqe7"
      },
      "source": [
        "### 1-4.目的変数であるラベルデータのone-hot-encoding"
      ]
    },
    {
      "cell_type": "markdown",
      "metadata": {
        "id": "i8Fl3p3cT-uL"
      },
      "source": [
        "**ラベルをone-hot-encoding形式で作成する**\n",
        "```\n",
        "one-hot変数 = pandas.get_dummies(ラベルのリスト)\n",
        "```\n"
      ]
    },
    {
      "cell_type": "code",
      "metadata": {
        "id": "efMDVHqDULRr"
      },
      "source": [
        "# ライブラリのインポート\n",
        "import pandas as pd\n",
        "import glob\n",
        "\n",
        "# 画像のファイル名を取得\n",
        "files = (glob.glob(\"train_*.jpg\"))\n",
        "\n",
        "labels=[]\n",
        "for fname in files:\n",
        "    labels.append(fname.split(\"_\")[1])\n",
        "\n",
        "# one-hot-encoding\n",
        "labels_dummy = pd.get_dummies(labels)\n",
        "print(labels_dummy)"
      ],
      "execution_count": null,
      "outputs": []
    },
    {
      "cell_type": "markdown",
      "metadata": {
        "id": "2HZC9EbVURLP"
      },
      "source": [
        "### 1-5.学習パラメータの評価の為に、学習データを２つに分割しましょう"
      ]
    },
    {
      "cell_type": "markdown",
      "metadata": {
        "id": "CoMvdXVuUaYq"
      },
      "source": [
        "**numpyで学習データを訓練用と検証用に分割する**\n",
        "```\n",
        "numpy.split(元の配列, [何番目で分割するかの数値])\n",
        "```"
      ]
    },
    {
      "cell_type": "code",
      "metadata": {
        "id": "YN1kH7w2UuUD"
      },
      "source": [
        "import numpy as np\n",
        "\n",
        "# (1)\n",
        "X_tr, X_val = np.split(train_imgs,[8])\n",
        "# (2)\n",
        "y_tr, y_val = np.split(labels_dummy, [8])\n",
        "\n",
        "print(X_tr.shape, X_val.shape)\n",
        "print(y_tr.shape, y_val.shape)"
      ],
      "execution_count": null,
      "outputs": []
    },
    {
      "cell_type": "markdown",
      "metadata": {
        "id": "V9B4BLOFDihN"
      },
      "source": [
        "## 2.ニューラルネットワークの実装"
      ]
    },
    {
      "cell_type": "markdown",
      "metadata": {
        "id": "uPBGgAJAU3Uk"
      },
      "source": [
        "### 2-1.Kerasライブラリのインポート"
      ]
    },
    {
      "cell_type": "markdown",
      "metadata": {
        "id": "p-xa_mtPVDII"
      },
      "source": [
        "**Kerasを使用する上でよく使うモジュール**\n",
        "\n",
        "```\n",
        "keras.models内\n",
        "*   Sequential：モデルの箱を準備する\n",
        "\n",
        "keras.layers内\n",
        "*   Dense(X)：全結合層を意味し、Xはノード数を表す\n",
        "*   Activation('xxx')：活性化関数を意味し、xxxに活性化関数を記述する\n",
        "```\n",
        "**KerasからDenseモジュールをimportする**\n",
        "```\n",
        "from keras.layers import Dense\n",
        "```\n",
        "\n"
      ]
    },
    {
      "cell_type": "code",
      "metadata": {
        "id": "5rrvIUEQVgjW"
      },
      "source": [
        "# Sequentialのインポート\n",
        "from keras.models import Sequential\n",
        "\n",
        "# Dense , Activationのインポート\n",
        "from keras.layers import Dense \n",
        "from keras.layers import Activation"
      ],
      "execution_count": null,
      "outputs": []
    },
    {
      "cell_type": "markdown",
      "metadata": {
        "id": "2Y9Oz5KcVp_f"
      },
      "source": [
        "### 2-1.モデルの定義"
      ]
    },
    {
      "cell_type": "markdown",
      "metadata": {
        "id": "cIPL_KFRVvNd"
      },
      "source": [
        "**ニューラルネットワークのモデル構造を定義する**\n",
        "```\n",
        "1.   model = Sequential()：モデルの箱を準備する\n",
        "2.   model.add(XXX)：add関数の中にモジュールを記述することで、ニューラルネットワークの構造を追加していく。また、input_shapeで入力層を定義する\n",
        "```\n",
        "\n"
      ]
    },
    {
      "cell_type": "code",
      "metadata": {
        "id": "kMpCN7iPWRjb"
      },
      "source": [
        "# ライブラリのインポート\n",
        "from keras.models import Sequential\n",
        "from keras.layers import Dense\n",
        "\n",
        "# モデルの定義\n",
        "model = Sequential()\n",
        "model.add(Dense(10, input_shape=(51,)))\n",
        "model.add(Dense(10))\n",
        "model.add(Dense(1))"
      ],
      "execution_count": null,
      "outputs": []
    },
    {
      "cell_type": "markdown",
      "metadata": {
        "id": "qOd44mQ8WbFe"
      },
      "source": [
        "### 2-2.活性化関数の追加"
      ]
    },
    {
      "cell_type": "markdown",
      "metadata": {
        "id": "WzMmFAm3WhuQ"
      },
      "source": [
        "**活性化関数の例**\n",
        "```\n",
        "*   tanh：ハイパボリックタンジェント関数\n",
        "*   relu：ランプ関数\n",
        "*   sigmoid：シグモイド関数\n",
        "```\n",
        "**活性関数を追加する**\n",
        "```\n",
        "定義したモデル.add(Activation(\"活性化関数\"))\n",
        "```"
      ]
    },
    {
      "cell_type": "code",
      "metadata": {
        "id": "vF7s5Mf-ab74"
      },
      "source": [
        "# ライブラリのインポート\n",
        "from keras.models import Sequential\n",
        "from keras.layers import Dense, Activation\n",
        "\n",
        "# 活性化関数の追加\n",
        "model = Sequential()\n",
        "model.add(Dense(10, input_shape=(51,)))\n",
        "model.add(Activation(\"tanh\"))\n",
        "model.add(Dense(10))\n",
        "model.add(Activation(\"relu\"))\n",
        "model.add(Dense(1))\n",
        "model.add(Activation(\"sigmoid\"))"
      ],
      "execution_count": null,
      "outputs": []
    },
    {
      "cell_type": "markdown",
      "metadata": {
        "id": "MKu8A6D5agq0"
      },
      "source": [
        "### 2-3.ニューラルネットワークの実装"
      ]
    },
    {
      "cell_type": "markdown",
      "metadata": {
        "id": "TKC0JMC3akk7"
      },
      "source": [
        "**活性化関数であるsoftmaxを追加する**\n",
        "```\n",
        "定義したモデル.add(Activation(\"softmax\"))\n",
        "```\n",
        "\n"
      ]
    },
    {
      "cell_type": "code",
      "metadata": {
        "id": "k5ooUMZBasAz"
      },
      "source": [
        "# ライブラリのインポート\n",
        "from keras.models import Sequential\n",
        "from keras.layers import Dense, Activation\n",
        "\n",
        "# 活性化関数の追加\n",
        "model = Sequential()\n",
        "# 中間層①\n",
        "model.add(Dense(150, input_shape=(101,)))\n",
        "model.add(Activation(\"sigmoid\"))\n",
        "# 中間層②\n",
        "model.add(Dense(200))\n",
        "model.add(Activation(\"tanh\"))\n",
        "# 中間層③\n",
        "model.add(Dense(100))\n",
        "model.add(Activation(\"relu\"))\n",
        "# 出力層④\n",
        "model.add(Dense(10))\n",
        "model.add(Activation(\"softmax\"))"
      ],
      "execution_count": null,
      "outputs": []
    },
    {
      "cell_type": "markdown",
      "metadata": {
        "id": "wfB_aA7KaxQ_"
      },
      "source": [
        "### 2-4.モデルの可視化"
      ]
    },
    {
      "cell_type": "markdown",
      "metadata": {
        "id": "tFgzwSCCa24m"
      },
      "source": [
        "**モデルの可視化をする**\n",
        "```\n",
        "model.summary()\n",
        "```\n"
      ]
    },
    {
      "cell_type": "code",
      "metadata": {
        "id": "MWjaxz-wbGeh"
      },
      "source": [
        "# ライブラリのインポート\n",
        "from keras.models import Sequential\n",
        "from keras.layers import Dense, Activation\n",
        "\n",
        "# ニューラルネットワークの定義\n",
        "model = Sequential()\n",
        "model.add(Dense(10, input_shape=(51,)))\n",
        "model.add(Activation(\"tanh\"))\n",
        "model.add(Dense(10))\n",
        "model.add(Activation(\"relu\"))\n",
        "model.add(Dense(1))\n",
        "model.add(Activation(\"sigmoid\"))\n",
        "\n",
        "# モデルの確認\n",
        "model.summary()"
      ],
      "execution_count": null,
      "outputs": []
    },
    {
      "cell_type": "markdown",
      "metadata": {
        "id": "c5xveRuSDijv"
      },
      "source": [
        "# [3] 畳み込みニューラルネットワーク"
      ]
    },
    {
      "cell_type": "markdown",
      "metadata": {
        "id": "eUlfQU_1D-wj"
      },
      "source": [
        "## 1.誤差評価"
      ]
    },
    {
      "cell_type": "markdown",
      "metadata": {
        "id": "YfNB1lGgdMr9"
      },
      "source": [
        "### 1-1.損失(誤差)関数"
      ]
    },
    {
      "cell_type": "markdown",
      "metadata": {
        "id": "OZeM4rltdT7H"
      },
      "source": [
        "**代表的な損失関数**\n",
        "```\n",
        "*   平均二乗和誤差(Mean Squared Error: MSE)\n",
        "回帰分析のように連続的な値をとるときには最もオーソドックスなMSEを用います\n",
        "*   ２値交差エントロピー誤差(Binary CrossEntropy: BCE)\n",
        "分類問題において２値の分類にはBCEを用います\n",
        "*   交差エントロピー誤差(Categorical CrossEntropy: CE)\n",
        "分類問題において多値の分類にはCEを用います\n",
        "```\n",
        "**kerasにおける損失関数**\n",
        "```\n",
        "from keras import losses\n",
        "model.compile(loss=losses.mean_squared_error, optimizer=SGD)\n",
        "```\n",
        "\n"
      ]
    },
    {
      "cell_type": "markdown",
      "metadata": {
        "id": "zkioT5Y8edJC"
      },
      "source": [
        "### 1-2.誤差を小さくするための手法1 勾配降下法"
      ]
    },
    {
      "cell_type": "markdown",
      "metadata": {
        "id": "J8htaTFLejlM"
      },
      "source": [
        "**代表的な３つの勾配降下法**\n",
        "```\n",
        "*   最急降下法\n",
        "全ての学習データを取り出して誤差を計算しパラメータを更新する。\n",
        "*   確率的勾配降下法\n",
        "一つの学習データを無作為に取り出して誤差を計算しパラメータを更新する。\n",
        "*   ミニバッチ確率的勾配降下法\n",
        "学習データから無作為に複数のデータの束(ミニバッチ)毎に取り出して誤差を計算しパラメータを更新する。\n",
        "```\n",
        "\n"
      ]
    },
    {
      "cell_type": "markdown",
      "metadata": {
        "id": "gx8JeRKFfFJw"
      },
      "source": [
        "### 1-3.誤差を小さくするための手法2 学習率の調整"
      ]
    },
    {
      "cell_type": "markdown",
      "metadata": {
        "id": "ssR8cIcsfQqV"
      },
      "source": [
        "**学習率を調整する式**\n",
        "```\n",
        "更新後の値　＝ 更新前の値 - 学習率 × 勾配の値\n",
        "```\n",
        "\n"
      ]
    },
    {
      "cell_type": "markdown",
      "metadata": {
        "id": "rwJwhADOfpqS"
      },
      "source": [
        "### 1-4.オプティマイザー(最適化)"
      ]
    },
    {
      "cell_type": "markdown",
      "metadata": {
        "id": "QRRFw5_5f9Pv"
      },
      "source": [
        "**オプティマイザーを設定する**\n",
        "```\n",
        "from keras.optimizers import SGD\n",
        "        …\n",
        "model.compile(loss=\"losses.mean_squared_error\", optimizer=SGD(lr=0.1))\n",
        "```"
      ]
    },
    {
      "cell_type": "markdown",
      "metadata": {
        "id": "OrSwysE3D-ua"
      },
      "source": [
        "## 2.CNNの実装"
      ]
    },
    {
      "cell_type": "markdown",
      "metadata": {
        "id": "NbANXvAngK_a"
      },
      "source": [
        "### 2-1.ライブラリのインポート"
      ]
    },
    {
      "cell_type": "markdown",
      "metadata": {
        "id": "kTxTO6iRgTY6"
      },
      "source": [
        "**CNNをkerasで実装するために重要となるライブラリ**\n",
        "```\n",
        "Conv2D: 2次元の畳み込み層を実装するためのライブラリ\n",
        "MaxPooling2D: 2次元のプーリング層を実装するためのライブラリ\n",
        "Flatten: 入力を平坦化（1次元に変換）するためのライブラリ\n",
        "```"
      ]
    },
    {
      "cell_type": "code",
      "metadata": {
        "id": "kZv_7hFVghDJ"
      },
      "source": [
        "# ライブラリのインポート\n",
        "from keras.layers import Conv2D\n",
        "from keras.layers import MaxPooling2D\n",
        "from keras.layers import Flatten"
      ],
      "execution_count": null,
      "outputs": []
    },
    {
      "cell_type": "markdown",
      "metadata": {
        "id": "a8ndFVAlgpUH"
      },
      "source": [
        "### 2-2.CNNモデルの定義"
      ]
    },
    {
      "cell_type": "markdown",
      "metadata": {
        "id": "TSP4nyhCgtX0"
      },
      "source": [
        "**モデルの定義**\n",
        "```\n",
        "model = Sequential()\n",
        "model.add(層)\n",
        "```\n",
        "**CNNモデルを定義する時に新しく使用するモジュール**\n",
        "```\n",
        "*   Conv2D(filters=フィルタサイズ, kernel_size=カーネルサイズ, input_shape=入力データのサイズ)\n",
        "*   MaxPooling2D(pool_size=プーリングサイズ)\n",
        "*   Flatten()\n",
        "```\n",
        "**Conv2D関数の引数**\n",
        "```\n",
        "*   filters: 出力フィルタの数\n",
        "*   kernel_size: 畳み込みフィルタのサイズ\n",
        "*   input_shape: 入力データのサイズ\n",
        "```\n",
        "**MaxPooling2D関数の引数**\n",
        "```\n",
        "*   pool_size:画像を圧縮する割合\n",
        "```\n",
        "**Flatten関数**\n",
        "```\n",
        "model.add(Flatten())\n",
        "```\n",
        "\n",
        "\n",
        "\n"
      ]
    },
    {
      "cell_type": "code",
      "metadata": {
        "id": "oqJeKak1hwtC"
      },
      "source": [
        "# ライブラリのインポート\n",
        "from keras.models import Sequential\n",
        "from keras.layers import Dense, Flatten, Activation\n",
        "from keras.layers import Conv2D, MaxPooling2D\n",
        "\n",
        "# モデルの定義\n",
        "model = Sequential()\n",
        "# 1. 畳み込み層(フィルタサイズ=6, カーネルサイズ=(3,3), 入力サイズ=(96,96,3)) \n",
        "model.add(Conv2D(filters=6, kernel_size=(3,3), input_shape=(96,96,3)))\n",
        "# 2. 活性化関数(Sigmoid) \n",
        "model.add(Activation(\"sigmoid\"))\n",
        "# 3. プーリング層(プーリングサイズ=(2,2))\n",
        "model.add(MaxPooling2D(pool_size=(2,2)))\n",
        "# 4. 畳み込み層(フィルタサイズ=12, カーネルサイズ=(3,3)) \n",
        "model.add(Conv2D(filters=12, kernel_size=(3,3)))\n",
        "# 5. 活性化関数(Sigmoid)  \n",
        "model.add(Activation(\"sigmoid\"))\n",
        "# 6. プーリング層(プーリングサイズ=(2,2)) \n",
        "model.add(MaxPooling2D(pool_size=(2,2)))\n",
        "# 7. 平坦化() \n",
        "model.add(Flatten())\n",
        "# 8. 全結合層(出力=120) \n",
        "model.add(Dense(units=120))\n",
        "# 9. 活性化関数(Sigmoid)\n",
        "model.add(Activation(\"sigmoid\"))\n",
        "# 10. 全結合層(出力=60) \n",
        "model.add(Dense(units=60))\n",
        "# 11. 活性化関数(Sigmoid) \n",
        "model.add(Activation(\"sigmoid\"))\n",
        "# 12. 全結合層(出力=4) \n",
        "model.add(Dense(units=4))\n",
        "# 13. 活性化関数(Softmax)\n",
        "model.add(Activation(\"softmax\"))\n",
        "\n",
        "# モデルの確認\n",
        "model.summary()"
      ],
      "execution_count": null,
      "outputs": []
    },
    {
      "cell_type": "markdown",
      "metadata": {
        "id": "xTqLQtN7h3_9"
      },
      "source": [
        "### 2-3.CNNモデルを学習させてみよう"
      ]
    },
    {
      "cell_type": "markdown",
      "metadata": {
        "id": "YD7WYZkZh940"
      },
      "source": [
        "**定義したモデルを学習させる**\n",
        "```\n",
        "モデル.compile(loss=損失関数, optimizer=オプティマイザ, metrics=評価関数)\n",
        "モデル.fit(学習用データ, 学習用ラベル, batch_size=バッチサイズ, epochs=繰り返し数, validation_data=(検証用データ, 検証用ラベル))\n",
        "```\n",
        "**学習に使用する損失関数、オプティマイザ、学習率、評価関数をモデルに指定する**\n",
        "```\n",
        "*   損失関数 : categorical_crossentropy\n",
        "*   オプティマイザ : Adam\n",
        "*   学習率 : 0.001\n",
        "*   評価関数 : accuracy\n",
        "```\n",
        "**上記の実装例**\n",
        "```\n",
        "モデル.compile(loss=\"categorical_crossentropy\",\n",
        "             optimizer=optimizers.Adam(lr=0.001),\n",
        "             metrics=[\"accuracy\"])\n",
        "```\n",
        "**データを実際に学習を行う**\n",
        "\n",
        "```\n",
        "*   学習用データ : X, 学習用ラベル : y\n",
        "*   バッチサイズ : 100\n",
        "*   エポック数 : 200\n",
        "*   検証用データ : X_val, 検証用ラベル : y_val\n",
        "```\n",
        "**上記のようなパラメータを持つモデル**\n",
        "```\n",
        "モデル.fit(X, y, batch_size=100, epochs=200, validation_data=(X_val, y_val))\n",
        "```\n",
        "\n",
        "\n",
        "\n",
        "\n"
      ]
    },
    {
      "cell_type": "code",
      "metadata": {
        "id": "WRE4R2Cii_g1"
      },
      "source": [
        "# ライブラリのインポート\n",
        "from keras.models import Sequential\n",
        "from keras.layers import Dense, Flatten, Activation\n",
        "from keras.layers import Conv2D, MaxPooling2D\n",
        "from keras import optimizers\n",
        "\n",
        "\n",
        "# モデルの定義\n",
        "model = Sequential()\n",
        "model.add(Conv2D(filters=6, kernel_size=(3,3), input_shape=(96,96,3)))\n",
        "model.add(Activation(\"sigmoid\"))\n",
        "model.add(MaxPooling2D(pool_size=(2,2)))\n",
        "model.add(Conv2D(filters=12, kernel_size=(3,3)))\n",
        "model.add(Activation(\"sigmoid\"))\n",
        "model.add(MaxPooling2D(pool_size=(2,2)))\n",
        "model.add(Flatten())\n",
        "model.add(Dense(units=120))\n",
        "model.add(Activation(\"sigmoid\"))\n",
        "model.add(Dense(units=60))\n",
        "model.add(Activation(\"sigmoid\"))\n",
        "model.add(Dense(units=4))\n",
        "model.add(Activation(\"softmax\"))\n",
        "\n",
        "# モデルの確認\n",
        "model.summary()\n",
        "\n",
        "model.compile(loss=\"categorical_crossentropy\", optimizer=optimizers.SGD(lr=0.5), metrics=[\"accuracy\"])\n",
        "\n",
        "history = model.fit(X_train, y_train,batch_size=10, epochs=5, validation_data=(X_val, y_val))"
      ],
      "execution_count": null,
      "outputs": []
    },
    {
      "cell_type": "markdown",
      "metadata": {
        "id": "ZSd16zuPjJWD"
      },
      "source": [
        "### 2-4.学習曲線を可視化してみよう"
      ]
    },
    {
      "cell_type": "code",
      "metadata": {
        "id": "TCHL8KpTjRrA"
      },
      "source": [
        "from matplotlib import pyplot as plt\n",
        "\n",
        "def learning_plot(history, epochs):\n",
        "    fig = plt.figure(figsize=(15,5))\n",
        "    # Lossの可視化\n",
        "    plt.subplot(1,2,1)\n",
        "    plt.plot(range(1,epochs+1), history.history['loss'])\n",
        "    plt.plot(range(1,epochs+1), history.history['val_loss'])\n",
        "    plt.title('model loss')\n",
        "    plt.xlabel('epoch')\n",
        "    plt.xticks(range(1,epochs+1))\n",
        "    plt.ylabel('loss')\n",
        "    plt.legend(['train', 'val'], loc='upper right')\n",
        "    \n",
        "    # 正解率(accuracy)の可視化\n",
        "    plt.subplot(1,2,2)\n",
        "    plt.plot(range(1,epochs+1), history.history['acc'])\n",
        "    plt.plot(range(1,epochs+1), history.history['val_acc'])\n",
        "    plt.title('model accuracy')\n",
        "    plt.xlabel('epoch')\n",
        "    plt.xticks(range(1,epochs+1))\n",
        "    plt.ylabel('accuracy')\n",
        "    plt.legend(['train', 'val'], loc='upper left')\n",
        "    plt.show()\n",
        "\n",
        "# 本来はfit関数でモデルをここで作成する必要がありますが、計算時間の制限の為、ここでは既にfit関数によって学習させたhistoryデータを提供します\n",
        "# 尚、本課題で提供しているhistoryと、下記で得られるhistory_logの中身は学習データの画像枚数が異なる為、違った中身となります\n",
        "# history_log = model.fit(X_train, y_train,\n",
        "#                     batch_size=100,\n",
        "#                     epochs=20,\n",
        "#                     validation_data=(X_val, y_val))\n",
        "\n",
        "n_epochs = 20\n",
        "learning_plot(history_log,epochs=n_epochs)"
      ],
      "execution_count": null,
      "outputs": []
    },
    {
      "cell_type": "markdown",
      "metadata": {
        "id": "8vsjBLV9jV6-"
      },
      "source": [
        "### 2-5.モデル改善【活性化関数を変更してみよう】"
      ]
    },
    {
      "cell_type": "code",
      "metadata": {
        "id": "gMHA7Ojfjigf"
      },
      "source": [
        "# ライブラリのインポート\n",
        "from matplotlib import pyplot as plt\n",
        "from keras.models import Sequential\n",
        "from keras.layers import Dense, Flatten, Activation\n",
        "from keras.layers import Conv2D, MaxPooling2D\n",
        "from keras import optimizers\n",
        "\n",
        "# モデルの定義\n",
        "model = Sequential()\n",
        "model.add(Conv2D(filters=6, kernel_size=(3,3), input_shape=(96,96,3)))\n",
        "model.add(Activation(\"relu\"))\n",
        "model.add(MaxPooling2D(pool_size=(2,2)))\n",
        "model.add(Conv2D(filters=12, kernel_size=(3,3)))\n",
        "model.add(Activation(\"relu\"))\n",
        "model.add(MaxPooling2D(pool_size=(2,2)))\n",
        "model.add(Flatten())\n",
        "model.add(Dense(units=120))\n",
        "model.add(Activation(\"relu\"))\n",
        "model.add(Dense(units=60))\n",
        "model.add(Activation(\"relu\"))\n",
        "model.add(Dense(units=4))\n",
        "model.add(Activation(\"softmax\"))\n",
        "\n",
        "# モデルの確認\n",
        "model.summary()\n",
        "\n",
        "model.compile(loss=\"categorical_crossentropy\",\n",
        "             optimizer=optimizers.SGD(lr=0.5),\n",
        "             metrics=[\"accuracy\"])\n",
        "\n",
        "#ここでhistory_logにはfit関数によって学習させた結果が代入されています。\n",
        "# history_log = model.fit(X_train, y_train,\n",
        "#                     batch_size=100,\n",
        "#                     epochs=20,\n",
        "#                     validation_data=(X_val, y_val))\n",
        "\n",
        "n_epochs = 20\n",
        "learning_plot(history_log,epochs=n_epochs)"
      ],
      "execution_count": null,
      "outputs": []
    },
    {
      "cell_type": "markdown",
      "metadata": {
        "id": "LyRNw2NbjsEv"
      },
      "source": [
        "### 2-6.モデル改善【学習率を変更してみよう】"
      ]
    },
    {
      "cell_type": "code",
      "metadata": {
        "id": "d5xN8JORju5T"
      },
      "source": [
        "# ライブラリのインポート\n",
        "from matplotlib import pyplot as plt\n",
        "from keras.models import Sequential\n",
        "from keras.layers import Dense, Flatten, Activation\n",
        "from keras.layers import Conv2D, MaxPooling2D\n",
        "from keras import optimizers\n",
        "\n",
        "# モデルの定義\n",
        "model = Sequential()\n",
        "model.add(Conv2D(filters=6, kernel_size=(3,3), input_shape=(96,96,3)))\n",
        "model.add(Activation(\"relu\"))\n",
        "model.add(MaxPooling2D(pool_size=(2,2)))\n",
        "model.add(Conv2D(filters=12, kernel_size=(3,3)))\n",
        "model.add(Activation(\"relu\"))\n",
        "model.add(MaxPooling2D(pool_size=(2,2)))\n",
        "model.add(Flatten())\n",
        "model.add(Dense(units=120))\n",
        "model.add(Activation(\"relu\"))\n",
        "model.add(Dense(units=60))\n",
        "model.add(Activation(\"relu\"))\n",
        "model.add(Dense(units=4))\n",
        "model.add(Activation(\"softmax\"))\n",
        "\n",
        "# モデルの確認\n",
        "model.summary()\n",
        "\n",
        "model.compile(loss=\"categorical_crossentropy\",\n",
        "             optimizer=optimizers.SGD(lr=0.05),\n",
        "             metrics=[\"accuracy\"])\n",
        "\n",
        "#ここでhistory_logにはfit関数によって学習させた結果が代入されています。\n",
        "# history_log = model.fit(X_train, y_train,\n",
        "#                     batch_size=100,\n",
        "#                     epochs=20,\n",
        "#                     validation_data=(X_val, y_val))\n",
        "\n",
        "n_epochs = 20\n",
        "learning_plot(history_log,epochs=n_epochs)"
      ],
      "execution_count": null,
      "outputs": []
    },
    {
      "cell_type": "markdown",
      "metadata": {
        "id": "xtMtTR-xj8Ff"
      },
      "source": [
        "### 2-7.モデル改善【層を追加してみよう】"
      ]
    },
    {
      "cell_type": "code",
      "metadata": {
        "id": "YOlj0JgekCjF"
      },
      "source": [
        "# ライブラリのインポート\n",
        "from matplotlib import pyplot as plt\n",
        "from keras.models import Sequential\n",
        "from keras.layers import Dense, Flatten, Activation\n",
        "from keras.layers import Conv2D, MaxPooling2D\n",
        "from keras import optimizers\n",
        "\n",
        "# モデルの定義\n",
        "model = Sequential()\n",
        "# 1. 畳み込み層(フィルタサイズ=12, カーネルサイズ=(3,3), 入力サイズ=(96,96,3))  \n",
        "model.add(Conv2D(filters=12, kernel_size=(3,3), input_shape=(96,96,3)))\n",
        "# 2. 活性化関数(ReLU) \n",
        "model.add(Activation(\"relu\"))\n",
        "# 3. プーリング層(プーリングサイズ=(2,2)) \n",
        "model.add(MaxPooling2D(pool_size=(2,2)))\n",
        "# 4. 畳み込み層(フィルタサイズ=24, カーネルサイズ=(3,3))  \n",
        "model.add(Conv2D(filters=24, kernel_size=(3,3)))\n",
        "# 5. 活性化関数(ReLU)\n",
        "model.add(Activation(\"relu\"))\n",
        "# 6. プーリング層(プーリングサイズ=(2,2))\n",
        "model.add(MaxPooling2D(pool_size=(2,2)))\n",
        "# 7. 畳み込み層(フィルタサイズ=36, カーネルサイズ=(3,3))\n",
        "model.add(Conv2D(filters=36, kernel_size=(3,3)))\n",
        "# 8. 活性化関数(ReLU) \n",
        "model.add(Activation(\"relu\"))\n",
        "# 9. プーリング層(プーリングサイズ=(2,2)) \n",
        "model.add(MaxPooling2D(pool_size=(2,2)))\n",
        "# 10. 平坦化とニューラルネットワークの構築\n",
        "model.add(Flatten())\n",
        "model.add(Dense(units=120))\n",
        "model.add(Activation(\"relu\"))\n",
        "model.add(Dense(units=60))\n",
        "model.add(Activation(\"relu\"))\n",
        "model.add(Dense(units=4))\n",
        "model.add(Activation(\"softmax\"))\n",
        "\n",
        "# モデルの確認\n",
        "model.summary()\n",
        "\n",
        "model.compile(loss=\"categorical_crossentropy\",\n",
        "             optimizer=optimizers.SGD(lr=0.05),\n",
        "             metrics=[\"accuracy\"])\n",
        "\n",
        "#ここでhistory_logにはfit関数によって学習させた結果が代入されています。\n",
        "# history_log = model.fit(X_train, y_train,\n",
        "#                     batch_size=100,\n",
        "#                     epochs=20,\n",
        "#                     validation_data=(X_val, y_val))\n",
        "\n",
        "n_epochs = 20\n",
        "learning_plot(history_log,epochs=n_epochs)"
      ],
      "execution_count": null,
      "outputs": []
    },
    {
      "cell_type": "markdown",
      "metadata": {
        "id": "cYzlrAV1kNdR"
      },
      "source": [
        "### 2-8.モデル改善【オプティマイザを変更してみよう】"
      ]
    },
    {
      "cell_type": "markdown",
      "metadata": {
        "id": "OuO88XldkRCf"
      },
      "source": [
        "**指定のオプティマイザに変更する**\n",
        "```\n",
        "optimizers.オプティマイザ(lr=学習率)\n",
        "```"
      ]
    },
    {
      "cell_type": "code",
      "metadata": {
        "id": "azm4lb6Pkal_"
      },
      "source": [
        "# ライブラリのインポート\n",
        "from matplotlib import pyplot as plt\n",
        "from keras.models import Sequential\n",
        "from keras.layers import Dense, Flatten, Activation\n",
        "from keras.layers import Conv2D, MaxPooling2D\n",
        "from keras import optimizers\n",
        "\n",
        "# モデルの定義\n",
        "model = Sequential()\n",
        "model.add(Conv2D(filters=12, kernel_size=(3,3), input_shape=(96,96,3)))\n",
        "model.add(Activation(\"relu\"))\n",
        "model.add(MaxPooling2D(pool_size=(2,2)))\n",
        "model.add(Conv2D(filters=24, kernel_size=(3,3)))\n",
        "model.add(Activation(\"relu\"))\n",
        "model.add(MaxPooling2D(pool_size=(2,2)))\n",
        "model.add(Conv2D(filters=36, kernel_size=(3,3)))\n",
        "model.add(Activation(\"relu\"))\n",
        "model.add(MaxPooling2D(pool_size=(2,2)))\n",
        "model.add(Flatten())\n",
        "model.add(Dense(units=120))\n",
        "model.add(Activation(\"relu\"))\n",
        "model.add(Dense(units=60))\n",
        "model.add(Activation(\"relu\"))\n",
        "model.add(Dense(units=4))\n",
        "model.add(Activation(\"softmax\"))\n",
        "\n",
        "# モデルの確認\n",
        "model.summary()\n",
        "\n",
        "model.compile(loss=\"categorical_crossentropy\",\n",
        "             optimizer=optimizers.Adagrad(lr=0.01),\n",
        "             metrics=[\"accuracy\"])\n",
        "\n",
        "#ここでhistory_logにはfit関数によって学習させた結果が代入されています。\n",
        "# history_log = model.fit(X_train, y_train,\n",
        "#                     batch_size=100,\n",
        "#                     epochs=20,\n",
        "#                     validation_data=(X_val, y_val))\n",
        "\n",
        "n_epochs = 20\n",
        "learning_plot(history_log,epochs=n_epochs)"
      ],
      "execution_count": null,
      "outputs": []
    }
  ]
}