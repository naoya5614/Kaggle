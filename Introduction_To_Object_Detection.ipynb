{
  "nbformat": 4,
  "nbformat_minor": 0,
  "metadata": {
    "colab": {
      "name": "Introduction_To_Object_Detection.ipynb",
      "provenance": [],
      "collapsed_sections": [],
      "toc_visible": true,
      "authorship_tag": "ABX9TyP8iVM+8Iy1E13yP2BgEOJV",
      "include_colab_link": true
    },
    "kernelspec": {
      "name": "python3",
      "display_name": "Python 3"
    },
    "language_info": {
      "name": "python"
    }
  },
  "cells": [
    {
      "cell_type": "markdown",
      "metadata": {
        "id": "view-in-github",
        "colab_type": "text"
      },
      "source": [
        "<a href=\"https://colab.research.google.com/github/naoya5614/Kaggle/blob/main/Introduction_To_Object_Detection.ipynb\" target=\"_parent\"><img src=\"https://colab.research.google.com/assets/colab-badge.svg\" alt=\"Open In Colab\"/></a>"
      ]
    },
    {
      "cell_type": "markdown",
      "metadata": {
        "id": "IKU3sfhmHh_W"
      },
      "source": [
        "# 物体検出入門"
      ]
    },
    {
      "cell_type": "markdown",
      "metadata": {
        "id": "s6lUlzotHiCf"
      },
      "source": [
        "# [1]物体検出とは"
      ]
    },
    {
      "cell_type": "markdown",
      "metadata": {
        "id": "Amg8oa7nHiE1"
      },
      "source": [
        "## 1.物体検出とは"
      ]
    },
    {
      "cell_type": "markdown",
      "metadata": {
        "id": "TOvvaYETLCO-"
      },
      "source": [
        "\n",
        "\n",
        "```\n",
        "画像内に写っている物体が属する「カテゴリ」に加え、その物体の「位置」も明らかにすること。\n",
        "```\n",
        "\n"
      ]
    },
    {
      "cell_type": "markdown",
      "metadata": {
        "id": "e9A79ZDuHiHF"
      },
      "source": [
        "## 2.物体検出の評価指標"
      ]
    },
    {
      "cell_type": "markdown",
      "metadata": {
        "id": "lmHZCK88JLa_"
      },
      "source": [
        "**精度**\n",
        "```\n",
        "*   IoU(Intersection over Union)\n",
        "*   mAP(mean Average Precision)\n",
        "```\n",
        "**速度**\n",
        "```\n",
        "*   FPS(Frame Per Second)\n",
        "```\n",
        "\n",
        "※精度と速度はトレードオフ\n"
      ]
    },
    {
      "cell_type": "markdown",
      "metadata": {
        "id": "Wviqfw0SHiRj"
      },
      "source": [
        "# [2] COCO データセット"
      ]
    },
    {
      "cell_type": "markdown",
      "metadata": {
        "id": "ijaihVGHIKRL"
      },
      "source": [
        "## 1.COCO フォーマットの把握"
      ]
    },
    {
      "cell_type": "markdown",
      "metadata": {
        "id": "E9Ngugp0SDzu"
      },
      "source": [
        "### 1-1.アノテーションファイルの読み込み"
      ]
    },
    {
      "cell_type": "markdown",
      "metadata": {
        "id": "N7C--hvwSKfP"
      },
      "source": [
        "**COCO Datasetのアノテーション情報は、JSONファイルとして配布されている**\n",
        "```\n",
        "*   学習用データ: instances_train2017.json\n",
        "*   検証用データ: instances_val2017.json\n",
        "```\n",
        "**JSONファイルの読み込む**\n",
        "```\n",
        "# jsonライブラリのインストール\n",
        "import json\n",
        "\n",
        "# JSONファイルを辞書型のオブジェクトとして読み込む\n",
        "with open('JSOMファイル.json') as f:\n",
        "    loaded_data = json.load(f)\n",
        "\n",
        "# 読み込んだデータの型を出力する\n",
        "print(type(loaded_data))\n",
        "```\n",
        "**読み込んだ辞書型オブジェクトのキー(key)の一覧を取得する**\n",
        "```\n",
        "# 読み込んだデータのキーを出力する\n",
        "print(loaded_data.keys())\n",
        "```\n",
        "```\n",
        "*   info: COCO Datasetそのものに関するメタ情報。物体検出の実行時には特に必要とされない。\n",
        "*   licenses: COCO Datasetに含まれる画像のライセンス。物体検出の実行時には特に必要とされない。\n",
        "*   images: COCO Datasetに含まれる画像のメタ情報。画像ID、画像ファイル名、画像の高さ・幅など。\n",
        "*   annotations: アノテーション情報。アノテーション情報と対応する画像のID、画像内におけるbbox(バウンディングボックス)の位置情報、bboxが囲む物体のカテゴリIDなど。\n",
        "*   categories: 検出対象の物体カテゴリ情報。物体カテゴリ名、物体カテゴリID、親カテゴリ名など。\n",
        "```"
      ]
    },
    {
      "cell_type": "code",
      "metadata": {
        "id": "m01Ix5LsS-7Y"
      },
      "source": [
        "# ライブラリのインストール\n",
        "import json\n",
        "\n",
        "# JSONファイルの読み込み\n",
        "with open('instances_val2017.json') as f:\n",
        "    val_annotation = json.load(f)\n",
        "    \n",
        "print(type(val_annotation))\n",
        "\n",
        "# keyの一覧を取得する\n",
        "print(val_annotation.keys())"
      ],
      "execution_count": null,
      "outputs": []
    },
    {
      "cell_type": "markdown",
      "metadata": {
        "id": "Y6sumigPTIS0"
      },
      "source": [
        "### 1-2.「info」「licenses」データについて"
      ]
    },
    {
      "cell_type": "markdown",
      "metadata": {
        "id": "TGeS17r-TKgr"
      },
      "source": [
        "**キー(key)「info」及び「licenses」に含まれるデータを確認する**\n",
        "```\n",
        "*   info: COCO Datasetそのものに関するメタ情報。物体検出の実行時には特に必要とされない。\n",
        "*   licenses: COCO Datasetに含まれる画像のライセンス。物体検出の実行時には特に必要とされない。\n",
        "```\n",
        "**キー(key)に対応する値(value)の取得する**\n",
        "```\n",
        "print(辞書型のデータ['キー名'])\n",
        "```\n",
        "\n",
        "\n"
      ]
    },
    {
      "cell_type": "code",
      "metadata": {
        "id": "2XcCgdvnTiJW"
      },
      "source": [
        "# 「info」に含まれる値を出力\n",
        "print('info:')\n",
        "print(val_annotation['info'])\n",
        "print('=====区切り=====')\n",
        "\n",
        "# 「licenses」に含まれる値を出力\n",
        "print('licenses:')\n",
        "print(val_annotation['licenses'])"
      ],
      "execution_count": null,
      "outputs": []
    },
    {
      "cell_type": "markdown",
      "metadata": {
        "id": "SOl1i_2KTnGX"
      },
      "source": [
        "### 1-3.「images」データについて"
      ]
    },
    {
      "cell_type": "markdown",
      "metadata": {
        "id": "tvuU3W36Tq_A"
      },
      "source": [
        "**キー(key)imagesに含まれるデータを確認する**\n",
        "```\n",
        "images: COCO Datasetに含まれる画像のメタ情報。画像ID、画像ファイル名、画像の高さ・幅など。\n",
        "```\n",
        "**imagesに紐づく値(value)を取得する**\n",
        "```\n",
        "# キー(key)`images`に紐づく値の出力\n",
        "print(val_annotation['images'])\n",
        "```\n",
        "**リスト内に含まれる、ある１つの要素(「１枚の画像に関するメタ情報」)を抜き出す**\n",
        "```\n",
        "# ある１枚の画像に関するメタ情報を抽出する\n",
        "print(val_annotation['images'][インデックス])\n",
        "```"
      ]
    },
    {
      "cell_type": "code",
      "metadata": {
        "id": "C-hMCATsUd_q"
      },
      "source": [
        "# val_annotations['images']の値を変数v_imagesに代入する\n",
        "v_images = val_annotation['images']\n",
        "\n",
        "# v_imagesのデータ型を出力する\n",
        "print(type(v_images))\n",
        "\n",
        "# 「images」に含まれる値の個数を出力\n",
        "print(len(v_images))\n",
        "\n",
        "# 「images」に含まれる値を1つ出力\n",
        "print('ある一枚の画像に関するメタ情報')\n",
        "print(v_images[0])"
      ],
      "execution_count": null,
      "outputs": []
    },
    {
      "cell_type": "markdown",
      "metadata": {
        "id": "vnrV3iNLUntN"
      },
      "source": [
        "### 1-4.「annotations」「categories」データについて"
      ]
    },
    {
      "cell_type": "markdown",
      "metadata": {
        "id": "wZIQFmuzUrfz"
      },
      "source": [
        "**キー(key)annotations及びcategoriesに含まれるデータについて確認する**\n",
        "```\n",
        "*   annotations: アノテーション情報。アノテーション情報と対応する画像のID、画像内におけるbbox(バウンディングボックス)の位置情報、bboxが囲む物体のカテゴリIDなど。\n",
        "*   categories: 検出対象の物体カテゴリ情報。物体カテゴリ名、物体カテゴリID、親カテゴリ名など。\n",
        "```\n",
        "**annotationsとは**\n",
        "```\n",
        "「リスト内の１つの要素」が「１つの物体に関するアノテーション情報」と対応している\n",
        "```\n",
        "**リスト内に含まれるある１つの要素を抜き出す**\n",
        "```\n",
        "# ある１つの物体に関するアノテーション情報を抽出する\n",
        "print(val_annotation['annotations'][インデックス])\n",
        "```\n",
        "**重要なキー(key)の説明**\n",
        "```\n",
        "*   image_idは、この物体が写っている画像のIDを指します。前回確認した「val_annotation['images']内のidに含まれる値」を参照することで、「画像」と「物体に対するアノテーション」を紐付けることができます。\n",
        "*   bboxは、バウンディングボックスの位置情報を示しています。COCO フォーマットでは、XYWH(x1, y1, width, height)の形式で記述されています。\n",
        "*  category_idは、この物体がどのカテゴリに属しているかを表すIDです。後に確認する「val_annotation['categories']内のidに含まれる値」と対応しています。\n",
        "*  idは、物体を一意に特定するIDです。 \n",
        "```\n",
        "**categoriesとは**\n",
        "\n",
        "```\n",
        "# 「リスト内の１つの要素」が「１つのカテゴリ情報」に対応している\n",
        "\n",
        "# ある１つのカテゴリ情報を抽出する\n",
        "print(val_annotation['categories'][インデックス])\n",
        "```\n",
        "**categoriesにおいて重要なキー(key)**\n",
        "\n",
        "```\n",
        "*   idは、上で確認したように、「annotationsにおけるcategory_id」に対応する値です。\n",
        "*   nameは、その名の通りカテゴリに付けられた名前を表します。\n",
        "```"
      ]
    },
    {
      "cell_type": "code",
      "metadata": {
        "id": "4k96Biq2WIul"
      },
      "source": [
        "# 「annotations」に含まれる値を1つ出力\n",
        "print('ある一つの物体に関するアノテーション情報: ')\n",
        "print(val_annotation['annotations'][0])\n",
        "\n",
        "# 「categories」データの出力\n",
        "print('=====区切り=====')\n",
        "print('categories: ')\n",
        "print(val_annotation['categories'])"
      ],
      "execution_count": null,
      "outputs": []
    },
    {
      "cell_type": "markdown",
      "metadata": {
        "id": "e8YLv_56IKTq"
      },
      "source": [
        "## 2.アノテーションデータをCOCO フォーマットに再構成する"
      ]
    },
    {
      "cell_type": "markdown",
      "metadata": {
        "id": "mApgoP7Nb0z3"
      },
      "source": [
        "### 2-1.図書館データセットについて"
      ]
    },
    {
      "cell_type": "markdown",
      "metadata": {
        "id": "O4sQZ7fbb2dh"
      },
      "source": [
        "**図書館データセット**\n",
        "```\n",
        "資料画像内に含まれる「文字」「イラスト」「印影」といった合計５カテゴリの物体を検出対象とする。\n",
        "「A.jpg」に対するアノテーションデータが、「A.json」に保存されているといった具合に、「画像ファイル」と「JSONファイル」が１対１に対応している。\n",
        "```\n",
        "**物体検出アルゴリズムの実行時に「必要」な情報**\n",
        "\n",
        "```\n",
        "images: 各画像のメタ情報。\n",
        "*   file_name: 画像のファイル名\n",
        "*   height : 画像の高さ\n",
        "*   width : 画像の幅\n",
        "*   id: 画像ID(annotationsにおけるimage_idと対応)\n",
        "\n",
        "annotations: 各物体のアノテーション情報。\n",
        "*   image_id: 画像ID\n",
        "*   bbox: バウンディングボックスの位置情報\n",
        "*   category_id: カテゴリID\n",
        "*   id: 物体ID\n",
        "\n",
        "categories: 検出対象とする物体カテゴリ一覧。\n",
        "*   id: カテゴリID(annotationsにおけるcategory_idと対応)\n",
        "*   name: カテゴリ名\n",
        "```"
      ]
    },
    {
      "cell_type": "markdown",
      "metadata": {
        "id": "UrM2psCHc8OZ"
      },
      "source": [
        "### 2-2.図書館データセット: アノテーションデータ"
      ]
    },
    {
      "cell_type": "code",
      "metadata": {
        "id": "qIDATNeydCcb"
      },
      "source": [
        "# ライブラリのインストール\n",
        "import json\n",
        "\n",
        "# JSONファイルの読み込み\n",
        "annot_path = 'original/train_annotations/train_2537534_0013.json'\n",
        "with open(annot_path) as f:\n",
        "    annot = json.load(f)\n",
        "    \n",
        "# 読み込んだ辞書型データのキー(key)の一覧の出力\n",
        "print(annot.keys())\n",
        "\n",
        "# 読み込んだ辞書型データのキーattributesに含まれる値の出力\n",
        "print('-------------')\n",
        "print('attributes:')\n",
        "print('-------------')\n",
        "print(annot['attributes'])\n",
        "\n",
        "# 読み込んだ辞書型データのキーlabelsに含まれる値の出力\n",
        "print('-------------')\n",
        "print('labels:')\n",
        "print('-------------')\n",
        "print(annot['labels'])"
      ],
      "execution_count": null,
      "outputs": []
    },
    {
      "cell_type": "markdown",
      "metadata": {
        "id": "Zuq2uZrodFax"
      },
      "source": [
        "### 2-3.図書館データセット: 画像データ"
      ]
    },
    {
      "cell_type": "markdown",
      "metadata": {
        "id": "K7KmOEyZdKNJ"
      },
      "source": [
        "**図書館データセット**\n",
        "```\n",
        "「A.jpg」という画像ファイルに対するアノテーションデータが、「A.json」というJSONファイル名で保存されている\n",
        "```\n",
        "**画像を読み込む**\n",
        "```\n",
        "# cv2ライブラリのインポート\n",
        "import cv2\n",
        "\n",
        "# 画像の読み込み\n",
        "image = cv2.imread(画像ファイル)\n",
        "\n",
        "# 色の順番を、BGR -> RGBに \n",
        "image = cv2.cvtColor(image, cv2.COLOR_BGR2RGB)\n",
        "```\n",
        "**バウンディングボックスの描画**\n",
        "```\n",
        "# 画像」及び「画像内の各物体を囲むバウンディングボックス」を同時に表示する\n",
        "cv2.rectangle()\n",
        "```\n",
        "**cv2.rectangle()の引数**\n",
        "```\n",
        "*   img: 同時に表示する画像の配列\n",
        "*   pt1&pt2: 矩形の位置を表す2点の座標。画像の左上を原点(0, 0)とする。\n",
        "*   color: 矩形の色情報(RGB)\n",
        "*   thickness: 矩形の線の太さ\n",
        "```\n",
        "**文字列の描画**\n",
        "```\n",
        "cv2.putText()\n",
        "```\n",
        "**cv2.putText()の引数**\n",
        "```\n",
        "*   img: 同時に表示する画像の配列\n",
        "*   text: 描画する文字列\n",
        "*   org: 文字列を表示する位置\n",
        "*   color: 文字列の色情報(RGB)\n",
        "*   fontFace: 文字列の字体\n",
        "*   fontScale: 文字列のサイズ\n",
        "*   thickness: 文字列の線の太さ\n",
        "```"
      ]
    },
    {
      "cell_type": "code",
      "metadata": {
        "id": "eldXgWhzeSEY"
      },
      "source": [
        "# ライブラリのインストール\n",
        "import json\n",
        "import cv2\n",
        "import matplotlib.pyplot as plt\n",
        "plt.figure(figsize=(20, 20))\n",
        "\n",
        "# JSONファイルの読み込み\n",
        "annot_path = 'original/train_annotations/train_2537534_0013.json'\n",
        "with open(annot_path) as f:\n",
        "    annot = json.load(f)\n",
        "    \n",
        "# 画像ファイルのパスを生成する\n",
        "image_path = annot_path.replace('_annotations', '_images').replace('json', 'jpg')\n",
        "image = cv2.imread(image_path)\n",
        "# BGR -> RGB\n",
        "image = cv2.cvtColor(image, cv2.COLOR_BGR2RGB)\n",
        "\n",
        "# アノテーション(バウンディングボックス)情報を取得する\n",
        "bbox_list = annot['labels']\n",
        "\n",
        "# カテゴリによって色を分ける\n",
        "color_map = {\n",
        "    '1_overall': (255, 0, 0), # 赤\n",
        "    '2_handwritten': (0, 0, 0), # 黒\n",
        "    '3_typography': (0, 0, 255), # 青\n",
        "    '4_illustration': (0, 255, 0), # 緑\n",
        "    '5_stamp': (255, 153, 50) # オレンジ\n",
        "}\n",
        "\n",
        "# 画像とバウンディングボックスを重ねて表示する\n",
        "for bbox in bbox_list:\n",
        "    \n",
        "    # バウンディングボックスの位置情報を取得する\n",
        "    x1 = bbox['box2d']['x1']\n",
        "    y1 = bbox['box2d']['y1']\n",
        "    x2 = bbox['box2d']['x2']\n",
        "    y2 = bbox['box2d']['y2']\n",
        "    \n",
        "    # バウンディングボックスが囲む物体のカテゴリを取得する\n",
        "    category = bbox['category']\n",
        "    \n",
        "    # カテゴリにしたがって色を決める\n",
        "    color = color_map[category]\n",
        "    \n",
        "    # 物体を囲む矩形を描画する\n",
        "    cv2.rectangle(img=image, \n",
        "                  pt1=(x1, y1), pt2=(x2, y2), \n",
        "                  color=color, thickness=2)\n",
        "    \n",
        "    # 物体の上に添えるテキストを描画する\n",
        "    cv2.putText(img=image, text=category, org=(x1, y1 - 15), \n",
        "                fontFace=cv2.FONT_HERSHEY_SIMPLEX, fontScale=1.5, \n",
        "                color=color, thickness=2)\n",
        "\n",
        "plt.imshow(image)\n",
        "plt.show()"
      ],
      "execution_count": null,
      "outputs": []
    },
    {
      "cell_type": "markdown",
      "metadata": {
        "id": "usXsDz4leVD6"
      },
      "source": [
        "### 2-4.COCO フォーマット「categories」データの作成"
      ]
    },
    {
      "cell_type": "markdown",
      "metadata": {
        "id": "gqjKynVwed92"
      },
      "source": [
        "**以下の項目に対象を絞った上でCOCO フォーマットのアノテーションデータを作成する**\n",
        "```\n",
        "images: 各画像のメタ情報。\n",
        "*   file_name: 画像のファイル名\n",
        "*   height : 画像の高さ\n",
        "*   width : 画像の幅\n",
        "*   id: 画像ID(annotationsにおけるimage_idと対応)\n",
        "\n",
        "annotations: 各物体のアノテーション情報。\n",
        "*   image_id: 画像ID\n",
        "*   bbox: バウンディングボックスの位置情報\n",
        "*   category_id: カテゴリID\n",
        "*   id: 物体ID\n",
        "\n",
        "categories: 検出対象とする物体カテゴリ一覧。\n",
        "*   id: カテゴリID(annotationsにおけるcategory_idと対応)\n",
        "*   name: カテゴリ名\n",
        "```\n",
        "**IDに関するデータについて**\n",
        "```\n",
        "images: 各画像のメタ情報。\n",
        "*   id: 画像ID(annotationsにおけるimage_idと対応)\n",
        "\n",
        "annotations: 各物体のアノテーション情報。\n",
        "*   image_id: 画像ID\n",
        "*   category_id: カテゴリID\n",
        "*   id: 物体ID\n",
        "\n",
        "categories: 検出対象とする物体カテゴリ一覧。\n",
        "*   id: カテゴリID(annotationsにおけるcategory_idと対応)\n",
        "```\n",
        "**JSONファイル作成までの流れ**\n",
        "```\n",
        "1.   COCO フォーマットのimages,annotations,categoriesに必要な情報を取得し、それぞれリストにまとめる\n",
        "2.   1で作成した各リスト型データを、辞書型データとして1つにまとめる\n",
        "3.   2で作成した辞書型データを、JSONファイルとして保存する\n",
        "```"
      ]
    },
    {
      "cell_type": "markdown",
      "metadata": {
        "id": "xJucq3WNfgU7"
      },
      "source": [
        "**categories**\n",
        "```\n",
        "categories: 検出対象とする物体カテゴリ一覧。\n",
        "*   id: カテゴリID(annotationsにおけるcategory_idと対応)\n",
        "*   name: カテゴリ名\n",
        "```\n",
        "**図書館\n",
        "```\n",
        "*   1_overall\n",
        "*   2_handwritten\n",
        "*   3_typography\n",
        "*   4_illustration\n",
        "*   5_stamp\n",
        "```\n",
        "**COCO フォーマットに則って、それぞれのカテゴリ名に対して1から順番に整数を割り振る**\n",
        "```\n",
        "*   1_overall -> 1\n",
        "*   2_handwritten -> 2\n",
        "*   3_typography -> 3\n",
        "*   4_illustration -> 4\n",
        "*   5_stamp -> 5\n",
        "```"
      ]
    },
    {
      "cell_type": "code",
      "metadata": {
        "id": "uRg-vk1sgRSD"
      },
      "source": [
        "categories = [\n",
        "    {'id': 1, 'name': '1_overall'},\n",
        "    {'id': 2, 'name': '2_handwritten'},\n",
        "    {'id': 3, 'name': '3_typography'},\n",
        "    {'id': 4, 'name': '4_illustration'},\n",
        "    {'id': 5, 'name': '5_stamp'}\n",
        "]\n",
        "    \n",
        "print(categories)"
      ],
      "execution_count": null,
      "outputs": []
    },
    {
      "cell_type": "markdown",
      "metadata": {
        "id": "KHtJbt_hgW7-"
      },
      "source": [
        "### 2-5.COCO フォーマット「images」データの作成"
      ]
    },
    {
      "cell_type": "markdown",
      "metadata": {
        "id": "-b2iGMlRgb_l"
      },
      "source": [
        "**COCO フォーマットのimagesに含めるべきデータ**\n",
        "```\n",
        "images: 各画像のメタ情報。\n",
        "*   file_name: 画像のファイル名\n",
        "*   height : 画像の高さ\n",
        "*   width : 画像の幅\n",
        "*   id: 画像ID(annotationsにおけるimage_idと対応)\n",
        "```\n",
        "**全画像ファイルの名前が入ったリストを取得する**\n",
        "```\n",
        "# file_name(画像のファイル名)\n",
        "# ライブラリのインストール\n",
        "import os\n",
        "\n",
        "# os.listdir()を使用して画像ファイル名を全て取得する\n",
        "imfile_name_list = os.listdir(画像ファイルが格納されたディレクトリのパス)\n",
        "```\n",
        "**画像を読み込む**\n",
        "```\n",
        "# ライブラリのインストール\n",
        "import cv2\n",
        "\n",
        "# 画像の読み込み\n",
        "image = cv2.imread(画像ファイルのパス)\n",
        "\n",
        "# numpy.ndarray.shape属性から、\n",
        "# 画像の高さ(im_height)幅(im_width)を取得\n",
        "im_height, im_width, _ = image.shape\n",
        "```\n",
        "**id**\n",
        "```\n",
        "1.   idの初期値を1とする (id=1)\n",
        "2.   扱う画像が切り替わるタイミングでidの値に1を追加する (id += 1)\n",
        "```"
      ]
    },
    {
      "cell_type": "code",
      "metadata": {
        "id": "zGi-AU-GhRqh"
      },
      "source": [
        "# ライブラリのインポート\n",
        "import os\n",
        "import cv2\n",
        "\n",
        "# 画像が格納されたディレクトリ名\n",
        "image_dir = 'original/train_images/'\n",
        "\n",
        "# 全ての画像のファイル名をリストとして取得する\n",
        "imfile_name_list = os.listdir(image_dir)\n",
        "print(imfile_name_list)\n",
        "\n",
        "# 画像IDの初期化\n",
        "image_id = 1\n",
        "\n",
        "# リストの初期化\n",
        "images = []\n",
        "\n",
        "# 各画像ごとの情報をひとつずつ取得\n",
        "for imfile_name in imfile_name_list:\n",
        "   \n",
        "    # 画像のファイルパスを指定\n",
        "    image_path = image_dir + imfile_name\n",
        "    \n",
        "    # 画像の読み込み\n",
        "    image = cv2.imread(image_path)\n",
        "    \n",
        "    # 画像の高さ、幅を取得\n",
        "    im_height, im_width, _ = image.shape\n",
        "\n",
        "    # 画像1枚分の情報を辞書にまとめる\n",
        "    image_dict = {\n",
        "        'file_name': imfile_name,\n",
        "        'height': im_height,\n",
        "        'width': im_width,\n",
        "        'id': image_id\n",
        "    } \n",
        "    \n",
        "    # 完成した画像1枚分の情報をimagesリストへ追加\n",
        "    images.append(image_dict)\n",
        "    \n",
        "    # 画像IDを+1して次の画像へ\n",
        "    image_id += 1\n",
        "    \n",
        "print(images)"
      ],
      "execution_count": null,
      "outputs": []
    },
    {
      "cell_type": "markdown",
      "metadata": {
        "id": "sEuG7bJWhYME"
      },
      "source": [
        "### 2-6.COCO フォーマット「annotations」データの作成"
      ]
    },
    {
      "cell_type": "markdown",
      "metadata": {
        "id": "JL2xHY2EhcSz"
      },
      "source": [
        "**annotationsについて、同様の処理を行う**\n",
        "```\n",
        "annotations: 各物体のアノテーション情報。\n",
        "*   image_id: 画像ID\n",
        "*   bbox: バウンディングボックスの位置情報\n",
        "*   category_id: カテゴリID\n",
        "*   id: 物体ID\n",
        "```\n",
        "**image_id**\n",
        "```\n",
        "annotations = []\n",
        "\n",
        "# 画像IDの初期化\n",
        "image_id = 1\n",
        "\n",
        "# 各画像ごとの情報をひとつずつ取得\n",
        "for imfile_name in imfile_name_list:\n",
        "\n",
        "    ### 中略 ###\n",
        "\n",
        "    # 画像imfile_nameと対応するアノテーションファイルのパスの指定\n",
        "    annot_path = annot_dir + imfile_name.replace('jpg', 'json')\n",
        "\n",
        "    # JSONファイルの読み込み\n",
        "    with open(annot_path, encoding='utf-8') as f:\n",
        "        annot = json.load(f)\n",
        "    # 対象画像内の全物体に対するアノテーション情報リストの取得\n",
        "    labels = annot['labels']\n",
        "\n",
        "    # 画像imfile_name内に含まれる物体に関するアノテーション情報を一つずつ順番に取得する\n",
        "    for label in labels:\n",
        "\n",
        "        ### 中略 ###\n",
        "\n",
        "        # annotationsの一要素となる辞書データの作成\n",
        "        annot_dict = {\n",
        "                'image_id': image_id,\n",
        "                'bbox': [x1, y1, box_width, box_height],\n",
        "                'category_id': category_id,\n",
        "                'id': annot_id\n",
        "        }\n",
        "        annotations.append(annot_dict)\n",
        "\n",
        "        ### 中略 ###\n",
        "\n",
        "    # 画像IDを+1して次の画像へ\n",
        "    image_id += 1\n",
        "```\n",
        "\n"
      ]
    },
    {
      "cell_type": "markdown",
      "metadata": {
        "id": "2Ono5qRWhzBA"
      },
      "source": [
        "**category_id と bbox**\n",
        "```\n",
        "# 各カテゴリ名を対応するカテゴリIDにマッピングする辞書データを作成しておく\n",
        "\n",
        "# カテゴリ名をカテゴリIDにマッピングする辞書\n",
        "category_map = {\n",
        "    '1_overall': 1,\n",
        "    '2_handwritten': 2,\n",
        "    '3_typography': 3,\n",
        "    '4_illustration': 4,\n",
        "    '5_stamp': 5\n",
        "}\n",
        "\n",
        "category_id = category_map[カテゴリ名]\n",
        "```\n",
        "**id**\n",
        "```\n",
        "1.   idの初期値を1とする (id=1)\n",
        "2.   扱う物体が切り替わるタイミングでidの値に1を追加する (id += 1)\n",
        "```"
      ]
    },
    {
      "cell_type": "code",
      "metadata": {
        "id": "S0O2QpcfiO2m"
      },
      "source": [
        "# ライブラリのインポート\n",
        "import os\n",
        "import cv2\n",
        "import json\n",
        "\n",
        "# カテゴリ名をカテゴリIDにマッピングする辞書の定義\n",
        "category_map = {\n",
        "    '1_overall': 1,\n",
        "    '2_handwritten': 2,\n",
        "    '3_typography': 3,\n",
        "    '4_illustration': 4,\n",
        "    '5_stamp': 5\n",
        "}\n",
        "\n",
        "image_dir = 'original/train_images/'\n",
        "imfile_name_list = os.listdir(image_dir)\n",
        "image_id = 1\n",
        "images = []\n",
        "\n",
        "# アノテーションデータが格納されたディレクトリ名\n",
        "annot_dir = 'original/train_annotations/'\n",
        "\n",
        "# 物体IDの初期化\n",
        "annot_id = 1\n",
        "\n",
        "# annotationsリストの初期化\n",
        "annotations = []\n",
        "\n",
        "for imfile_name in imfile_name_list:\n",
        "   \n",
        "    image_path = image_dir + imfile_name\n",
        "    image = cv2.imread(image_path)\n",
        "    im_height, im_width, _ = image.shape\n",
        "    image_dict = {\n",
        "        'file_name': imfile_name,\n",
        "        'height': im_height,\n",
        "        'width': im_width,\n",
        "        'id': image_id\n",
        "    } \n",
        "    images.append(image_dict)\n",
        "    \n",
        "    ### ここからannotationsリストに含める情報の取得へ ###\n",
        "    # 画像と対応するアノテーションファイルのパスの指定\n",
        "    annot_path = annot_dir + imfile_name.replace('jpg', 'json')\n",
        "    \n",
        "    # JSONファイルの読み込み\n",
        "    with open(annot_path, encoding='utf-8') as f:\n",
        "        annot = json.load(f)\n",
        "    # 対象画像内の全物体に対するアノテーション情報リストの取得\n",
        "    labels = annot['labels']\n",
        "    \n",
        "    # 各物体ごとのアノテーション情報をひとつずつ取得\n",
        "    for label in labels:\n",
        "        \n",
        "        # バウンディングボックス位置情報の取得\n",
        "        x1 = label['box2d']['x1']\n",
        "        y1 = label['box2d']['y1']\n",
        "        x2 = label['box2d']['x2']\n",
        "        y2 = label['box2d']['y2']\n",
        "        \n",
        "        # bboxの高さ、幅の取得\n",
        "        # (bboxの位置情報の表し方をXYXY形式 -> XYWH形式 に変更するため)\n",
        "        box_width = x2 - x1\n",
        "        box_height = y2 - y1\n",
        "        \n",
        "        # カテゴリIDの取得\n",
        "        category = label['category']\n",
        "        category_id = category_map[category]\n",
        "                \n",
        "        # 物体1つ分の情報を辞書にまとめる\n",
        "        annot_dict = {\n",
        "            'image_id': image_id,\n",
        "            'bbox': [x1, y1, box_width, box_height],\n",
        "            'category_id': category_id,\n",
        "            'id': annot_id\n",
        "        }\n",
        "        \n",
        "        # 完成した物体1つ分の辞書型データをannotationsリストへ追加\n",
        "        annotations.append(annot_dict)\n",
        "        \n",
        "        # 物体IDを+1して次の物体へ\n",
        "        annot_id += 1\n",
        "        \n",
        "    image_id += 1\n",
        "    \n",
        "print(annotations)"
      ],
      "execution_count": null,
      "outputs": []
    },
    {
      "cell_type": "markdown",
      "metadata": {
        "id": "-TnEJykEiZa4"
      },
      "source": [
        "### 2-7.COCO フォーマットのJSONファイルを生成する"
      ]
    },
    {
      "cell_type": "markdown",
      "metadata": {
        "id": "rID-Kxjzidjs"
      },
      "source": [
        "**COCO フォーマットのJSONファイルと同様の構造を持つ辞書型のデータを作成する**\n",
        "```\n",
        "coco_format_dict = {\n",
        "    'images': images,\n",
        "    'annotations': annotations,\n",
        "    'categories': categories\n",
        "}\n",
        "```\n",
        "**辞書型のデータをJSONファイルとして保存する**\n",
        "```\n",
        "# ライブラリのインポート\n",
        "import json\n",
        "\n",
        "# 辞書型のデータをJSONファイルとして保存する\n",
        "with open(JSONファイル名, 'w') as f:\n",
        "    json.dump(辞書型データ, f)\n",
        "```"
      ]
    },
    {
      "cell_type": "code",
      "metadata": {
        "id": "krViVA6DiswI"
      },
      "source": [
        "# ライブラリのインストール\n",
        "import os\n",
        "import json\n",
        "import cv2\n",
        "\n",
        "# categoriesリストの作成\n",
        "categories = [\n",
        "    {'id': 1, 'name': '1_overall'},\n",
        "    {'id': 2, 'name': '2_handwritten'},\n",
        "    {'id': 3, 'name': '3_typography'},\n",
        "    {'id': 4, 'name': '4_illustration'},\n",
        "    {'id': 5, 'name': '5_stamp'}\n",
        "]\n",
        "\n",
        "# カテゴリ名をカテゴリIDにマッピングする辞書の定義\n",
        "category_map = {\n",
        "    '1_overall': 1,\n",
        "    '2_handwritten': 2,\n",
        "    '3_typography': 3,\n",
        "    '4_illustration': 4,\n",
        "    '5_stamp': 5\n",
        "}\n",
        "\n",
        "# 画像及びアノテーションデータが格納されたディレクトリ名の指定\n",
        "image_dir = 'original/train_images/'\n",
        "annot_dir = 'original/train_annotations/'\n",
        "\n",
        "# 全ての画像のファイル名をリストとして取得\n",
        "imfile_name_list = os.listdir(image_dir)\n",
        "\n",
        "# 画像ID, 物体IDの初期化\n",
        "image_id = 1\n",
        "annot_id = 1\n",
        "\n",
        "# リストの初期化\n",
        "images = []\n",
        "annotations = []\n",
        "\n",
        "# 各画像ごとの情報をひとつずつ取得\n",
        "for imfile_name in imfile_name_list:\n",
        "   \n",
        "    # 画像のファイルパスの指定\n",
        "    image_path = image_dir + imfile_name\n",
        "    # この画像と対応するアノテーションファイルのパスの指定\n",
        "    annot_path = annot_dir + imfile_name.replace('jpg', 'json')\n",
        "    \n",
        "    # 画像の読み込み\n",
        "    image = cv2.imread(image_path)\n",
        "    \n",
        "    # 画像の高さ、幅を取得\n",
        "    im_height, im_width, _ = image.shape\n",
        "\n",
        "    # 画像1枚分の情報を辞書にまとめる\n",
        "    image_dict = {\n",
        "        'file_name': imfile_name,\n",
        "        'height': im_height,\n",
        "        'width': im_width,\n",
        "        'id': image_id\n",
        "    } \n",
        "    \n",
        "    # 完成した画像1枚分の情報をimagesリストへ追加\n",
        "    images.append(image_dict)\n",
        "    \n",
        "    # JSONファイルを読み込み、\n",
        "    # この画像内の全物体に対するアノテーション情報リスト取得\n",
        "    with open(annot_path, encoding='utf-8') as f:\n",
        "        annot = json.load(f)\n",
        "    labels = annot['labels']\n",
        "    \n",
        "    # 各物体ごとのアノテーション情報をひとつずつ取得\n",
        "    for label in labels:\n",
        "        # bboxの位置情報の取得\n",
        "        x1 = label['box2d']['x1']\n",
        "        y1 = label['box2d']['y1']\n",
        "        x2 = label['box2d']['x2']\n",
        "        y2 = label['box2d']['y2']\n",
        "        \n",
        "        # bboxの高さ、幅の取得\n",
        "        # (バウンディングボックスの位置情報の表し方をXYXY形式 -> XYWH形式 に変更するため)\n",
        "        box_width = x2 - x1\n",
        "        box_height = y2 - y1\n",
        "        \n",
        "        # カテゴリIDの取得\n",
        "        category = label['category']\n",
        "        category_id = category_map[category]\n",
        "                \n",
        "        # 物体1つ分のアノテーション情報を辞書にまとめる\n",
        "        annot_dict = {\n",
        "            'image_id': image_id,\n",
        "            'bbox': [x1, y1, box_width, box_height],\n",
        "            'category_id': category_id,\n",
        "            'id': annot_id\n",
        "        }\n",
        "        \n",
        "        # 完成した物体1つ分の情報をannotationsリストへ追加\n",
        "        annotations.append(annot_dict)\n",
        "        \n",
        "        # 物体IDを+1して次の物体へ\n",
        "        annot_id += 1\n",
        "        \n",
        "    # 画像IDを+1して次の画像へ\n",
        "    image_id += 1\n",
        "\n",
        "# COCO フォーマットと同様の構造を持つ辞書型データの作成\n",
        "coco_format_dict = {\n",
        "    'images': images,\n",
        "    'annotations': annotations,\n",
        "    'categories': categories\n",
        "}\n",
        "\n",
        "# 作成したCOCO フォーマットのアノテーションをJSONファイルに保存\n",
        "with open('coco_format_library.json', 'w') as f:\n",
        "    json.dump(coco_format_dict, f)\n",
        "\n",
        "# 作成したCOCO フォーマットのアノテーションデータを表示\n",
        "print('--------------')\n",
        "print('images')\n",
        "print('--------------')\n",
        "print(coco_format_dict['images'])\n",
        "\n",
        "print('--------------')\n",
        "print('annotations')\n",
        "print('--------------')\n",
        "print(coco_format_dict['annotations'])\n",
        "\n",
        "print('--------------')\n",
        "print('categories')\n",
        "print('--------------')\n",
        "print(coco_format_dict['categories'])"
      ],
      "execution_count": null,
      "outputs": []
    }
  ]
}