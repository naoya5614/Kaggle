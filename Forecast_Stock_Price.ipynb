{
  "nbformat": 4,
  "nbformat_minor": 0,
  "metadata": {
    "colab": {
      "name": "Forecast_Stock_Price.ipynb",
      "provenance": [],
      "collapsed_sections": [],
      "toc_visible": true,
      "authorship_tag": "ABX9TyP4Ne3CTroIHuaw1OsxLIpn"
    },
    "kernelspec": {
      "name": "python3",
      "display_name": "Python 3"
    },
    "language_info": {
      "name": "python"
    }
  },
  "cells": [
    {
      "cell_type": "markdown",
      "metadata": {
        "id": "MoVOmaUAIRu6"
      },
      "source": [
        "# 株価を予測せよ"
      ]
    },
    {
      "cell_type": "markdown",
      "metadata": {
        "id": "4qx8aT2NIXI0"
      },
      "source": [
        "# [1] 株価データの整形"
      ]
    },
    {
      "cell_type": "markdown",
      "metadata": {
        "id": "uecBvnFBIuTr"
      },
      "source": [
        "## 1.データの読み込み"
      ]
    },
    {
      "cell_type": "markdown",
      "metadata": {
        "id": "1XcPMR3jKByC"
      },
      "source": [
        "### 1-1.ライブラリのインポート"
      ]
    },
    {
      "cell_type": "markdown",
      "metadata": {
        "id": "NRlwXLwfKHc5"
      },
      "source": [
        "\n",
        "\n",
        "```\n",
        "import ライブラリ名\n",
        "import ライブラリ名 as 名前\n",
        "from ライブラリ名 import モジュール名\n",
        "from ライブラリ名 import モジュール名 as 名前\n",
        "```\n",
        "\n"
      ]
    },
    {
      "cell_type": "code",
      "metadata": {
        "id": "xbtlCOjOKS1R"
      },
      "source": [
        "# numpyのインポート\n",
        "import numpy as np\n",
        "\n",
        "# pandasのインポート\n",
        "import pandas as pd"
      ],
      "execution_count": null,
      "outputs": []
    },
    {
      "cell_type": "markdown",
      "metadata": {
        "id": "PxesD7owKB0w"
      },
      "source": [
        "### 1-2.データの読み込み"
      ]
    },
    {
      "cell_type": "markdown",
      "metadata": {
        "id": "83oqHqeFKB3s"
      },
      "source": [
        "\n",
        "\n",
        "```\n",
        "ライブラリ名.関数()\n",
        "pandas.read_csv()\n",
        "pd.read_csv('ファイル名')\n",
        "変数名 = pd.read_csv('ファイル名')\n",
        "```\n",
        "\n"
      ]
    },
    {
      "cell_type": "code",
      "metadata": {
        "id": "D4DRySu0gT1U"
      },
      "source": [
        "# pandasのインポート\n",
        "import pandas as pd\n",
        "\n",
        "# データの読み込み\n",
        "df = pd.read_csv('train.csv')"
      ],
      "execution_count": null,
      "outputs": []
    },
    {
      "cell_type": "markdown",
      "metadata": {
        "id": "2w3YawsaIuY-"
      },
      "source": [
        "## 2.データ確認\n"
      ]
    },
    {
      "cell_type": "markdown",
      "metadata": {
        "id": "-WHZ4qP1KqUy"
      },
      "source": [
        "### 2-1.データフレームの先頭の行の表示"
      ]
    },
    {
      "cell_type": "markdown",
      "metadata": {
        "id": "v0cdk3eYKz-4"
      },
      "source": [
        "\n",
        "\n",
        "```\n",
        "データフレームが代入された変数.head(数値)\n",
        "```\n",
        "\n"
      ]
    },
    {
      "cell_type": "code",
      "metadata": {
        "id": "s81MKpsBKZVk"
      },
      "source": [
        "# pandasのインポート\n",
        "import pandas as pd\n",
        "\n",
        "# データの読み込み\n",
        "df = pd.read_csv(\"train.csv\")\n",
        "\n",
        "# データフレームの先頭5行の表示\n",
        "print(df.head(5))"
      ],
      "execution_count": null,
      "outputs": []
    },
    {
      "cell_type": "markdown",
      "metadata": {
        "id": "nD7Lk3GnK9kE"
      },
      "source": [
        "### 2-2.データフレームの末尾の行の表示"
      ]
    },
    {
      "cell_type": "markdown",
      "metadata": {
        "id": "scGw4ZovLAQe"
      },
      "source": [
        "\n",
        "\n",
        "```\n",
        "データフレームが代入された変数.tail(数値)\n",
        "```\n",
        "\n"
      ]
    },
    {
      "cell_type": "code",
      "metadata": {
        "id": "5pMBY8gsLBrE"
      },
      "source": [
        "# pandasのインポート\n",
        "import pandas as pd\n",
        "\n",
        "# データの読み込み\n",
        "df = pd.read_csv(\"train.csv\")\n",
        "\n",
        "# データフレームの末尾3行の表示\n",
        "print(df.tail(3))"
      ],
      "execution_count": null,
      "outputs": []
    },
    {
      "cell_type": "markdown",
      "metadata": {
        "id": "RD3bqk5ULLNi"
      },
      "source": [
        "### 2-3.データフレームの形の確認"
      ]
    },
    {
      "cell_type": "markdown",
      "metadata": {
        "id": "dH7wlI49LOFc"
      },
      "source": [
        "\n",
        "\n",
        "```\n",
        "データフレームが代入された変数.shape\n",
        "```\n",
        "\n"
      ]
    },
    {
      "cell_type": "code",
      "metadata": {
        "id": "j1cAp9m6LUA3"
      },
      "source": [
        "# pandasのインポート\n",
        "import pandas as pd\n",
        "\n",
        "# データの読み込み\n",
        "df = pd.read_csv(\"train.csv\")\n",
        "\n",
        "# データフレームの形の表示\n",
        "print(df.shape)"
      ],
      "execution_count": null,
      "outputs": []
    },
    {
      "cell_type": "markdown",
      "metadata": {
        "id": "5rlynuBMLUaD"
      },
      "source": [
        "### 2-4.データフレームのカラム情報の確認\n"
      ]
    },
    {
      "cell_type": "markdown",
      "metadata": {
        "id": "7L-MZlvUL7lE"
      },
      "source": [
        "\n",
        "\n",
        "```\n",
        "データフレームが代入された変数.info()\n",
        "```\n",
        "\n"
      ]
    },
    {
      "cell_type": "code",
      "metadata": {
        "id": "FyW2m9AIMDCD"
      },
      "source": [
        "# pandasのインポート\n",
        "import pandas as pd\n",
        "\n",
        "# データの読み込み\n",
        "df = pd.read_csv(\"train.csv\")\n",
        "\n",
        "# 各カラムの詳細確認\n",
        "print(df.info())"
      ],
      "execution_count": null,
      "outputs": []
    },
    {
      "cell_type": "markdown",
      "metadata": {
        "id": "hOIyWFc6Iukf"
      },
      "source": [
        "## 3.データ整形"
      ]
    },
    {
      "cell_type": "markdown",
      "metadata": {
        "id": "gc5N4n8_MGBd"
      },
      "source": [
        "### 3-1.カラムの型の変更"
      ]
    },
    {
      "cell_type": "markdown",
      "metadata": {
        "id": "ERlp-ENeMLzL"
      },
      "source": [
        "**object型からdatetime64型へデータ型を変更**\n",
        "\n",
        "```\n",
        "データフレーム名['カラム名'] = pandas.to_datetime(データフレーム名['カラム名'], format=\"フォーマット\")\n",
        "```\n",
        "\n",
        "**to_datetime関数の引数でformatを記述することで形式を指定する**\n",
        "\n",
        "\n",
        "```\n",
        "pd.to_datetime(データフレーム名['カラム名'], format=\"%d/%m/%Y\")\n",
        "```\n",
        "\n"
      ]
    },
    {
      "cell_type": "code",
      "metadata": {
        "id": "1AZiSNIHNT63"
      },
      "source": [
        "# pandasのインポート\n",
        "import pandas as pd\n",
        "\n",
        "# データの読み込み\n",
        "df = pd.read_csv(\"train.csv\")\n",
        "\n",
        "# Dateの先頭5行の表示、データ型の確認\n",
        "print(df['Date'].head())\n",
        "\n",
        "# Dateのデータ型の変更\n",
        "df['Date'] = pd.to_datetime(df['Date'], format=\"%d/%m/%Y\")\n",
        "\n",
        "# Dateの先頭5行の表示、データ型の確認\n",
        "print(df['Date'].head())"
      ],
      "execution_count": null,
      "outputs": []
    },
    {
      "cell_type": "markdown",
      "metadata": {
        "id": "0wfqzrB4NX2S"
      },
      "source": [
        "### 3-2.データの並び替え"
      ]
    },
    {
      "cell_type": "markdown",
      "metadata": {
        "id": "BJdeOtpPNbyG"
      },
      "source": [
        "\n",
        "\n",
        "```\n",
        "データフレーム名.sort_values(by='カラム名', ascending=True, inplace=False)\n",
        "```\n",
        "\n"
      ]
    },
    {
      "cell_type": "code",
      "metadata": {
        "id": "3Pt9M24VNrSk"
      },
      "source": [
        "# pandasのインポート\n",
        "import pandas as pd\n",
        "\n",
        "# データの読み込み\n",
        "df = pd.read_csv(\"train.csv\")\n",
        "\n",
        "# Dateのデータ型の変更\n",
        "df['Date'] = pd.to_datetime(df['Date'], format=\"%d/%m/%Y\")\n",
        "\n",
        "# データの並び替え\n",
        "df.sort_values(by='Date', ascending=True, inplace=True)\n",
        "\n",
        "# 並び替えができたことを確認\n",
        "print(df.head())\n",
        "print(df.tail())"
      ],
      "execution_count": null,
      "outputs": []
    },
    {
      "cell_type": "markdown",
      "metadata": {
        "id": "ppSWa219NubW"
      },
      "source": [
        "### 3-3.インデックスの更新"
      ]
    },
    {
      "cell_type": "markdown",
      "metadata": {
        "id": "qLdV5HZ9N4S1"
      },
      "source": [
        "\n",
        "\n",
        "```\n",
        "データフレーム名.set_index(keys='カラム名', inplace=True)\n",
        "```\n",
        "\n"
      ]
    },
    {
      "cell_type": "code",
      "metadata": {
        "id": "nbetE0yqOBXQ"
      },
      "source": [
        "# pandasのインポート\n",
        "import pandas as pd\n",
        "# データの読み込み\n",
        "df = pd.read_csv(\"train.csv\")\n",
        "# Dateのデータ型の変更\n",
        "df['Date'] = pd.to_datetime(df['Date'], format=\"%d/%m/%Y\")\n",
        "# データの並び替え\n",
        "df.sort_values(by='Date', ascending=True, inplace=True)\n",
        "# 先頭5行の表示\n",
        "print(df.head())\n",
        "\n",
        "# インデックスの更新\n",
        "df.set_index(keys='Date', inplace=True)\n",
        "\n",
        "# 出力の違いの確認\n",
        "print(df.head())"
      ],
      "execution_count": null,
      "outputs": []
    },
    {
      "cell_type": "markdown",
      "metadata": {
        "id": "9q22DvNpODvd"
      },
      "source": [
        "### 3-4.重複カラムの確認"
      ]
    },
    {
      "cell_type": "markdown",
      "metadata": {
        "id": "8_WlercfOJTO"
      },
      "source": [
        "**今回は以下の手順に沿って値が重複しているか否かを確認**\n",
        "\n",
        "\n",
        "```\n",
        "1.   重複を確認したいカラムの抽出\n",
        "2.   データフレームのインデックスとカラムの入れ替え\n",
        "3.   重複の確認\n",
        "```\n",
        "\n",
        "\n",
        "```\n",
        "# データフレームから特定のカラムを取得する場合\n",
        "データフレーム名.loc['取得したいインデックス名','取得したいカラム名']\n",
        "# 複数の値を取得\n",
        "データフレーム名.loc['取得したいインデックス名', [取得したいカラム名のリスト]]\n",
        "# すべてのインデックスの値を取得したい場合\n",
        "データフレーム名.loc[:, [取得したいカラム名のリスト]]\n",
        "```\n",
        "\n",
        "**インデックスとカラムを入れ替える**\n",
        "\n",
        "```\n",
        "データフレーム名.transpose()\n",
        "```\n",
        "\n",
        "\n",
        "**インデックスの重複を確認する**\n",
        "\n",
        "\n",
        "```\n",
        "データフレーム名.duplicated(keep='first')\n",
        "```\n",
        "\n"
      ]
    },
    {
      "cell_type": "code",
      "metadata": {
        "id": "jyuqqWoiPXqS"
      },
      "source": [
        "# pandasのインポート\n",
        "import pandas as pd\n",
        "# データの読み込み\n",
        "df = pd.read_csv(\"train.csv\")\n",
        "# Dateのデータ型の変更\n",
        "df['Date'] = pd.to_datetime(df['Date'], format=\"%d/%m/%Y\")\n",
        "# データの並び替え\n",
        "df.sort_values(by='Date', ascending=True, inplace=True)\n",
        "# インデックスの更新\n",
        "df.set_index(keys='Date', inplace=True)\n",
        "\n",
        "# 特定のカラムの抽出\n",
        "df_2columns = df.loc[:, ['Close','Adj Close']]\n",
        "\n",
        "# インデックスとカラムの入れ替え\n",
        "df_transposed = df_2columns.transpose()\n",
        "\n",
        "# 重複カラムの確認\n",
        "print(df_transposed.duplicated(keep='first'))"
      ],
      "execution_count": null,
      "outputs": []
    },
    {
      "cell_type": "markdown",
      "metadata": {
        "id": "4RuHvk5FPbD_"
      },
      "source": [
        "### 3-5.重複カラムの削除"
      ]
    },
    {
      "cell_type": "markdown",
      "metadata": {
        "id": "GRfRoiPHPg6v"
      },
      "source": [
        "\n",
        "\n",
        "```\n",
        "データフレーム名.drop(columns=['カラム名'], inplace=False)\n",
        "```\n",
        "\n"
      ]
    },
    {
      "cell_type": "code",
      "metadata": {
        "id": "Ok7Hhh2wPwoJ"
      },
      "source": [
        "# pandasのインポート\n",
        "import pandas as pd\n",
        "# データの読み込み\n",
        "df = pd.read_csv(\"train.csv\")\n",
        "# Dateのデータ型の変更\n",
        "df['Date'] = pd.to_datetime(df['Date'], format=\"%d/%m/%Y\")\n",
        "# データの並び替え\n",
        "df.sort_values(by='Date', ascending=True, inplace=True)\n",
        "# インデックスの更新\n",
        "df.set_index(keys='Date', inplace=True)\n",
        "\n",
        "# データフレームの表示\n",
        "print(df.head())\n",
        "\n",
        "# 重複カラムの削除\n",
        "df.drop(columns=['Adj Close'], inplace=True)\n",
        "\n",
        "# データフレームの表示\n",
        "print(df.head())"
      ],
      "execution_count": null,
      "outputs": []
    },
    {
      "cell_type": "markdown",
      "metadata": {
        "id": "xB06DdqSIXMK"
      },
      "source": [
        "# [2] 株価トレンドの確認"
      ]
    },
    {
      "cell_type": "markdown",
      "metadata": {
        "id": "PjzL4SJqI9PM"
      },
      "source": [
        "## 1.変数の分布・値の確認"
      ]
    },
    {
      "cell_type": "markdown",
      "metadata": {
        "id": "yb5vDnH3Qbh4"
      },
      "source": [
        "### 1-1.ライブラリのインポート"
      ]
    },
    {
      "cell_type": "code",
      "metadata": {
        "id": "xO3HFvZ8Qk17"
      },
      "source": [
        "# matplotlibのインポート\n",
        "from matplotlib import pyplot as plt"
      ],
      "execution_count": null,
      "outputs": []
    },
    {
      "cell_type": "markdown",
      "metadata": {
        "id": "g0ogfZWIQlyT"
      },
      "source": [
        "### 1-2.量的データの統計量"
      ]
    },
    {
      "cell_type": "markdown",
      "metadata": {
        "id": "hOYxlrhBQqgT"
      },
      "source": [
        "\n",
        "\n",
        "```\n",
        "データフレーム名.describe()\n",
        "```\n",
        "\n"
      ]
    },
    {
      "cell_type": "code",
      "metadata": {
        "id": "yfzYshUmQxE7"
      },
      "source": [
        "# 基本統計量の出力\n",
        "print(df.describe())"
      ],
      "execution_count": null,
      "outputs": []
    },
    {
      "cell_type": "markdown",
      "metadata": {
        "id": "CFuFS-vEQ7He"
      },
      "source": [
        "### 1-3.量的データの時系列推移（長期的な株価の推移）"
      ]
    },
    {
      "cell_type": "markdown",
      "metadata": {
        "id": "FwcrD-VDQ-TK"
      },
      "source": [
        "\n",
        "\n",
        "```\n",
        "データフレーム名.plot(kind='line')\n",
        "```\n",
        "\n"
      ]
    },
    {
      "cell_type": "code",
      "metadata": {
        "id": "3CQf9agmRHtF"
      },
      "source": [
        "# matplotlibのインポート\n",
        "from matplotlib import pyplot as plt\n",
        "\n",
        "# 特定のカラムの抽出\n",
        "df_new = df.loc[:, ['Open', 'High', 'Low', 'Close']]\n",
        "\n",
        "# 折れ線グラフの描画\n",
        "df_new.plot(kind='line')\n",
        "\n",
        "# 描画の実行\n",
        "plt.show()"
      ],
      "execution_count": null,
      "outputs": []
    },
    {
      "cell_type": "markdown",
      "metadata": {
        "id": "Rte54iTWRPgI"
      },
      "source": [
        "### 1-4.量的データの時系列推移（短期的な株価の推移）"
      ]
    },
    {
      "cell_type": "markdown",
      "metadata": {
        "id": "NhseBe4DRWTz"
      },
      "source": [
        "**期間を指定して特定のカラムを抽出する**\n",
        "\n",
        "```\n",
        "データフレーム名.loc[データフレーム名.index > datetime(2017, 10, 1), [カラム名のリスト]]\n",
        "```\n",
        "\n",
        "**datetime関数を使用するためのインポート**\n",
        "\n",
        "\n",
        "```\n",
        "from datetime import datetime\n",
        "```\n",
        "\n"
      ]
    },
    {
      "cell_type": "code",
      "metadata": {
        "id": "1kwSIXAHSJor"
      },
      "source": [
        "# matplotlibのインポート\n",
        "from matplotlib import pyplot as plt\n",
        "\n",
        "# datetimeのインポート\n",
        "from datetime import datetime\n",
        "\n",
        "# 特定のカラムの抽出\n",
        "df_new = df.loc[df.index > datetime(2017, 10, 1), ['Open', 'High', 'Low', 'Close']]\n",
        "\n",
        "# 折れ線グラフの描画\n",
        "df_new.plot(kind='line')\n",
        "\n",
        "# 描画の実行\n",
        "plt.show()"
      ],
      "execution_count": null,
      "outputs": []
    },
    {
      "cell_type": "markdown",
      "metadata": {
        "id": "AJi2vdBwSL9J"
      },
      "source": [
        "### 1-5.質的データの種類と出現数"
      ]
    },
    {
      "cell_type": "markdown",
      "metadata": {
        "id": "cnf7-LTmSTYN"
      },
      "source": [
        "\n",
        "\n",
        "```\n",
        "シリーズ名.value_counts()\n",
        "```\n",
        "\n"
      ]
    },
    {
      "cell_type": "code",
      "metadata": {
        "id": "k-aebplaSlGg"
      },
      "source": [
        "# matplotlibのインポート\n",
        "from matplotlib import pyplot as plt\n",
        "\n",
        "# データフレームからUpのみを抽出\n",
        "sr_up = df['Up']\n",
        "\n",
        "# Upの出現数の確認\n",
        "print(sr_up.value_counts())\n",
        "\n",
        "# 株価の上昇回数の描画\n",
        "sr_up.plot(kind='line')\n",
        "\n",
        "# 描画の実行\n",
        "plt.show()"
      ],
      "execution_count": null,
      "outputs": []
    },
    {
      "cell_type": "markdown",
      "metadata": {
        "id": "yiT31uHySngs"
      },
      "source": [
        "### 1-6.データのサンプリング"
      ]
    },
    {
      "cell_type": "markdown",
      "metadata": {
        "id": "Avu3BdDCSwRa"
      },
      "source": [
        "**指定の期間ごとにまとめた代表値を抽出（＝サンプリング）する**\n",
        "\n",
        "```\n",
        "# 引数のruleは時間間隔を表し、'D'で日次、'W'で週次、'M'で月次を指定することができる\n",
        "シリーズ名.resample(rule='M')\n",
        "```\n",
        "\n",
        "\n",
        "**平均値を算出する**\n",
        "\n",
        "\n",
        "```\n",
        "シリーズ名.mean()\n",
        "```\n",
        "\n"
      ]
    },
    {
      "cell_type": "code",
      "metadata": {
        "id": "Tm8kxYorTQ6h"
      },
      "source": [
        "# matplotlibのインポート\n",
        "from matplotlib import pyplot as plt\n",
        "\n",
        "# データフレームからUpのみを抽出\n",
        "sr_up = df['Up']\n",
        "\n",
        "# シリーズを月ごとにサンプリング\n",
        "up_monthly = sr_up.resample(rule='M')\n",
        "\n",
        "# サンプルの平均値の算出\n",
        "up_mean = up_monthly.mean()\n",
        "\n",
        "# 月末で集約した平均値の描画\n",
        "up_mean.plot(kind='line')\n",
        "\n",
        "# 描画の実行\n",
        "plt.show()"
      ],
      "execution_count": null,
      "outputs": []
    },
    {
      "cell_type": "markdown",
      "metadata": {
        "id": "wbX2XoLjIXPW"
      },
      "source": [
        "# [3] ドメイン知識の活用"
      ]
    },
    {
      "cell_type": "markdown",
      "metadata": {
        "id": "vNDqU46NJOWC"
      },
      "source": [
        "## 1.データ前処理"
      ]
    },
    {
      "cell_type": "markdown",
      "metadata": {
        "id": "_w0Wwl2HTgRg"
      },
      "source": [
        "### 1-1.始値-終値差分値の作成"
      ]
    },
    {
      "cell_type": "code",
      "metadata": {
        "id": "nXeUERyuTu_6"
      },
      "source": [
        "# OpenとCloseの差額を計算\n",
        "df['Body'] = df['Open'] - df['Close']"
      ],
      "execution_count": null,
      "outputs": []
    },
    {
      "cell_type": "markdown",
      "metadata": {
        "id": "JZZyZ8pfIXRp"
      },
      "source": [
        "# [4] 株価予測モデルの作成"
      ]
    },
    {
      "cell_type": "markdown",
      "metadata": {
        "id": "JTZeBFAEJSLH"
      },
      "source": [
        "## 1.学習・評価データの分割"
      ]
    },
    {
      "cell_type": "markdown",
      "metadata": {
        "id": "RaQV5reAUfXS"
      },
      "source": [
        "### 1-1.ライブラリのインポート"
      ]
    },
    {
      "cell_type": "code",
      "metadata": {
        "id": "GLW8KkRKUns8"
      },
      "source": [
        "# train_test_splitのインポート\n",
        "from sklearn.model_selection import train_test_split"
      ],
      "execution_count": null,
      "outputs": []
    },
    {
      "cell_type": "markdown",
      "metadata": {
        "id": "uWkFvj5rUqu_"
      },
      "source": [
        "### 1-2.説明変数と目的変数にデータを分割"
      ]
    },
    {
      "cell_type": "code",
      "metadata": {
        "id": "CoOj1W4TVIMu"
      },
      "source": [
        "# 説明変数をX_dataに格納\n",
        "X_data = df.drop(columns=['Up'])\n",
        "\n",
        "# 目的変数をy_dataに格納\n",
        "y_data = df['Up']\n",
        "\n",
        "# X_dataとy_dataの先頭5行を確認\n",
        "print(X_data.head())\n",
        "print(y_data.head())"
      ],
      "execution_count": null,
      "outputs": []
    },
    {
      "cell_type": "markdown",
      "metadata": {
        "id": "-mLuAEUxVLd-"
      },
      "source": [
        "### 1-3.学習データ、検証データ、評価データに分割"
      ]
    },
    {
      "cell_type": "markdown",
      "metadata": {
        "id": "xYI_fv7dVWa4"
      },
      "source": [
        "\n",
        "\n",
        "```\n",
        "X_trainval, X_test, y_trainval, y_test = train_test_split(説明変数, 目的変数, test_size=0.20, shuffle=False)\n",
        "```\n",
        "\n"
      ]
    },
    {
      "cell_type": "code",
      "metadata": {
        "id": "s6dhZHkSWUFL"
      },
      "source": [
        "# train_test_splitのインポート\n",
        "from sklearn.model_selection import train_test_split\n",
        "\n",
        "# 学習データおよび検証データと、評価データに80:20の割合で2分割する\n",
        "X_trainval, X_test, y_trainval, y_test = train_test_split(X_data, y_data, test_size=0.2, shuffle=False)\n",
        "\n",
        "# 学習データと検証データに75:25の割合で2分割する\n",
        "X_train, X_val, y_train, y_val = train_test_split(X_trainval, y_trainval, test_size=0.25, shuffle=False)"
      ],
      "execution_count": null,
      "outputs": []
    },
    {
      "cell_type": "markdown",
      "metadata": {
        "id": "cz85YlOlWWns"
      },
      "source": [
        "### 1-4.分割結果の確認"
      ]
    },
    {
      "cell_type": "code",
      "metadata": {
        "id": "O2rSTUE5W-M3"
      },
      "source": [
        "# matplotlibのインポート\n",
        "from matplotlib import pyplot as plt\n",
        "\n",
        "# 学習データのCloseの描画\n",
        "X_train['Close'].plot(kind='line')\n",
        "\n",
        "# 検証データのCloseの描画\n",
        "X_val['Close'].plot(kind='line')\n",
        "\n",
        "# 評価データのCloseの描画\n",
        "X_test['Close'].plot(kind='line')\n",
        "\n",
        "# 折れ線グラフの凡例を表示\n",
        "plt.legend(['Train', 'Val', 'Test'])\n",
        "\n",
        "# 描画の実行\n",
        "plt.show()"
      ],
      "execution_count": null,
      "outputs": []
    },
    {
      "cell_type": "markdown",
      "metadata": {
        "id": "PLLZZwN5JSOv"
      },
      "source": [
        "## 2.データ整形"
      ]
    },
    {
      "cell_type": "markdown",
      "metadata": {
        "id": "Jo0SFNiDYbtK"
      },
      "source": [
        "### 2-1.ライブラリのインポート"
      ]
    },
    {
      "cell_type": "code",
      "metadata": {
        "id": "lo_uTwkNYnQc"
      },
      "source": [
        "# StandardScalerのインポート\n",
        "from sklearn.preprocessing import StandardScaler"
      ],
      "execution_count": null,
      "outputs": []
    },
    {
      "cell_type": "markdown",
      "metadata": {
        "id": "cF6FSblhYrBd"
      },
      "source": [
        "### 2-2.データフレームを用いたデータ構造の変形"
      ]
    },
    {
      "cell_type": "code",
      "metadata": {
        "id": "ZwPno5UWY-mn"
      },
      "source": [
        "# 関数get_tの定義\n",
        "def get_t(X, num_date):\n",
        "    X_t_list = []\n",
        "    for i in range(len(X) - num_date + 1):\n",
        "        X_t = X.iloc[i:i + num_date, :]\n",
        "        X_t_list.append(X_t)\n",
        "    return X_t_list\n",
        "\n",
        "# 期間の設定\n",
        "num_date = 5\n",
        "# 関数get_tの呼び出し\n",
        "X_t_list = get_t(X=X_train, num_date=num_date)\n",
        "# 学習データの1件目を表示\n",
        "print(X_t_list[0])\n",
        "# 学習データの2件目を表示\n",
        "print(X_t_list[1])"
      ],
      "execution_count": null,
      "outputs": []
    },
    {
      "cell_type": "markdown",
      "metadata": {
        "id": "pvzWI0bnZA8W"
      },
      "source": [
        "### 2-3.Numpyを用いたデータ構造の変形"
      ]
    },
    {
      "cell_type": "markdown",
      "metadata": {
        "id": "D3Pz12puZFIo"
      },
      "source": [
        "**NumPy配列への変換**\n",
        "\n",
        "\n",
        "```\n",
        "numpy.array(変換したいデータ)\n",
        "```\n",
        "\n"
      ]
    },
    {
      "cell_type": "code",
      "metadata": {
        "id": "06GvHxhcZgFU"
      },
      "source": [
        "# numpyのインポート\n",
        "import numpy as np\n",
        "\n",
        "# 関数get_tの定義\n",
        "def get_t(X, num_date):\n",
        "    # 入力データをNumPy配列に変換\n",
        "    X = np.array(X)\n",
        "    X_t_list = []\n",
        "    for i in range(len(X) - num_date + 1):\n",
        "        X_t = X[i:i+num_date, :]\n",
        "        X_t_list.append(X_t)\n",
        "    # Numpy配列のreturn\n",
        "    return np.array(X_t_list)\n",
        "\n",
        "num_date = 5\n",
        "\n",
        "# get_tの呼び出し\n",
        "X_array_data = get_t(X_train, num_date=num_date)\n",
        "\n",
        "# 学習データの1件目を表示\n",
        "print(X_array_data[0])\n",
        "# 学習データの2件目を表示\n",
        "print(X_array_data[1])"
      ],
      "execution_count": null,
      "outputs": []
    },
    {
      "cell_type": "markdown",
      "metadata": {
        "id": "NTVuKRAtYb0J"
      },
      "source": [
        "### 2-4.データの標準化、データ構造の変形"
      ]
    },
    {
      "cell_type": "code",
      "metadata": {
        "id": "ixdv2UDWaNTs"
      },
      "source": [
        "# StandardScalerをインポート\n",
        "from sklearn.preprocessing import StandardScaler\n",
        "# numpyのインポート\n",
        "import numpy as np\n",
        "\n",
        "# 関数get_standardized_tの定義\n",
        "def get_standardized_t(X, num_date):\n",
        "    X = np.array(X)\n",
        "    X_t_list = []\n",
        "    for i in range(len(X) - num_date + 1):\n",
        "        X_t = X[i:i+num_date]\n",
        "        scaler = StandardScaler()\n",
        "        X_standardized = scaler.fit_transform(X_t)\n",
        "        X_t_list.append(X_standardized)\n",
        "    return np.array(X_t_list)\n",
        "\n",
        "num_date = 5    \n",
        "\n",
        "# 関数get_standardized_tの呼び出し\n",
        "X_array_data = get_standardized_t(X_train, num_date=num_date)\n",
        "\n",
        "# 学習データの1件目を表示\n",
        "print(X_array_data[0])\n",
        "# 学習データの2件目を表示\n",
        "print(X_array_data[1])"
      ],
      "execution_count": null,
      "outputs": []
    },
    {
      "cell_type": "markdown",
      "metadata": {
        "id": "8PWpc8ckaXPT"
      },
      "source": [
        "### 2-5.学習データ、検証データ、評価データの説明変数の変形と変換"
      ]
    },
    {
      "cell_type": "code",
      "metadata": {
        "id": "Bj6BKgeTaoOA"
      },
      "source": [
        "from sklearn.preprocessing import StandardScaler\n",
        "import numpy as np\n",
        "\n",
        "# 関数get_standardized_tの定義\n",
        "def get_standardized_t(X, num_date):\n",
        "    X = np.array(X)\n",
        "    X_t_list = []\n",
        "    for i in range(len(X) - num_date + 1):\n",
        "        X_t = X[i:i+num_date]\n",
        "        scaler = StandardScaler()\n",
        "        X_standardized = scaler.fit_transform(X_t)\n",
        "        X_t_list.append(X_standardized)\n",
        "    return np.array(X_t_list)\n",
        "\n",
        "num_date = 5\n",
        "\n",
        "# 学習用、検証用、評価用データの加工\n",
        "X_train_t =  get_standardized_t(X=X_train, num_date=num_date)\n",
        "X_val_t = get_standardized_t(X=X_val, num_date=num_date)\n",
        "X_test_t = get_standardized_t(X=X_test, num_date=num_date)\n",
        "\n",
        "# 学習用、検証用、評価用データの形の表示\n",
        "print(X_train_t.shape)\n",
        "print(X_val_t.shape)\n",
        "print(X_test_t.shape)"
      ],
      "execution_count": null,
      "outputs": []
    },
    {
      "cell_type": "markdown",
      "metadata": {
        "id": "VKSQVOuearti"
      },
      "source": [
        "### 2-6.学習データ、検証データ、評価データの目的変数の変形"
      ]
    },
    {
      "cell_type": "code",
      "metadata": {
        "id": "dF4OqyFMa6fq"
      },
      "source": [
        "num_date = 5  \n",
        "\n",
        "# 目的変数の変形\n",
        "y_train_t = y_train[num_date-1:]\n",
        "y_val_t = y_val[num_date-1:]\n",
        "y_test_t = y_test[num_date-1:]\n",
        "\n",
        "# 目的変数の形の表示\n",
        "print(y_train_t.shape)\n",
        "print(y_val_t.shape)\n",
        "print(y_test_t.shape)\n",
        "\n",
        "# 目的変数の平均値の表示\n",
        "print(y_train_t.mean())\n",
        "print(y_val_t.mean())\n",
        "print(y_test_t.mean())"
      ],
      "execution_count": null,
      "outputs": []
    },
    {
      "cell_type": "markdown",
      "metadata": {
        "id": "YiIXnqfSJSRy"
      },
      "source": [
        "## 3.モデルの学習"
      ]
    },
    {
      "cell_type": "markdown",
      "metadata": {
        "id": "vQ1beh-WDfeo"
      },
      "source": [
        "### 3-1.ライブラリのインポート"
      ]
    },
    {
      "cell_type": "code",
      "metadata": {
        "id": "6LdaOcW7D6It"
      },
      "source": [
        "# Sequentialのインポート\n",
        "from keras.models import Sequential\n",
        "# Dense、LSTMのインポート\n",
        "from keras.layers import Dense, LSTM"
      ],
      "execution_count": null,
      "outputs": []
    },
    {
      "cell_type": "markdown",
      "metadata": {
        "id": "gs5h2EozDfic"
      },
      "source": [
        "### 3-2.LSTMネットワークの定義"
      ]
    },
    {
      "cell_type": "markdown",
      "metadata": {
        "id": "-uFF-G4zLVrU"
      },
      "source": [
        "**今回のネットワークの定義**\n",
        "\n",
        "\n",
        "```\n",
        "第1層\n",
        "構造：LSTM\n",
        "幅：100\n",
        "活性化関数：tanh\n",
        "\n",
        "第2層\n",
        "構造：Dense\n",
        "幅：20\n",
        "活性化関数：relu\n",
        "\n",
        "出力層\n",
        "構造：Dense\n",
        "幅：1\n",
        "活性化関数：sigmoid\n",
        "```\n",
        "\n",
        "\n",
        "\n",
        "```\n",
        "batch_input_shape = (バッチサイズ, 説明変数の時系列の長さ, 説明変数の特徴量の種類)\n",
        "```\n",
        "**compile関数によりモデルの確定**\n",
        "\n",
        "\n",
        "```\n",
        "損失関数、最適化アルゴリズム、評価指標を指定\n",
        "```\n",
        "\n"
      ]
    },
    {
      "cell_type": "code",
      "metadata": {
        "id": "GWMRiOPfMb1P"
      },
      "source": [
        "# ネットワークの各層のサイズの定義\n",
        "num_l1 = 100\n",
        "num_l2 = 20\n",
        "num_output = 1\n",
        "\n",
        "# 以下、ネットワークを構築\n",
        "model = Sequential()\n",
        "# 第1層\n",
        "model.add(LSTM(units=num_l1,\n",
        "                activation='tanh',\n",
        "                batch_input_shape=(None, X_train_t.shape[1], X_train_t.shape[2])))\n",
        "# 第2層\n",
        "model.add(Dense(num_l2, activation='relu'))\n",
        "# 出力層\n",
        "model.add(Dense(num_output, activation='sigmoid'))\n",
        "# ネットワークのコンパイル\n",
        "model.compile(loss='binary_crossentropy', optimizer='adam', metrics=['accuracy'])"
      ],
      "execution_count": null,
      "outputs": []
    },
    {
      "cell_type": "markdown",
      "metadata": {
        "id": "HX4Frdf2M9sp"
      },
      "source": [
        "### 3-3.モデルの学習"
      ]
    },
    {
      "cell_type": "markdown",
      "metadata": {
        "id": "rky2S27WNKiJ"
      },
      "source": [
        "**fit関数の引数**\n",
        "\n",
        "\n",
        "```\n",
        "result = model.fit(x=学習データの説明変数, y=学習データの目的変数, epochs=エポック数, batch_size=ミニバッチサイズ, validation_data=(検証データの説明変数, 検証データの目的変数)\n",
        "```\n",
        "\n"
      ]
    },
    {
      "cell_type": "code",
      "metadata": {
        "id": "4d1dObQtNus8"
      },
      "source": [
        "# モデルの学習の実行（学習の完了までには数秒から数十秒ほど時間がかかります。）\n",
        "result = model.fit(x=X_train_t, y=y_train_t, epochs=80, batch_size=24, validation_data=(X_val_t, y_val_t))"
      ],
      "execution_count": null,
      "outputs": []
    },
    {
      "cell_type": "markdown",
      "metadata": {
        "id": "Fv1DCIjEJSUP"
      },
      "source": [
        "## 4.モデルの精度評価"
      ]
    },
    {
      "cell_type": "markdown",
      "metadata": {
        "id": "svfVb_qRO-fO"
      },
      "source": [
        "### 4-1.学習曲線の確認"
      ]
    },
    {
      "cell_type": "code",
      "metadata": {
        "id": "7sJY3LqCQ4qr"
      },
      "source": [
        "# matplotlibのインポート\n",
        "from matplotlib import pyplot as plt\n",
        "\n",
        "# 折れ線グラフによる学習データの損失の描画\n",
        "plt.plot(result.history['loss'])\n",
        "\n",
        "# 折れ線グラフによる検証データの損失の描画\n",
        "plt.plot(result.history['val_loss'])\n",
        "\n",
        "# 凡例の指定\n",
        "plt.legend(['Train', 'Val'])\n",
        "\n",
        "# グラフの軸タイトルの指定\n",
        "plt.xlabel('Epoch')\n",
        "plt.ylabel('Loss')\n",
        "\n",
        "# 描画の実行\n",
        "plt.show()"
      ],
      "execution_count": null,
      "outputs": []
    },
    {
      "cell_type": "markdown",
      "metadata": {
        "id": "92QmFdu0TDE0"
      },
      "source": [
        "### 4-2.正解率の確認"
      ]
    },
    {
      "cell_type": "code",
      "metadata": {
        "id": "4vVT6N3NTgEu"
      },
      "source": [
        "# matplotlibのインポート\n",
        "from matplotlib import pyplot as plt\n",
        "\n",
        "# 折れ線グラフによる学習データの正解率の描画\n",
        "plt.plot(result.history['acc'])\n",
        "\n",
        "# 折れ線グラフによる検証データの正解率の描画\n",
        "plt.plot(result.history['val_acc'])\n",
        "\n",
        "# 凡例の指定\n",
        "plt.legend(['Train', 'Val'])\n",
        "\n",
        "# グラフの軸タイトルの指定\n",
        "plt.xlabel('Epoch')\n",
        "plt.ylabel('Accuracy')\n",
        "\n",
        "# 描画の実行\n",
        "plt.show()"
      ],
      "execution_count": null,
      "outputs": []
    },
    {
      "cell_type": "markdown",
      "metadata": {
        "id": "z5z2pvgiTls7"
      },
      "source": [
        "### 4-3.評価データの予測"
      ]
    },
    {
      "cell_type": "code",
      "metadata": {
        "id": "F1icNG_fT_z6"
      },
      "source": [
        "# 評価データの正解率の計算\n",
        "loss, accuracy = model.evaluate(X_test_t, y_test_t)\n",
        "\n",
        "# 評価データの正解率の表示\n",
        "print('評価データの正解率:', accuracy)"
      ],
      "execution_count": null,
      "outputs": []
    },
    {
      "cell_type": "markdown",
      "metadata": {
        "id": "TtsBgZmJIm_5"
      },
      "source": [
        "# [5] モデルの予測精度の改善"
      ]
    },
    {
      "cell_type": "markdown",
      "metadata": {
        "id": "X-mbhZqhJinF"
      },
      "source": [
        "## 1.特徴量の追加"
      ]
    },
    {
      "cell_type": "markdown",
      "metadata": {
        "id": "eX5y1VWrUyFe"
      },
      "source": [
        "### 1-1.終値前日比の追加"
      ]
    },
    {
      "cell_type": "markdown",
      "metadata": {
        "id": "CQZ_-quKU9Db"
      },
      "source": [
        "**時系列データに対して、指定の期間分を前後にずらした値を算出する**\n",
        "\n",
        "\n",
        "```\n",
        "データ名.shift(ずらす行数)\n",
        "```\n",
        "**今回の場合**\n",
        "\n",
        "\n",
        "```\n",
        "[終値前日比] = ([当日終値] - [前日終値]) / [前日終値]\n",
        "(df['Close'] - df['Close'].shift(1)) / df['Close'].shift(1)\n",
        "```\n",
        "\n",
        "**NaNの値に対する一括変換を行う**\n",
        "\n",
        "\n",
        "```\n",
        "NaNを含む変数.fillna(0)\n",
        "```"
      ]
    },
    {
      "cell_type": "code",
      "metadata": {
        "id": "ZIBMkH0QVnGR"
      },
      "source": [
        "# Mission3のデータ前処理までをまとめて実施\n",
        "import pandas as pd\n",
        "df = pd.read_csv(\"train.csv\")\n",
        "df['Date'] = pd.to_datetime(df['Date'], format=\"%d/%m/%Y\")\n",
        "df.sort_values(by='Date', ascending=True, inplace=True)\n",
        "df.set_index(keys='Date', inplace=True)\n",
        "df.drop(columns=['Adj Close'], inplace=True)\n",
        "df['Body'] = df['Open'] - df['Close']\n",
        "\n",
        "# 終値の先頭5行の確認\n",
        "print(df['Close'].head())\n",
        "\n",
        "# shiftを用いて1日分ずらした終値の先頭5行の確認\n",
        "print(df['Close'].shift(1).head())\n",
        "\n",
        "# 前日比の計算\n",
        "df_rate = (df['Close'] - df['Close'].shift(1)) / df['Close'].shift(1)\n",
        "\n",
        "# NaNを0に変換\n",
        "df_rate = df_rate.fillna(0)\n",
        "\n",
        "# 終値前日比の先頭5行の確認\n",
        "df['Rate'] = df_rate\n",
        "print(df['Rate'].head())"
      ],
      "execution_count": null,
      "outputs": []
    },
    {
      "cell_type": "markdown",
      "metadata": {
        "id": "flwORLHEVstl"
      },
      "source": [
        "### 1-2.モデルの学習の前準備"
      ]
    },
    {
      "cell_type": "code",
      "metadata": {
        "id": "gSih65bLWCb-"
      },
      "source": [
        "# numpy, train_test_split, StandardScaler のインポート\n",
        "import numpy as np\n",
        "from sklearn.model_selection import train_test_split\n",
        "from sklearn.preprocessing import StandardScaler\n",
        "\n",
        "# 説明変数と目的変数に分割\n",
        "X_data = df.drop(columns=['Up'])\n",
        "y_data = df['Up']\n",
        "\n",
        "# 学習データ、検証データ、評価データに分割\n",
        "X_trainval, X_test, y_trainval, y_test = train_test_split(X_data, y_data, test_size=0.20, shuffle=False)\n",
        "X_train, X_val, y_train, y_val = train_test_split(X_trainval, y_trainval, test_size=0.25, shuffle=False)\n",
        "\n",
        "# 標準化を伴いながら num_date日間ごとに株価データを積み重ねる関数\n",
        "def get_standardized_t(X, num_date):\n",
        "    X = np.array(X)\n",
        "    X_t_list = []\n",
        "    for i in range(len(X) - num_date + 1):\n",
        "        X_t = X[i:i+num_date]\n",
        "        scaler = StandardScaler()\n",
        "        X_standardized = scaler.fit_transform(X_t)\n",
        "        X_t_list.append(X_standardized)\n",
        "    return np.array(X_t_list)\n",
        "\n",
        "# 抽出する期間の指定\n",
        "num_date = 5\n",
        "\n",
        "# 学習データ、検証データ、評価データの説明変数の変形と変換\n",
        "X_train_t =  get_standardized_t(X_train, num_date=num_date)\n",
        "X_val_t = get_standardized_t(X_val, num_date=num_date)\n",
        "X_test_t = get_standardized_t(X_test, num_date=num_date)\n",
        "\n",
        "# 学習データ、検証データ、評価データの目的変数の変形と変換\n",
        "y_train_t = y_train[num_date-1:]\n",
        "y_val_t = y_val[num_date-1:]\n",
        "y_test_t = y_test[num_date-1:]"
      ],
      "execution_count": null,
      "outputs": []
    },
    {
      "cell_type": "markdown",
      "metadata": {
        "id": "pam784yHXC8g"
      },
      "source": [
        "### 1-3.モデルの学習"
      ]
    },
    {
      "cell_type": "markdown",
      "metadata": {
        "id": "NqjRvaGrWMb7"
      },
      "source": [
        "```\n",
        "第1層\n",
        "構造：LSTM\n",
        "幅：100\n",
        "活性化関数：tanh\n",
        "\n",
        "第2層\n",
        "構造：Dense\n",
        "幅：20\n",
        "活性化関数：relu\n",
        "\n",
        "出力層\n",
        "構造：Dense\n",
        "幅：1\n",
        "活性化関数：sigmoid\n",
        "\n",
        "コンパイル時の設定\n",
        "損失関数:binary_crossentropy\n",
        "最適化アルゴリズム:adam\n",
        "評価指標:accuracy\n",
        "\n",
        "学習時の設定\n",
        "エポック数：80\n",
        "ミニバッチサイズ：24\n",
        "```\n",
        "\n"
      ]
    },
    {
      "cell_type": "code",
      "metadata": {
        "id": "KHkD2hRTXGvg"
      },
      "source": [
        "# ネットワークの各層のサイズの定義\n",
        "num_l1 = 100\n",
        "num_l2 = 20\n",
        "num_output = 1\n",
        "\n",
        "# 以下、ネットワークを構築\n",
        "model = Sequential()\n",
        "# 第1層\n",
        "model.add(LSTM(units=num_l1, \n",
        "               activation='tanh', \n",
        "               batch_input_shape=(None, X_train_t.shape[1], X_train_t.shape[2])))\n",
        "# 第2層\n",
        "model.add(Dense(num_l2, activation='relu'))\n",
        "# 出力層\n",
        "model.add(Dense(num_output, activation='sigmoid'))\n",
        "# ネットワークのコンパイル\n",
        "model.compile(loss='binary_crossentropy', optimizer='adam', metrics=['accuracy'])\n",
        "\n",
        "# モデルの学習の実行（学習の完了までには数秒から数十秒ほど時間がかかります。）\n",
        "result = model.fit(x=X_train_t, y=y_train_t, epochs=80, batch_size=24, validation_data=(X_val_t, y_val_t))"
      ],
      "execution_count": null,
      "outputs": []
    },
    {
      "cell_type": "markdown",
      "metadata": {
        "id": "QVGQGCxpWzAX"
      },
      "source": [
        "### 1-4.学習曲線の確認"
      ]
    },
    {
      "cell_type": "code",
      "metadata": {
        "id": "d_LPfwnjWvH3"
      },
      "source": [
        "# matplotlibのインポート\n",
        "from matplotlib import pyplot as plt\n",
        "\n",
        "# 損失のグラフの描画\n",
        "plt.subplot(1, 2, 1)\n",
        "plt.plot(result.history['loss'])\n",
        "plt.plot(result.history['val_loss'])\n",
        "plt.legend(['Train', 'Val'])\n",
        "plt.xlabel('Epoch')\n",
        "plt.ylabel('Loss')\n",
        "plt.title('Loss')\n",
        "\n",
        "# 正解率のグラフの描画\n",
        "plt.subplot(1, 2, 2)\n",
        "plt.plot(result.history['acc'])\n",
        "plt.plot(result.history['val_acc'])\n",
        "plt.legend(['Train', 'Val'])\n",
        "plt.xlabel('Epoch')\n",
        "plt.ylabel('Accuracy')\n",
        "plt.title('Accuracy')\n",
        "\n",
        "# 描画の実行\n",
        "plt.show()"
      ],
      "execution_count": null,
      "outputs": []
    },
    {
      "cell_type": "markdown",
      "metadata": {
        "id": "D0Gw4R9hJipr"
      },
      "source": [
        "## 2.モデル構造の改善"
      ]
    },
    {
      "cell_type": "markdown",
      "metadata": {
        "id": "8xQjP-LTY4Rq"
      },
      "source": [
        "### 2-1.Dropoutの追加"
      ]
    },
    {
      "cell_type": "markdown",
      "metadata": {
        "id": "i7zVcaZ_Y83d"
      },
      "source": [
        "**KerasでDropoutを使う場合**\n",
        "\n",
        "\n",
        "```\n",
        "from keras.layers import Dropout\n",
        "\n",
        "model.add(LSTM(units=層のサイズ, activation=活性化関数の種類))\n",
        "```\n",
        "\n"
      ]
    },
    {
      "cell_type": "code",
      "metadata": {
        "id": "Qz9xH9U0m7Mp"
      },
      "source": [
        "# Dropoutのインポート\n",
        "from keras.layers import Dropout\n",
        "\n",
        "# ネットワークの各層のサイズの定義\n",
        "num_l1 = 100\n",
        "num_l2 = 20\n",
        "num_output = 1\n",
        "\n",
        "# Dropoutの割合の定義\n",
        "dropout_rate = 0.4\n",
        "\n",
        "# 以下、ネットワークを構築\n",
        "model = Sequential()\n",
        "# 第1層\n",
        "model.add(LSTM(units=num_l1, \n",
        "               activation='tanh', \n",
        "               batch_input_shape=(None, X_train_t.shape[1], X_train_t.shape[2])))\n",
        "model.add(Dropout(dropout_rate))\n",
        "# 第2層\n",
        "model.add(Dense(num_l2, activation='relu'))\n",
        "model.add(Dropout(dropout_rate))\n",
        "# 出力層\n",
        "model.add(Dense(num_output, activation='sigmoid'))\n",
        "# ネットワークのコンパイル\n",
        "model.compile(loss='binary_crossentropy', optimizer='adam', metrics=['accuracy'])\n",
        "\n",
        "# モデルの学習の実行（学習の完了までには数秒から数十秒ほど時間がかかります。）\n",
        "result = model.fit(x=X_train_t, y=y_train_t, epochs=80, batch_size=24, validation_data=(X_val_t, y_val_t))"
      ],
      "execution_count": null,
      "outputs": []
    },
    {
      "cell_type": "markdown",
      "metadata": {
        "id": "_ND1h2OcnOIz"
      },
      "source": [
        "### 2-2.学習曲線の確認"
      ]
    },
    {
      "cell_type": "code",
      "metadata": {
        "id": "YlEbb9ATnQCD"
      },
      "source": [
        "# matplotlibのインポート\n",
        "from matplotlib import pyplot as plt\n",
        "\n",
        "# 損失のグラフの描画\n",
        "plt.subplot(1, 2, 1)\n",
        "plt.plot(result.history['loss'])\n",
        "plt.plot(result.history['val_loss'])\n",
        "plt.legend(['Train', 'Val'])\n",
        "plt.xlabel('Epoch')\n",
        "plt.ylabel('Loss')\n",
        "plt.title('Loss')\n",
        "\n",
        "# 正解率のグラフの描画\n",
        "plt.subplot(1, 2, 2)\n",
        "plt.plot(result.history['acc'])\n",
        "plt.plot(result.history['val_acc'])\n",
        "plt.legend(['Train', 'Val'])\n",
        "plt.xlabel('Epoch')\n",
        "plt.ylabel('Accuracy')\n",
        "plt.title('Accuracy')\n",
        "\n",
        "# 描画の実行\n",
        "plt.show()"
      ],
      "execution_count": null,
      "outputs": []
    },
    {
      "cell_type": "markdown",
      "metadata": {
        "id": "Q5twtIe3nXLz"
      },
      "source": [
        "### 2-3.評価データの予測"
      ]
    },
    {
      "cell_type": "markdown",
      "metadata": {
        "id": "crYuvcldnfUd"
      },
      "source": [
        "**評価データに対する正解率**\n",
        "\n",
        "\n",
        "```\n",
        "評価データの損失, 評価データの正解率 = model.evaluate(評価データの説明変数, 評価データの目的変数)\n",
        "```\n",
        "\n",
        "**モデルの予測結果**\n",
        "\n",
        "\n",
        "```\n",
        "評価データの予測結果 = model.predict(評価データの説明変数)\n",
        "```\n",
        "\n",
        "**予測結果を0もしくは1に丸める**\n",
        "\n",
        "\n",
        "```\n",
        "丸め済の評価データの予測結果 = np.round(評価データの予測結果)\n",
        "```\n",
        "\n",
        "**評価データの目的変数と丸め済の評価データの予測結果の一致の程度を計算する**\n",
        "\n",
        "\n",
        "```\n",
        "評価データの正解率 = accuracy_score(y_true=評価データの目的変数, y_pred=丸め済の評価データの予測結果)\n",
        "```\n",
        "\n"
      ]
    },
    {
      "cell_type": "code",
      "metadata": {
        "id": "eQ0SHKCVoE66"
      },
      "source": [
        "# ライブラリのインポート\n",
        "import numpy as np\n",
        "from sklearn.metrics import accuracy_score\n",
        "\n",
        "# 評価データの予測結果の算出\n",
        "pred_prob = model.predict(X_test_t)\n",
        "\n",
        "# 予測結果の先頭10件を確認\n",
        "print('予測結果の先頭10件')\n",
        "print(pred_prob[:10])\n",
        "\n",
        "# 評価データの予測結果を0もしくは1に丸め込み\n",
        "pred = np.round(pred_prob)\n",
        "\n",
        "# 丸め込んだ予測結果の先頭10件を確認\n",
        "print('丸め込んだ予測結果の先頭10件')\n",
        "print(pred[:10])\n",
        "\n",
        "# 評価データの正解率の計算\n",
        "accuracy = accuracy_score(y_true=y_test_t, y_pred=pred)\n",
        "\n",
        "# 評価データの正解率の表示\n",
        "print('評価データの正解率:', accuracy)"
      ],
      "execution_count": null,
      "outputs": []
    }
  ]
}