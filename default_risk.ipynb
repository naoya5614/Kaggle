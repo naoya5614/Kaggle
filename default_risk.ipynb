{
  "nbformat": 4,
  "nbformat_minor": 0,
  "metadata": {
    "colab": {
      "name": "default_risk.ipynb",
      "provenance": [],
      "authorship_tag": "ABX9TyPqM32vBFhdi40rpNUv4xiE",
      "include_colab_link": true
    },
    "kernelspec": {
      "name": "python3",
      "display_name": "Python 3"
    },
    "language_info": {
      "name": "python"
    },
    "accelerator": "GPU"
  },
  "cells": [
    {
      "cell_type": "markdown",
      "metadata": {
        "id": "view-in-github",
        "colab_type": "text"
      },
      "source": [
        "<a href=\"https://colab.research.google.com/github/naoya5614/SIGNATE-Kaggle/blob/main/default_risk.ipynb\" target=\"_parent\"><img src=\"https://colab.research.google.com/assets/colab-badge.svg\" alt=\"Open In Colab\"/></a>"
      ]
    },
    {
      "cell_type": "code",
      "metadata": {
        "colab": {
          "base_uri": "https://localhost:8080/"
        },
        "id": "0X4rXdbgNdaE",
        "outputId": "b6297624-7cf8-4e08-fa26-6372c6d34195"
      },
      "source": [
        "from google.colab import drive\n",
        "drive.mount('/content/drive')"
      ],
      "execution_count": 116,
      "outputs": [
        {
          "output_type": "stream",
          "name": "stdout",
          "text": [
            "Drive already mounted at /content/drive; to attempt to forcibly remount, call drive.mount(\"/content/drive\", force_remount=True).\n"
          ]
        }
      ]
    },
    {
      "cell_type": "code",
      "metadata": {
        "colab": {
          "base_uri": "https://localhost:8080/"
        },
        "id": "uDM_WYcgMcdl",
        "outputId": "9186d9d3-43ed-4381-9121-43a1c324a4b8"
      },
      "source": [
        "!nvidia-smi"
      ],
      "execution_count": 117,
      "outputs": [
        {
          "output_type": "stream",
          "name": "stdout",
          "text": [
            "Sun Oct 10 01:25:30 2021       \n",
            "+-----------------------------------------------------------------------------+\n",
            "| NVIDIA-SMI 470.74       Driver Version: 460.32.03    CUDA Version: 11.2     |\n",
            "|-------------------------------+----------------------+----------------------+\n",
            "| GPU  Name        Persistence-M| Bus-Id        Disp.A | Volatile Uncorr. ECC |\n",
            "| Fan  Temp  Perf  Pwr:Usage/Cap|         Memory-Usage | GPU-Util  Compute M. |\n",
            "|                               |                      |               MIG M. |\n",
            "|===============================+======================+======================|\n",
            "|   0  Tesla P100-PCIE...  Off  | 00000000:00:04.0 Off |                    0 |\n",
            "| N/A   35C    P0    27W / 250W |      0MiB / 16280MiB |      0%      Default |\n",
            "|                               |                      |                  N/A |\n",
            "+-------------------------------+----------------------+----------------------+\n",
            "                                                                               \n",
            "+-----------------------------------------------------------------------------+\n",
            "| Processes:                                                                  |\n",
            "|  GPU   GI   CI        PID   Type   Process name                  GPU Memory |\n",
            "|        ID   ID                                                   Usage      |\n",
            "|=============================================================================|\n",
            "|  No running processes found                                                 |\n",
            "+-----------------------------------------------------------------------------+\n"
          ]
        }
      ]
    },
    {
      "cell_type": "code",
      "metadata": {
        "id": "22qJv0sDQTxe"
      },
      "source": [
        "import numpy as np\n",
        "import pandas as pd\n",
        "import seaborn as sns\n",
        "import matplotlib.pyplot as plt\n",
        "from sklearn.metrics import confusion_matrix\n",
        "from sklearn.linear_model import LogisticRegression\n",
        "from sklearn.model_selection import train_test_split\n",
        "from sklearn.metrics import f1_score\n",
        "from imblearn.under_sampling import RandomUnderSampler\n",
        "import lightgbm as lgb #LightGBM"
      ],
      "execution_count": 150,
      "outputs": []
    },
    {
      "cell_type": "code",
      "metadata": {
        "id": "Crsg2w9ySV-m"
      },
      "source": [
        "# 読み込み\n",
        "df = pd.read_csv('/content/drive/MyDrive/default_risk/train.csv')\n",
        "\n",
        "# 重複部分の削除\n",
        "df.drop_duplicates(inplace=True)\n",
        "\n",
        "# 重複部分の削除の後に新しいインデックスを取得\n",
        "df.reset_index(drop=True, inplace=True)\n",
        "\n",
        "# 欠損値を削除\n",
        "df = df.dropna()\n",
        "\n",
        "# id列を削除\n",
        "del df['id']\n",
        "\n",
        "# 「years、year」を削除 ex.「3 years」→「3」\n",
        "df[\"term\"] = df[\"term\"].str.replace('years', '')\n",
        "df[\"employment_length\"] = df[\"employment_length\"].str.replace('years', '').str.replace('year', '')\n",
        "\n",
        "# FullyPaidを0、ChargedOffを1に設定\n",
        "df[\"loan_status\"] = df[\"loan_status\"].replace('FullyPaid', '0').replace('ChargedOff', '1')\n",
        "\n",
        "df[\"term\"] = df[\"term\"].astype(int)\n",
        "df[\"employment_length\"] = df[\"employment_length\"].astype(int)\n",
        "df[\"loan_status\"] = df[\"loan_status\"].astype(int)\n",
        "\n",
        "# データフレームの分離\n",
        "col_categoric = [\"grade\", \"purpose\", \"application_type\", \"loan_status\"]\n",
        "df_numeric = df.drop(col_categoric, axis=1)\n",
        "df_categoric = df[col_categoric]\n",
        "\n",
        "# df_categoric内の\"loan_status\"列と、df_numericの列を横結合する\n",
        "df_tmp = pd.concat([df_categoric[\"loan_status\"], df_numeric], axis=1)"
      ],
      "execution_count": 119,
      "outputs": []
    },
    {
      "cell_type": "code",
      "metadata": {
        "colab": {
          "base_uri": "https://localhost:8080/",
          "height": 204
        },
        "id": "76DTe7yZX0py",
        "outputId": "ca0eb89a-d464-4b25-98b9-9bb5e8f4f991"
      },
      "source": [
        "df.head()"
      ],
      "execution_count": 120,
      "outputs": [
        {
          "output_type": "execute_result",
          "data": {
            "text/html": [
              "<div>\n",
              "<style scoped>\n",
              "    .dataframe tbody tr th:only-of-type {\n",
              "        vertical-align: middle;\n",
              "    }\n",
              "\n",
              "    .dataframe tbody tr th {\n",
              "        vertical-align: top;\n",
              "    }\n",
              "\n",
              "    .dataframe thead th {\n",
              "        text-align: right;\n",
              "    }\n",
              "</style>\n",
              "<table border=\"1\" class=\"dataframe\">\n",
              "  <thead>\n",
              "    <tr style=\"text-align: right;\">\n",
              "      <th></th>\n",
              "      <th>loan_amnt</th>\n",
              "      <th>term</th>\n",
              "      <th>interest_rate</th>\n",
              "      <th>grade</th>\n",
              "      <th>employment_length</th>\n",
              "      <th>purpose</th>\n",
              "      <th>credit_score</th>\n",
              "      <th>application_type</th>\n",
              "      <th>loan_status</th>\n",
              "    </tr>\n",
              "  </thead>\n",
              "  <tbody>\n",
              "    <tr>\n",
              "      <th>0</th>\n",
              "      <td>1256.710800</td>\n",
              "      <td>5</td>\n",
              "      <td>10.603779</td>\n",
              "      <td>B1</td>\n",
              "      <td>5</td>\n",
              "      <td>debt_consolidation</td>\n",
              "      <td>680.431766</td>\n",
              "      <td>Individual</td>\n",
              "      <td>0</td>\n",
              "    </tr>\n",
              "    <tr>\n",
              "      <th>1</th>\n",
              "      <td>569.559607</td>\n",
              "      <td>3</td>\n",
              "      <td>17.305565</td>\n",
              "      <td>C5</td>\n",
              "      <td>3</td>\n",
              "      <td>house</td>\n",
              "      <td>713.063128</td>\n",
              "      <td>Individual</td>\n",
              "      <td>0</td>\n",
              "    </tr>\n",
              "    <tr>\n",
              "      <th>2</th>\n",
              "      <td>1118.838050</td>\n",
              "      <td>3</td>\n",
              "      <td>14.041342</td>\n",
              "      <td>C3</td>\n",
              "      <td>2</td>\n",
              "      <td>debt_consolidation</td>\n",
              "      <td>696.137378</td>\n",
              "      <td>Individual</td>\n",
              "      <td>1</td>\n",
              "    </tr>\n",
              "    <tr>\n",
              "      <th>3</th>\n",
              "      <td>610.721728</td>\n",
              "      <td>3</td>\n",
              "      <td>13.048348</td>\n",
              "      <td>C2</td>\n",
              "      <td>5</td>\n",
              "      <td>medical</td>\n",
              "      <td>656.373090</td>\n",
              "      <td>Individual</td>\n",
              "      <td>0</td>\n",
              "    </tr>\n",
              "    <tr>\n",
              "      <th>4</th>\n",
              "      <td>1180.026840</td>\n",
              "      <td>3</td>\n",
              "      <td>11.384862</td>\n",
              "      <td>B3</td>\n",
              "      <td>10</td>\n",
              "      <td>debt_consolidation</td>\n",
              "      <td>657.211233</td>\n",
              "      <td>Individual</td>\n",
              "      <td>0</td>\n",
              "    </tr>\n",
              "  </tbody>\n",
              "</table>\n",
              "</div>"
            ],
            "text/plain": [
              "     loan_amnt  term  interest_rate  ... credit_score  application_type loan_status\n",
              "0  1256.710800     5      10.603779  ...   680.431766        Individual           0\n",
              "1   569.559607     3      17.305565  ...   713.063128        Individual           0\n",
              "2  1118.838050     3      14.041342  ...   696.137378        Individual           1\n",
              "3   610.721728     3      13.048348  ...   656.373090        Individual           0\n",
              "4  1180.026840     3      11.384862  ...   657.211233        Individual           0\n",
              "\n",
              "[5 rows x 9 columns]"
            ]
          },
          "metadata": {},
          "execution_count": 120
        }
      ]
    },
    {
      "cell_type": "code",
      "metadata": {
        "colab": {
          "base_uri": "https://localhost:8080/",
          "height": 262
        },
        "id": "llkNOFo2SbFE",
        "outputId": "8841a253-53fb-4537-9d23-85602d2d3d87"
      },
      "source": [
        "# データ数を取得\n",
        "counts_loan_status = df[\"loan_status\"].value_counts()\n",
        "\n",
        "# 棒グラフの作成\n",
        "counts_loan_status.plot(kind='bar')\n",
        "\n",
        "# グラフの表示\n",
        "plt.show()"
      ],
      "execution_count": 121,
      "outputs": [
        {
          "output_type": "display_data",
          "data": {
            "image/png": "[encoded data removed]",
            "text/plain": [
              "<Figure size 432x288 with 1 Axes>"
            ]
          },
          "metadata": {
            "needs_background": "light"
          }
        }
      ]
    },
    {
      "cell_type": "code",
      "metadata": {
        "colab": {
          "base_uri": "https://localhost:8080/",
          "height": 441
        },
        "id": "-hla_K7_TDDc",
        "outputId": "f3df2eaf-22a0-477c-b07d-2081137b3500"
      },
      "source": [
        "df_numeric.hist(figsize=(8, 6)) # df_numericは前処理で定義\n",
        "\n",
        "# ラベルが重ならないように調整\n",
        "plt.tight_layout()\n",
        "\n",
        "# グラフの表示\n",
        "plt.show()"
      ],
      "execution_count": 122,
      "outputs": [
        {
          "output_type": "display_data",
          "data": {
            "image/png": "[encoded data removed]",
            "text/plain": [
              "<Figure size 576x432 with 6 Axes>"
            ]
          },
          "metadata": {
            "needs_background": "light"
          }
        }
      ]
    },
    {
      "cell_type": "code",
      "metadata": {
        "colab": {
          "base_uri": "https://localhost:8080/",
          "height": 845
        },
        "id": "Vfj4houYTFzx",
        "outputId": "e79bc422-f906-4580-bed5-0f2c04ba05af"
      },
      "source": [
        "plt.figure(figsize=(12, 12))\n",
        "\n",
        "for ncol, colname in enumerate(df_numeric.columns):\n",
        "    plt.subplot(3, 3, ncol+1) # plt.subplot(縦のプロット数, 横のプロット数, プロット番号)\n",
        "    sns.distplot(df_tmp.query(\"loan_status==0\")[colname])\n",
        "    sns.distplot(df_tmp.query(\"loan_status==1\")[colname]) # 重ねる\n",
        "    plt.legend(labels=[\"FullyPaid\", \"ChargedOff\"], loc='upper right') # 凡例"
      ],
      "execution_count": 123,
      "outputs": [
        {
          "output_type": "stream",
          "name": "stderr",
          "text": [
            "/usr/local/lib/python3.7/dist-packages/seaborn/distributions.py:2619: FutureWarning: `distplot` is a deprecated function and will be removed in a future version. Please adapt your code to use either `displot` (a figure-level function with similar flexibility) or `histplot` (an axes-level function for histograms).\n",
            "  warnings.warn(msg, FutureWarning)\n",
            "/usr/local/lib/python3.7/dist-packages/seaborn/distributions.py:2619: FutureWarning: `distplot` is a deprecated function and will be removed in a future version. Please adapt your code to use either `displot` (a figure-level function with similar flexibility) or `histplot` (an axes-level function for histograms).\n",
            "  warnings.warn(msg, FutureWarning)\n",
            "/usr/local/lib/python3.7/dist-packages/seaborn/distributions.py:2619: FutureWarning: `distplot` is a deprecated function and will be removed in a future version. Please adapt your code to use either `displot` (a figure-level function with similar flexibility) or `histplot` (an axes-level function for histograms).\n",
            "  warnings.warn(msg, FutureWarning)\n",
            "/usr/local/lib/python3.7/dist-packages/seaborn/distributions.py:2619: FutureWarning: `distplot` is a deprecated function and will be removed in a future version. Please adapt your code to use either `displot` (a figure-level function with similar flexibility) or `histplot` (an axes-level function for histograms).\n",
            "  warnings.warn(msg, FutureWarning)\n",
            "/usr/local/lib/python3.7/dist-packages/seaborn/distributions.py:2619: FutureWarning: `distplot` is a deprecated function and will be removed in a future version. Please adapt your code to use either `displot` (a figure-level function with similar flexibility) or `histplot` (an axes-level function for histograms).\n",
            "  warnings.warn(msg, FutureWarning)\n",
            "/usr/local/lib/python3.7/dist-packages/seaborn/distributions.py:2619: FutureWarning: `distplot` is a deprecated function and will be removed in a future version. Please adapt your code to use either `displot` (a figure-level function with similar flexibility) or `histplot` (an axes-level function for histograms).\n",
            "  warnings.warn(msg, FutureWarning)\n",
            "/usr/local/lib/python3.7/dist-packages/seaborn/distributions.py:2619: FutureWarning: `distplot` is a deprecated function and will be removed in a future version. Please adapt your code to use either `displot` (a figure-level function with similar flexibility) or `histplot` (an axes-level function for histograms).\n",
            "  warnings.warn(msg, FutureWarning)\n",
            "/usr/local/lib/python3.7/dist-packages/seaborn/distributions.py:2619: FutureWarning: `distplot` is a deprecated function and will be removed in a future version. Please adapt your code to use either `displot` (a figure-level function with similar flexibility) or `histplot` (an axes-level function for histograms).\n",
            "  warnings.warn(msg, FutureWarning)\n",
            "/usr/local/lib/python3.7/dist-packages/seaborn/distributions.py:2619: FutureWarning: `distplot` is a deprecated function and will be removed in a future version. Please adapt your code to use either `displot` (a figure-level function with similar flexibility) or `histplot` (an axes-level function for histograms).\n",
            "  warnings.warn(msg, FutureWarning)\n",
            "/usr/local/lib/python3.7/dist-packages/seaborn/distributions.py:2619: FutureWarning: `distplot` is a deprecated function and will be removed in a future version. Please adapt your code to use either `displot` (a figure-level function with similar flexibility) or `histplot` (an axes-level function for histograms).\n",
            "  warnings.warn(msg, FutureWarning)\n"
          ]
        },
        {
          "output_type": "display_data",
          "data": {
            "image/png": "[encoded data removed]",
            "text/plain": [
              "<Figure size 864x864 with 5 Axes>"
            ]
          },
          "metadata": {
            "needs_background": "light"
          }
        }
      ]
    },
    {
      "cell_type": "code",
      "metadata": {
        "colab": {
          "base_uri": "https://localhost:8080/",
          "height": 594
        },
        "id": "0jSIQzM3TI4T",
        "outputId": "ca0e2b99-fbdd-4b1b-9b54-48dfa82b740d"
      },
      "source": [
        "# グラフの整形\n",
        "plt.figure(figsize=(10, 8))\n",
        "\n",
        "# ヒートマップの作成\n",
        "sns.heatmap(df.corr(), vmin=-1.0, vmax=1.0, annot=True,\n",
        "            cmap='coolwarm', linewidths=0.1) # corr関数で相関関数を算出"
      ],
      "execution_count": 124,
      "outputs": [
        {
          "output_type": "execute_result",
          "data": {
            "text/plain": [
              "<matplotlib.axes._subplots.AxesSubplot at 0x7f27f6329c50>"
            ]
          },
          "metadata": {},
          "execution_count": 124
        },
        {
          "output_type": "display_data",
          "data": {
            "image/png": "[encoded data removed]",
            "text/plain": [
              "<Figure size 720x576 with 2 Axes>"
            ]
          },
          "metadata": {
            "needs_background": "light"
          }
        }
      ]
    },
    {
      "cell_type": "code",
      "metadata": {
        "id": "yc1yiIEoTKlp"
      },
      "source": [
        "# ダミー変数化\n",
        "df = pd.get_dummies(\n",
        "    df, columns=[\"grade\", \"purpose\", \"application_type\"])\n",
        "\n",
        "# 目的変数のデータフレーム\n",
        "y = df[\"loan_status\"]\n",
        "# 説明変数のデータフレーム\n",
        "X = df.drop([\"loan_status\"], axis=1)\n",
        "\n",
        "# データの分割\n",
        "X_train, X_test, y_train, y_test = train_test_split(\n",
        "    X, y, test_size=0.4, random_state=0)"
      ],
      "execution_count": 125,
      "outputs": []
    },
    {
      "cell_type": "code",
      "metadata": {
        "colab": {
          "base_uri": "https://localhost:8080/"
        },
        "id": "kHpToDfGTM36",
        "outputId": "60234be9-4b54-4524-da43-934b285736ca"
      },
      "source": [
        "# モデルの初期化\n",
        "lr = LogisticRegression()\n",
        "\n",
        "# モデルの学習\n",
        "lr.fit(X_train, y_train)\n",
        "\n",
        "y_pred = lr.predict(X_test)"
      ],
      "execution_count": 126,
      "outputs": [
        {
          "output_type": "stream",
          "name": "stderr",
          "text": [
            "/usr/local/lib/python3.7/dist-packages/sklearn/linear_model/_logistic.py:940: ConvergenceWarning: lbfgs failed to converge (status=1):\n",
            "STOP: TOTAL NO. of ITERATIONS REACHED LIMIT.\n",
            "\n",
            "Increase the number of iterations (max_iter) or scale the data as shown in:\n",
            "    https://scikit-learn.org/stable/modules/preprocessing.html\n",
            "Please also refer to the documentation for alternative solver options:\n",
            "    https://scikit-learn.org/stable/modules/linear_model.html#logistic-regression\n",
            "  extra_warning_msg=_LOGISTIC_SOLVER_CONVERGENCE_MSG)\n"
          ]
        }
      ]
    },
    {
      "cell_type": "code",
      "metadata": {
        "colab": {
          "base_uri": "https://localhost:8080/"
        },
        "id": "7EUIQhDOTOyn",
        "outputId": "2814cb7d-a46a-4839-aa2f-c634fe23efbe"
      },
      "source": [
        "# 混同行列の作成\n",
        "cm = confusion_matrix(y_true=y_test, y_pred=y_pred)\n",
        "\n",
        "# 混同行列をデータフレーム化\n",
        "df_cm = pd.DataFrame(np.rot90(cm, 2), index=[\"実際のChargedOff\", \"実際のFullyPaid\"], columns=[\"ChargedOffの予測\", \"FullyPaidの予測\"])\n",
        "print(df_cm)\n",
        "\n",
        "# F1 Scoreの算出\n",
        "f1 = f1_score(y_test, y_pred)\n",
        "print(f1)"
      ],
      "execution_count": 127,
      "outputs": [
        {
          "output_type": "stream",
          "name": "stdout",
          "text": [
            "               ChargedOffの予測  FullyPaidの予測\n",
            "実際のChargedOff            226          1289\n",
            "実際のFullyPaid             165          5320\n",
            "0.23714585519412382\n"
          ]
        }
      ]
    },
    {
      "cell_type": "code",
      "metadata": {
        "colab": {
          "base_uri": "https://localhost:8080/",
          "height": 622
        },
        "id": "roqV9j45TTTE",
        "outputId": "746d400d-eb3c-43f4-a092-18114ba47f8c"
      },
      "source": [
        "# heatmapによる混同行列の可視化\n",
        "sns.heatmap(df_cm, annot=True, fmt=\"2g\", cmap='Blues')\n",
        "plt.yticks(va='center')"
      ],
      "execution_count": 128,
      "outputs": [
        {
          "output_type": "stream",
          "name": "stderr",
          "text": [
            "/usr/local/lib/python3.7/dist-packages/matplotlib/backends/backend_agg.py:214: RuntimeWarning: Glyph 12398 missing from current font.\n",
            "  font.set_text(s, 0.0, flags=flags)\n",
            "/usr/local/lib/python3.7/dist-packages/matplotlib/backends/backend_agg.py:214: RuntimeWarning: Glyph 20104 missing from current font.\n",
            "  font.set_text(s, 0.0, flags=flags)\n",
            "/usr/local/lib/python3.7/dist-packages/matplotlib/backends/backend_agg.py:214: RuntimeWarning: Glyph 28204 missing from current font.\n",
            "  font.set_text(s, 0.0, flags=flags)\n",
            "/usr/local/lib/python3.7/dist-packages/matplotlib/backends/backend_agg.py:183: RuntimeWarning: Glyph 12398 missing from current font.\n",
            "  font.set_text(s, 0, flags=flags)\n",
            "/usr/local/lib/python3.7/dist-packages/matplotlib/backends/backend_agg.py:183: RuntimeWarning: Glyph 20104 missing from current font.\n",
            "  font.set_text(s, 0, flags=flags)\n",
            "/usr/local/lib/python3.7/dist-packages/matplotlib/backends/backend_agg.py:183: RuntimeWarning: Glyph 28204 missing from current font.\n",
            "  font.set_text(s, 0, flags=flags)\n",
            "/usr/local/lib/python3.7/dist-packages/matplotlib/backends/backend_agg.py:214: RuntimeWarning: Glyph 23455 missing from current font.\n",
            "  font.set_text(s, 0.0, flags=flags)\n",
            "/usr/local/lib/python3.7/dist-packages/matplotlib/backends/backend_agg.py:214: RuntimeWarning: Glyph 38555 missing from current font.\n",
            "  font.set_text(s, 0.0, flags=flags)\n",
            "/usr/local/lib/python3.7/dist-packages/matplotlib/backends/backend_agg.py:183: RuntimeWarning: Glyph 23455 missing from current font.\n",
            "  font.set_text(s, 0, flags=flags)\n",
            "/usr/local/lib/python3.7/dist-packages/matplotlib/backends/backend_agg.py:183: RuntimeWarning: Glyph 38555 missing from current font.\n",
            "  font.set_text(s, 0, flags=flags)\n"
          ]
        },
        {
          "output_type": "execute_result",
          "data": {
            "text/plain": [
              "(array([0.5, 1.5]), <a list of 2 Text major ticklabel objects>)"
            ]
          },
          "metadata": {},
          "execution_count": 128
        },
        {
          "output_type": "display_data",
          "data": {
            "image/png": "[encoded data removed]",
            "text/plain": [
              "<Figure size 432x288 with 2 Axes>"
            ]
          },
          "metadata": {
            "needs_background": "light"
          }
        }
      ]
    },
    {
      "cell_type": "code",
      "metadata": {
        "colab": {
          "base_uri": "https://localhost:8080/"
        },
        "id": "jampavGWTcRO",
        "outputId": "46c4504d-a6bf-46af-e044-1d073cc056f6"
      },
      "source": [
        "# 初期化\n",
        "sampler = RandomUnderSampler(random_state=42)\n",
        "\n",
        "# ダウンサンプリングの適用\n",
        "X_resampled, y_resampled = sampler.fit_resample(X_train, y_train)\n",
        "\n",
        "# 返ってきたBoolを数値に変換\n",
        "df[\"loan_status\"] = df[\"loan_status\"].replace(True, 0).replace(False, 1)\n",
        "df[\"loan_status\"] = df[\"loan_status\"].astype(int)"
      ],
      "execution_count": 129,
      "outputs": [
        {
          "output_type": "stream",
          "name": "stderr",
          "text": [
            "/usr/local/lib/python3.7/dist-packages/sklearn/utils/deprecation.py:87: FutureWarning: Function safe_indexing is deprecated; safe_indexing is deprecated in version 0.22 and will be removed in version 0.24.\n",
            "  warnings.warn(msg, category=FutureWarning)\n"
          ]
        }
      ]
    },
    {
      "cell_type": "code",
      "metadata": {
        "colab": {
          "base_uri": "https://localhost:8080/"
        },
        "id": "MyS_qOYXTh8Q",
        "outputId": "79ded196-582c-46f1-8cb8-c9715cdd362d"
      },
      "source": [
        "# 学習\n",
        "lr = LogisticRegression()\n",
        "lr.fit(X_resampled, y_resampled)\n",
        "\n",
        "# 予測\n",
        "y_pred = lr.predict(X_test)"
      ],
      "execution_count": 130,
      "outputs": [
        {
          "output_type": "stream",
          "name": "stderr",
          "text": [
            "/usr/local/lib/python3.7/dist-packages/sklearn/linear_model/_logistic.py:940: ConvergenceWarning: lbfgs failed to converge (status=1):\n",
            "STOP: TOTAL NO. of ITERATIONS REACHED LIMIT.\n",
            "\n",
            "Increase the number of iterations (max_iter) or scale the data as shown in:\n",
            "    https://scikit-learn.org/stable/modules/preprocessing.html\n",
            "Please also refer to the documentation for alternative solver options:\n",
            "    https://scikit-learn.org/stable/modules/linear_model.html#logistic-regression\n",
            "  extra_warning_msg=_LOGISTIC_SOLVER_CONVERGENCE_MSG)\n"
          ]
        }
      ]
    },
    {
      "cell_type": "code",
      "metadata": {
        "colab": {
          "base_uri": "https://localhost:8080/"
        },
        "id": "7cDwqYgMTj1Z",
        "outputId": "533d1715-ebdc-41cb-9559-f48db204c698"
      },
      "source": [
        "df_cm = pd.DataFrame(np.rot90(cm, 2), index=[\"実際のChargedOff\", \"実際のFullyPaid\"], columns=[\"ChargedOffの予測\", \"FullyPaidの予測\"])\n",
        "print(df_cm)\n",
        "\n",
        "f1 = f1_score(y_test, y_pred)\n",
        "print(f1)"
      ],
      "execution_count": 131,
      "outputs": [
        {
          "output_type": "stream",
          "name": "stdout",
          "text": [
            "               ChargedOffの予測  FullyPaidの予測\n",
            "実際のChargedOff            226          1289\n",
            "実際のFullyPaid             165          5320\n",
            "0.4508215690812312\n"
          ]
        }
      ]
    },
    {
      "cell_type": "code",
      "metadata": {
        "colab": {
          "base_uri": "https://localhost:8080/"
        },
        "id": "dTFhN-aY5JI7",
        "outputId": "08eecad0-292b-4667-a017-dc33eeea7a98"
      },
      "source": [
        "# 学習に使用するデータを設定\n",
        "lgb_train = lgb.Dataset(X_resampled, y_resampled)\n",
        "lgb_eval = lgb.Dataset(X_test, y_test, reference=lgb_train)\n",
        "\n",
        "# LightGBM parameters\n",
        "params = {\n",
        "        'task': 'train',\n",
        "        'boosting_type': 'gbdt',\n",
        "        'objective': 'binary', # 目的 : 2値分類 \n",
        "        'metric': {'auc'}, # 評価指標 : 誤り率(= 1-正答率) \n",
        "        #他には 'binary_logloss','auc'など\n",
        "        'learning_rate': 0.05,\n",
        "        'num_leaves': 50,\n",
        "        'min_data_in_leaf': 1,\n",
        "        'num_iteration': 1000, #1000回学習\n",
        "        'verbose': 0\n",
        "}\n",
        "\n",
        "# モデルの学習\n",
        "model = lgb.train(params, # パラメータ\n",
        "            train_set=lgb_train, # トレーニングデータの指定\n",
        "            valid_sets=lgb_eval, # 検証データの指定\n",
        "            early_stopping_rounds=100 # 100回ごとに検証精度の改善を検討　→ 精度が改善しないなら学習を終了(過学習に陥るのを防ぐ)\n",
        "               )\n",
        "\n",
        "# テストデータの予測 (クラス1の予測確率(クラス1である確率)を返す)\n",
        "y_pred_prob = model.predict(X_test)\n",
        "# テストデータの予測\n",
        "y_pred2 = np.where(y_pred_prob < 0.5, 0, 1) # 0.5より小さい場合0 ,そうでない場合1を返す"
      ],
      "execution_count": 182,
      "outputs": [
        {
          "output_type": "stream",
          "name": "stderr",
          "text": [
            "/usr/local/lib/python3.7/dist-packages/lightgbm/engine.py:118: UserWarning: Found `num_iteration` in params. Will use it instead of argument\n",
            "  warnings.warn(\"Found `{}` in params. Will use it instead of argument\".format(alias))\n"
          ]
        },
        {
          "output_type": "stream",
          "name": "stdout",
          "text": [
            "[1]\tvalid_0's auc: 0.697977\n",
            "Training until validation scores don't improve for 100 rounds.\n",
            "[2]\tvalid_0's auc: 0.699883\n",
            "[3]\tvalid_0's auc: 0.704461\n",
            "[4]\tvalid_0's auc: 0.708062\n",
            "[5]\tvalid_0's auc: 0.707552\n",
            "[6]\tvalid_0's auc: 0.711258\n",
            "[7]\tvalid_0's auc: 0.712451\n",
            "[8]\tvalid_0's auc: 0.714204\n",
            "[9]\tvalid_0's auc: 0.716573\n",
            "[10]\tvalid_0's auc: 0.71644\n",
            "[11]\tvalid_0's auc: 0.717725\n",
            "[12]\tvalid_0's auc: 0.71879\n",
            "[13]\tvalid_0's auc: 0.720453\n",
            "[14]\tvalid_0's auc: 0.721118\n",
            "[15]\tvalid_0's auc: 0.721702\n",
            "[16]\tvalid_0's auc: 0.721435\n",
            "[17]\tvalid_0's auc: 0.722399\n",
            "[18]\tvalid_0's auc: 0.722729\n",
            "[19]\tvalid_0's auc: 0.721822\n",
            "[20]\tvalid_0's auc: 0.721103\n",
            "[21]\tvalid_0's auc: 0.721806\n",
            "[22]\tvalid_0's auc: 0.722253\n",
            "[23]\tvalid_0's auc: 0.722557\n",
            "[24]\tvalid_0's auc: 0.722574\n",
            "[25]\tvalid_0's auc: 0.722925\n",
            "[26]\tvalid_0's auc: 0.723281\n",
            "[27]\tvalid_0's auc: 0.723558\n",
            "[28]\tvalid_0's auc: 0.723129\n",
            "[29]\tvalid_0's auc: 0.723802\n",
            "[30]\tvalid_0's auc: 0.724393\n",
            "[31]\tvalid_0's auc: 0.724642\n",
            "[32]\tvalid_0's auc: 0.725006\n",
            "[33]\tvalid_0's auc: 0.724769\n",
            "[34]\tvalid_0's auc: 0.725209\n",
            "[35]\tvalid_0's auc: 0.72545\n",
            "[36]\tvalid_0's auc: 0.72584\n",
            "[37]\tvalid_0's auc: 0.725824\n",
            "[38]\tvalid_0's auc: 0.725919\n",
            "[39]\tvalid_0's auc: 0.725847\n",
            "[40]\tvalid_0's auc: 0.725732\n",
            "[41]\tvalid_0's auc: 0.726054\n",
            "[42]\tvalid_0's auc: 0.726392\n",
            "[43]\tvalid_0's auc: 0.726457\n",
            "[44]\tvalid_0's auc: 0.726359\n",
            "[45]\tvalid_0's auc: 0.726358\n",
            "[46]\tvalid_0's auc: 0.726443\n",
            "[47]\tvalid_0's auc: 0.726947\n",
            "[48]\tvalid_0's auc: 0.727063\n",
            "[49]\tvalid_0's auc: 0.727425\n",
            "[50]\tvalid_0's auc: 0.727166\n",
            "[51]\tvalid_0's auc: 0.727414\n",
            "[52]\tvalid_0's auc: 0.727918\n",
            "[53]\tvalid_0's auc: 0.727847\n",
            "[54]\tvalid_0's auc: 0.728299\n",
            "[55]\tvalid_0's auc: 0.728248\n",
            "[56]\tvalid_0's auc: 0.728314\n",
            "[57]\tvalid_0's auc: 0.727766\n",
            "[58]\tvalid_0's auc: 0.727882\n",
            "[59]\tvalid_0's auc: 0.727939\n",
            "[60]\tvalid_0's auc: 0.727651\n",
            "[61]\tvalid_0's auc: 0.727642\n",
            "[62]\tvalid_0's auc: 0.727573\n",
            "[63]\tvalid_0's auc: 0.727373\n",
            "[64]\tvalid_0's auc: 0.727617\n",
            "[65]\tvalid_0's auc: 0.727435\n",
            "[66]\tvalid_0's auc: 0.727505\n",
            "[67]\tvalid_0's auc: 0.72744\n",
            "[68]\tvalid_0's auc: 0.727235\n",
            "[69]\tvalid_0's auc: 0.727106\n",
            "[70]\tvalid_0's auc: 0.727174\n",
            "[71]\tvalid_0's auc: 0.727098\n",
            "[72]\tvalid_0's auc: 0.727129\n",
            "[73]\tvalid_0's auc: 0.726912\n",
            "[74]\tvalid_0's auc: 0.726923\n",
            "[75]\tvalid_0's auc: 0.726933\n",
            "[76]\tvalid_0's auc: 0.726852\n",
            "[77]\tvalid_0's auc: 0.726781\n",
            "[78]\tvalid_0's auc: 0.726623\n",
            "[79]\tvalid_0's auc: 0.726589\n",
            "[80]\tvalid_0's auc: 0.726389\n",
            "[81]\tvalid_0's auc: 0.726359\n",
            "[82]\tvalid_0's auc: 0.726289\n",
            "[83]\tvalid_0's auc: 0.726293\n",
            "[84]\tvalid_0's auc: 0.726111\n",
            "[85]\tvalid_0's auc: 0.726063\n",
            "[86]\tvalid_0's auc: 0.725824\n",
            "[87]\tvalid_0's auc: 0.725648\n",
            "[88]\tvalid_0's auc: 0.725793\n",
            "[89]\tvalid_0's auc: 0.725769\n",
            "[90]\tvalid_0's auc: 0.725485\n",
            "[91]\tvalid_0's auc: 0.72545\n",
            "[92]\tvalid_0's auc: 0.725632\n",
            "[93]\tvalid_0's auc: 0.725462\n",
            "[94]\tvalid_0's auc: 0.725254\n",
            "[95]\tvalid_0's auc: 0.725185\n",
            "[96]\tvalid_0's auc: 0.725006\n",
            "[97]\tvalid_0's auc: 0.724952\n",
            "[98]\tvalid_0's auc: 0.725029\n",
            "[99]\tvalid_0's auc: 0.724845\n",
            "[100]\tvalid_0's auc: 0.724641\n",
            "[101]\tvalid_0's auc: 0.724428\n",
            "[102]\tvalid_0's auc: 0.724458\n",
            "[103]\tvalid_0's auc: 0.724423\n",
            "[104]\tvalid_0's auc: 0.724151\n",
            "[105]\tvalid_0's auc: 0.724114\n",
            "[106]\tvalid_0's auc: 0.72376\n",
            "[107]\tvalid_0's auc: 0.723645\n",
            "[108]\tvalid_0's auc: 0.723434\n",
            "[109]\tvalid_0's auc: 0.723298\n",
            "[110]\tvalid_0's auc: 0.723112\n",
            "[111]\tvalid_0's auc: 0.723075\n",
            "[112]\tvalid_0's auc: 0.722904\n",
            "[113]\tvalid_0's auc: 0.72271\n",
            "[114]\tvalid_0's auc: 0.722591\n",
            "[115]\tvalid_0's auc: 0.722309\n",
            "[116]\tvalid_0's auc: 0.722177\n",
            "[117]\tvalid_0's auc: 0.722022\n",
            "[118]\tvalid_0's auc: 0.721846\n",
            "[119]\tvalid_0's auc: 0.721588\n",
            "[120]\tvalid_0's auc: 0.721746\n",
            "[121]\tvalid_0's auc: 0.721774\n",
            "[122]\tvalid_0's auc: 0.721723\n",
            "[123]\tvalid_0's auc: 0.721825\n",
            "[124]\tvalid_0's auc: 0.721804\n",
            "[125]\tvalid_0's auc: 0.721579\n",
            "[126]\tvalid_0's auc: 0.721597\n",
            "[127]\tvalid_0's auc: 0.721572\n",
            "[128]\tvalid_0's auc: 0.721457\n",
            "[129]\tvalid_0's auc: 0.721512\n",
            "[130]\tvalid_0's auc: 0.721303\n",
            "[131]\tvalid_0's auc: 0.721102\n",
            "[132]\tvalid_0's auc: 0.721158\n",
            "[133]\tvalid_0's auc: 0.721108\n",
            "[134]\tvalid_0's auc: 0.721007\n",
            "[135]\tvalid_0's auc: 0.720993\n",
            "[136]\tvalid_0's auc: 0.720944\n",
            "[137]\tvalid_0's auc: 0.720802\n",
            "[138]\tvalid_0's auc: 0.720715\n",
            "[139]\tvalid_0's auc: 0.720668\n",
            "[140]\tvalid_0's auc: 0.720618\n",
            "[141]\tvalid_0's auc: 0.720551\n",
            "[142]\tvalid_0's auc: 0.720488\n",
            "[143]\tvalid_0's auc: 0.72037\n",
            "[144]\tvalid_0's auc: 0.720248\n",
            "[145]\tvalid_0's auc: 0.720128\n",
            "[146]\tvalid_0's auc: 0.720084\n",
            "[147]\tvalid_0's auc: 0.719897\n",
            "[148]\tvalid_0's auc: 0.71979\n",
            "[149]\tvalid_0's auc: 0.719659\n",
            "[150]\tvalid_0's auc: 0.719627\n",
            "[151]\tvalid_0's auc: 0.719574\n",
            "[152]\tvalid_0's auc: 0.719544\n",
            "[153]\tvalid_0's auc: 0.719457\n",
            "[154]\tvalid_0's auc: 0.719412\n",
            "[155]\tvalid_0's auc: 0.71919\n",
            "[156]\tvalid_0's auc: 0.719106\n",
            "Early stopping, best iteration is:\n",
            "[56]\tvalid_0's auc: 0.728314\n"
          ]
        }
      ]
    },
    {
      "cell_type": "code",
      "metadata": {
        "colab": {
          "base_uri": "https://localhost:8080/"
        },
        "id": "qSsGuqtS4yk9",
        "outputId": "487f18ee-fc31-4aa4-d8de-65891a9fe8a7"
      },
      "source": [
        "f1_gbm = f1_score(y_test, y_pred2)\n",
        "print(f1_gbm)"
      ],
      "execution_count": 183,
      "outputs": [
        {
          "output_type": "stream",
          "name": "stdout",
          "text": [
            "0.4594180704441041\n"
          ]
        }
      ]
    },
    {
      "cell_type": "code",
      "metadata": {
        "id": "nMg2uVanXf8n"
      },
      "source": [
        "# 読み込み\n",
        "df1 = pd.read_csv('/content/drive/MyDrive/default_risk/test.csv')"
      ],
      "execution_count": 132,
      "outputs": []
    },
    {
      "cell_type": "code",
      "metadata": {
        "colab": {
          "base_uri": "https://localhost:8080/",
          "height": 204
        },
        "id": "fLqWM0jJXiXO",
        "outputId": "fd484e70-f212-4709-f122-fbe1c3e31107"
      },
      "source": [
        "df1.head()"
      ],
      "execution_count": 133,
      "outputs": [
        {
          "output_type": "execute_result",
          "data": {
            "text/html": [
              "<div>\n",
              "<style scoped>\n",
              "    .dataframe tbody tr th:only-of-type {\n",
              "        vertical-align: middle;\n",
              "    }\n",
              "\n",
              "    .dataframe tbody tr th {\n",
              "        vertical-align: top;\n",
              "    }\n",
              "\n",
              "    .dataframe thead th {\n",
              "        text-align: right;\n",
              "    }\n",
              "</style>\n",
              "<table border=\"1\" class=\"dataframe\">\n",
              "  <thead>\n",
              "    <tr style=\"text-align: right;\">\n",
              "      <th></th>\n",
              "      <th>id</th>\n",
              "      <th>loan_amnt</th>\n",
              "      <th>term</th>\n",
              "      <th>interest_rate</th>\n",
              "      <th>grade</th>\n",
              "      <th>employment_length</th>\n",
              "      <th>purpose</th>\n",
              "      <th>credit_score</th>\n",
              "      <th>application_type</th>\n",
              "    </tr>\n",
              "  </thead>\n",
              "  <tbody>\n",
              "    <tr>\n",
              "      <th>0</th>\n",
              "      <td>0</td>\n",
              "      <td>1742.228656</td>\n",
              "      <td>5 years</td>\n",
              "      <td>7.992879</td>\n",
              "      <td>A4</td>\n",
              "      <td>8 years</td>\n",
              "      <td>debt_consolidation</td>\n",
              "      <td>677.196371</td>\n",
              "      <td>Individual</td>\n",
              "    </tr>\n",
              "    <tr>\n",
              "      <th>1</th>\n",
              "      <td>1</td>\n",
              "      <td>630.300979</td>\n",
              "      <td>3 years</td>\n",
              "      <td>13.604302</td>\n",
              "      <td>D3</td>\n",
              "      <td>6 years</td>\n",
              "      <td>debt_consolidation</td>\n",
              "      <td>655.143270</td>\n",
              "      <td>Individual</td>\n",
              "    </tr>\n",
              "    <tr>\n",
              "      <th>2</th>\n",
              "      <td>2</td>\n",
              "      <td>1606.895116</td>\n",
              "      <td>5 years</td>\n",
              "      <td>24.674460</td>\n",
              "      <td>C5</td>\n",
              "      <td>10 years</td>\n",
              "      <td>credit_card</td>\n",
              "      <td>680.532978</td>\n",
              "      <td>Individual</td>\n",
              "    </tr>\n",
              "    <tr>\n",
              "      <th>3</th>\n",
              "      <td>3</td>\n",
              "      <td>1120.716185</td>\n",
              "      <td>3 years</td>\n",
              "      <td>13.407068</td>\n",
              "      <td>C1</td>\n",
              "      <td>1 year</td>\n",
              "      <td>credit_card</td>\n",
              "      <td>659.544561</td>\n",
              "      <td>Individual</td>\n",
              "    </tr>\n",
              "    <tr>\n",
              "      <th>4</th>\n",
              "      <td>4</td>\n",
              "      <td>688.615551</td>\n",
              "      <td>3 years</td>\n",
              "      <td>18.118501</td>\n",
              "      <td>C2</td>\n",
              "      <td>10 years</td>\n",
              "      <td>other</td>\n",
              "      <td>654.822203</td>\n",
              "      <td>Individual</td>\n",
              "    </tr>\n",
              "  </tbody>\n",
              "</table>\n",
              "</div>"
            ],
            "text/plain": [
              "   id    loan_amnt     term  ...             purpose credit_score application_type\n",
              "0   0  1742.228656  5 years  ...  debt_consolidation   677.196371       Individual\n",
              "1   1   630.300979  3 years  ...  debt_consolidation   655.143270       Individual\n",
              "2   2  1606.895116  5 years  ...         credit_card   680.532978       Individual\n",
              "3   3  1120.716185  3 years  ...         credit_card   659.544561       Individual\n",
              "4   4   688.615551  3 years  ...               other   654.822203       Individual\n",
              "\n",
              "[5 rows x 9 columns]"
            ]
          },
          "metadata": {},
          "execution_count": 133
        }
      ]
    },
    {
      "cell_type": "code",
      "metadata": {
        "id": "fznnc3NmWZVX"
      },
      "source": [
        "# id列を削除\n",
        "del df1['id']\n",
        "\n",
        "# 「years、year」を削除 ex.「3 years」→「3」\n",
        "df1[\"term\"] = df1[\"term\"].str.replace('years', '')\n",
        "df1[\"employment_length\"] = df1[\"employment_length\"].str.replace(\n",
        "    'years', '').str.replace(\n",
        "    'year', '')\n",
        "\n",
        "df1[\"term\"] = df1[\"term\"].astype(int)\n",
        "df1[\"employment_length\"] = df1[\"employment_length\"].astype(int)\n",
        "\n",
        "# データフレームの分離\n",
        "col_categoric1 = [\"grade\", \"purpose\", \"application_type\"]\n",
        "df_numeric1 = df1.drop(col_categoric1, axis=1)\n",
        "df_categoric1 = df1[col_categoric1]\n",
        "\n",
        "# ダミー変数化\n",
        "df1 = pd.get_dummies(df1, columns=[\"grade\", \"purpose\", \"application_type\"])"
      ],
      "execution_count": 140,
      "outputs": []
    },
    {
      "cell_type": "code",
      "metadata": {
        "colab": {
          "base_uri": "https://localhost:8080/",
          "height": 241
        },
        "id": "YswiZdwaan7C",
        "outputId": "d7c90d71-cb6a-42be-b5b6-a95be238872b"
      },
      "source": [
        "df1.head()"
      ],
      "execution_count": 141,
      "outputs": [
        {
          "output_type": "execute_result",
          "data": {
            "text/html": [
              "<div>\n",
              "<style scoped>\n",
              "    .dataframe tbody tr th:only-of-type {\n",
              "        vertical-align: middle;\n",
              "    }\n",
              "\n",
              "    .dataframe tbody tr th {\n",
              "        vertical-align: top;\n",
              "    }\n",
              "\n",
              "    .dataframe thead th {\n",
              "        text-align: right;\n",
              "    }\n",
              "</style>\n",
              "<table border=\"1\" class=\"dataframe\">\n",
              "  <thead>\n",
              "    <tr style=\"text-align: right;\">\n",
              "      <th></th>\n",
              "      <th>loan_amnt</th>\n",
              "      <th>term</th>\n",
              "      <th>interest_rate</th>\n",
              "      <th>employment_length</th>\n",
              "      <th>credit_score</th>\n",
              "      <th>grade_A1</th>\n",
              "      <th>grade_A2</th>\n",
              "      <th>grade_A3</th>\n",
              "      <th>grade_A4</th>\n",
              "      <th>grade_A5</th>\n",
              "      <th>grade_B1</th>\n",
              "      <th>grade_B2</th>\n",
              "      <th>grade_B3</th>\n",
              "      <th>grade_B4</th>\n",
              "      <th>grade_B5</th>\n",
              "      <th>grade_C1</th>\n",
              "      <th>grade_C2</th>\n",
              "      <th>grade_C3</th>\n",
              "      <th>grade_C4</th>\n",
              "      <th>grade_C5</th>\n",
              "      <th>grade_D1</th>\n",
              "      <th>grade_D2</th>\n",
              "      <th>grade_D3</th>\n",
              "      <th>grade_D4</th>\n",
              "      <th>grade_D5</th>\n",
              "      <th>grade_E1</th>\n",
              "      <th>grade_E2</th>\n",
              "      <th>grade_E3</th>\n",
              "      <th>grade_E4</th>\n",
              "      <th>grade_E5</th>\n",
              "      <th>grade_F3</th>\n",
              "      <th>grade_F5</th>\n",
              "      <th>purpose_car</th>\n",
              "      <th>purpose_credit_card</th>\n",
              "      <th>purpose_debt_consolidation</th>\n",
              "      <th>purpose_home_improvement</th>\n",
              "      <th>purpose_house</th>\n",
              "      <th>purpose_major_purchase</th>\n",
              "      <th>purpose_medical</th>\n",
              "      <th>purpose_other</th>\n",
              "      <th>purpose_small_business</th>\n",
              "      <th>application_type_Individual</th>\n",
              "      <th>application_type_Joint App</th>\n",
              "    </tr>\n",
              "  </thead>\n",
              "  <tbody>\n",
              "    <tr>\n",
              "      <th>0</th>\n",
              "      <td>1742.228656</td>\n",
              "      <td>5</td>\n",
              "      <td>7.992879</td>\n",
              "      <td>8</td>\n",
              "      <td>677.196371</td>\n",
              "      <td>0</td>\n",
              "      <td>0</td>\n",
              "      <td>0</td>\n",
              "      <td>1</td>\n",
              "      <td>0</td>\n",
              "      <td>0</td>\n",
              "      <td>0</td>\n",
              "      <td>0</td>\n",
              "      <td>0</td>\n",
              "      <td>0</td>\n",
              "      <td>0</td>\n",
              "      <td>0</td>\n",
              "      <td>0</td>\n",
              "      <td>0</td>\n",
              "      <td>0</td>\n",
              "      <td>0</td>\n",
              "      <td>0</td>\n",
              "      <td>0</td>\n",
              "      <td>0</td>\n",
              "      <td>0</td>\n",
              "      <td>0</td>\n",
              "      <td>0</td>\n",
              "      <td>0</td>\n",
              "      <td>0</td>\n",
              "      <td>0</td>\n",
              "      <td>0</td>\n",
              "      <td>0</td>\n",
              "      <td>0</td>\n",
              "      <td>0</td>\n",
              "      <td>1</td>\n",
              "      <td>0</td>\n",
              "      <td>0</td>\n",
              "      <td>0</td>\n",
              "      <td>0</td>\n",
              "      <td>0</td>\n",
              "      <td>0</td>\n",
              "      <td>1</td>\n",
              "      <td>0</td>\n",
              "    </tr>\n",
              "    <tr>\n",
              "      <th>1</th>\n",
              "      <td>630.300979</td>\n",
              "      <td>3</td>\n",
              "      <td>13.604302</td>\n",
              "      <td>6</td>\n",
              "      <td>655.143270</td>\n",
              "      <td>0</td>\n",
              "      <td>0</td>\n",
              "      <td>0</td>\n",
              "      <td>0</td>\n",
              "      <td>0</td>\n",
              "      <td>0</td>\n",
              "      <td>0</td>\n",
              "      <td>0</td>\n",
              "      <td>0</td>\n",
              "      <td>0</td>\n",
              "      <td>0</td>\n",
              "      <td>0</td>\n",
              "      <td>0</td>\n",
              "      <td>0</td>\n",
              "      <td>0</td>\n",
              "      <td>0</td>\n",
              "      <td>0</td>\n",
              "      <td>1</td>\n",
              "      <td>0</td>\n",
              "      <td>0</td>\n",
              "      <td>0</td>\n",
              "      <td>0</td>\n",
              "      <td>0</td>\n",
              "      <td>0</td>\n",
              "      <td>0</td>\n",
              "      <td>0</td>\n",
              "      <td>0</td>\n",
              "      <td>0</td>\n",
              "      <td>0</td>\n",
              "      <td>1</td>\n",
              "      <td>0</td>\n",
              "      <td>0</td>\n",
              "      <td>0</td>\n",
              "      <td>0</td>\n",
              "      <td>0</td>\n",
              "      <td>0</td>\n",
              "      <td>1</td>\n",
              "      <td>0</td>\n",
              "    </tr>\n",
              "    <tr>\n",
              "      <th>2</th>\n",
              "      <td>1606.895116</td>\n",
              "      <td>5</td>\n",
              "      <td>24.674460</td>\n",
              "      <td>10</td>\n",
              "      <td>680.532978</td>\n",
              "      <td>0</td>\n",
              "      <td>0</td>\n",
              "      <td>0</td>\n",
              "      <td>0</td>\n",
              "      <td>0</td>\n",
              "      <td>0</td>\n",
              "      <td>0</td>\n",
              "      <td>0</td>\n",
              "      <td>0</td>\n",
              "      <td>0</td>\n",
              "      <td>0</td>\n",
              "      <td>0</td>\n",
              "      <td>0</td>\n",
              "      <td>0</td>\n",
              "      <td>1</td>\n",
              "      <td>0</td>\n",
              "      <td>0</td>\n",
              "      <td>0</td>\n",
              "      <td>0</td>\n",
              "      <td>0</td>\n",
              "      <td>0</td>\n",
              "      <td>0</td>\n",
              "      <td>0</td>\n",
              "      <td>0</td>\n",
              "      <td>0</td>\n",
              "      <td>0</td>\n",
              "      <td>0</td>\n",
              "      <td>0</td>\n",
              "      <td>1</td>\n",
              "      <td>0</td>\n",
              "      <td>0</td>\n",
              "      <td>0</td>\n",
              "      <td>0</td>\n",
              "      <td>0</td>\n",
              "      <td>0</td>\n",
              "      <td>0</td>\n",
              "      <td>1</td>\n",
              "      <td>0</td>\n",
              "    </tr>\n",
              "    <tr>\n",
              "      <th>3</th>\n",
              "      <td>1120.716185</td>\n",
              "      <td>3</td>\n",
              "      <td>13.407068</td>\n",
              "      <td>1</td>\n",
              "      <td>659.544561</td>\n",
              "      <td>0</td>\n",
              "      <td>0</td>\n",
              "      <td>0</td>\n",
              "      <td>0</td>\n",
              "      <td>0</td>\n",
              "      <td>0</td>\n",
              "      <td>0</td>\n",
              "      <td>0</td>\n",
              "      <td>0</td>\n",
              "      <td>0</td>\n",
              "      <td>1</td>\n",
              "      <td>0</td>\n",
              "      <td>0</td>\n",
              "      <td>0</td>\n",
              "      <td>0</td>\n",
              "      <td>0</td>\n",
              "      <td>0</td>\n",
              "      <td>0</td>\n",
              "      <td>0</td>\n",
              "      <td>0</td>\n",
              "      <td>0</td>\n",
              "      <td>0</td>\n",
              "      <td>0</td>\n",
              "      <td>0</td>\n",
              "      <td>0</td>\n",
              "      <td>0</td>\n",
              "      <td>0</td>\n",
              "      <td>0</td>\n",
              "      <td>1</td>\n",
              "      <td>0</td>\n",
              "      <td>0</td>\n",
              "      <td>0</td>\n",
              "      <td>0</td>\n",
              "      <td>0</td>\n",
              "      <td>0</td>\n",
              "      <td>0</td>\n",
              "      <td>1</td>\n",
              "      <td>0</td>\n",
              "    </tr>\n",
              "    <tr>\n",
              "      <th>4</th>\n",
              "      <td>688.615551</td>\n",
              "      <td>3</td>\n",
              "      <td>18.118501</td>\n",
              "      <td>10</td>\n",
              "      <td>654.822203</td>\n",
              "      <td>0</td>\n",
              "      <td>0</td>\n",
              "      <td>0</td>\n",
              "      <td>0</td>\n",
              "      <td>0</td>\n",
              "      <td>0</td>\n",
              "      <td>0</td>\n",
              "      <td>0</td>\n",
              "      <td>0</td>\n",
              "      <td>0</td>\n",
              "      <td>0</td>\n",
              "      <td>1</td>\n",
              "      <td>0</td>\n",
              "      <td>0</td>\n",
              "      <td>0</td>\n",
              "      <td>0</td>\n",
              "      <td>0</td>\n",
              "      <td>0</td>\n",
              "      <td>0</td>\n",
              "      <td>0</td>\n",
              "      <td>0</td>\n",
              "      <td>0</td>\n",
              "      <td>0</td>\n",
              "      <td>0</td>\n",
              "      <td>0</td>\n",
              "      <td>0</td>\n",
              "      <td>0</td>\n",
              "      <td>0</td>\n",
              "      <td>0</td>\n",
              "      <td>0</td>\n",
              "      <td>0</td>\n",
              "      <td>0</td>\n",
              "      <td>0</td>\n",
              "      <td>0</td>\n",
              "      <td>1</td>\n",
              "      <td>0</td>\n",
              "      <td>1</td>\n",
              "      <td>0</td>\n",
              "    </tr>\n",
              "  </tbody>\n",
              "</table>\n",
              "</div>"
            ],
            "text/plain": [
              "     loan_amnt  term  ...  application_type_Individual  application_type_Joint App\n",
              "0  1742.228656     5  ...                            1                           0\n",
              "1   630.300979     3  ...                            1                           0\n",
              "2  1606.895116     5  ...                            1                           0\n",
              "3  1120.716185     3  ...                            1                           0\n",
              "4   688.615551     3  ...                            1                           0\n",
              "\n",
              "[5 rows x 43 columns]"
            ]
          },
          "metadata": {},
          "execution_count": 141
        }
      ]
    },
    {
      "cell_type": "code",
      "metadata": {
        "id": "upLuKB9aYeiE"
      },
      "source": [
        "# 予測\n",
        "y_pred1 = lr.predict(df1)"
      ],
      "execution_count": 147,
      "outputs": []
    },
    {
      "cell_type": "code",
      "metadata": {
        "id": "Ij6EqXaATlzb"
      },
      "source": [
        "sub = pd.read_csv('/content/drive/MyDrive/default_risk/submit.csv', encoding = 'UTF-8', names=['id', 'ans'])\n",
        "sub['ans'] = list(map(int, y_pred1))\n",
        "sub.to_csv(\"submit_03.csv\", header=False, index=False)"
      ],
      "execution_count": 148,
      "outputs": []
    },
    {
      "cell_type": "code",
      "metadata": {
        "id": "rqjNk2lRUae-"
      },
      "source": [
        ""
      ],
      "execution_count": null,
      "outputs": []
    }
  ]
}