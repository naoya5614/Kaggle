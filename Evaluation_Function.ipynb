{
  "nbformat": 4,
  "nbformat_minor": 0,
  "metadata": {
    "colab": {
      "name": "Evaluation_Function.ipynb",
      "provenance": [],
      "authorship_tag": "ABX9TyOtLuNXvW1hGGzWTLh8Tjez"
    },
    "kernelspec": {
      "name": "python3",
      "display_name": "Python 3"
    },
    "language_info": {
      "name": "python"
    }
  },
  "cells": [
    {
      "cell_type": "markdown",
      "metadata": {
        "id": "ozp5EVpFCAsK"
      },
      "source": [
        "# 評価関数"
      ]
    },
    {
      "cell_type": "markdown",
      "metadata": {
        "id": "BXjyUDOZCAu_"
      },
      "source": [
        "# [1] 評価関数とは？"
      ]
    },
    {
      "cell_type": "markdown",
      "metadata": {
        "id": "PgDHtoRqCAw_"
      },
      "source": [
        "## 1.評価関数とは？"
      ]
    },
    {
      "cell_type": "markdown",
      "metadata": {
        "id": "REhymhYWCAyn"
      },
      "source": [
        "# [2] 回帰問題における評価関数"
      ]
    },
    {
      "cell_type": "markdown",
      "metadata": {
        "id": "G963d6Q3CVKh"
      },
      "source": [
        "## 1.MAE、RMSE"
      ]
    },
    {
      "cell_type": "markdown",
      "metadata": {
        "id": "Ps8aqneoCVNO"
      },
      "source": [
        "## 2.MAPE"
      ]
    },
    {
      "cell_type": "markdown",
      "metadata": {
        "id": "J5436f0TCVPj"
      },
      "source": [
        "## 3.R2（決定係数）"
      ]
    },
    {
      "cell_type": "markdown",
      "metadata": {
        "id": "hCdBNfqfCVRy"
      },
      "source": [
        "# [3] 分類問題における評価関数"
      ]
    },
    {
      "cell_type": "markdown",
      "metadata": {
        "id": "Px8j4pdKCVUU"
      },
      "source": [
        "## 1.混同行列"
      ]
    },
    {
      "cell_type": "markdown",
      "metadata": {
        "id": "WKVmayzbCVWi"
      },
      "source": [
        "## 2.Accuracy, Precision, Recall, F値"
      ]
    },
    {
      "cell_type": "markdown",
      "metadata": {
        "id": "yqHpbGn6CVY7"
      },
      "source": [
        "## 3.ROC曲線とAUC"
      ]
    },
    {
      "cell_type": "markdown",
      "metadata": {
        "id": "6vdgaxdpCVbM"
      },
      "source": [
        "# [4] 推薦・検索問題における評価関数"
      ]
    },
    {
      "cell_type": "markdown",
      "metadata": {
        "id": "cjMLWs2OCVd7"
      },
      "source": [
        "## 1.推薦・検索問題における評価関数"
      ]
    },
    {
      "cell_type": "markdown",
      "metadata": {
        "id": "-QMCHNM6CVgF"
      },
      "source": [
        "# [5] 物体検出（領域検出）問題における評価関数"
      ]
    },
    {
      "cell_type": "markdown",
      "metadata": {
        "id": "Ip5Z3a4DC741"
      },
      "source": [
        "## 1.物体検出（領域検出）問題における評価関数"
      ]
    }
  ]
}