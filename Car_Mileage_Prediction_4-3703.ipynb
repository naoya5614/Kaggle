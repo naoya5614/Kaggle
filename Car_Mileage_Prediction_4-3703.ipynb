{
  "nbformat": 4,
  "nbformat_minor": 0,
  "metadata": {
    "colab": {
      "name": "Car_Mileage_Prediction_4.3703.ipynb",
      "provenance": [],
      "authorship_tag": "ABX9TyMRjCYmE3thJFuxQz9lun9J"
    },
    "kernelspec": {
      "name": "python3",
      "display_name": "Python 3"
    },
    "language_info": {
      "name": "python"
    }
  },
  "cells": [
    {
      "cell_type": "markdown",
      "metadata": {
        "id": "oPW3k4zD2Jxz"
      },
      "source": [
        "# 【練習問題】自動車の走行距離予測"
      ]
    },
    {
      "cell_type": "code",
      "metadata": {
        "colab": {
          "base_uri": "https://localhost:8080/"
        },
        "id": "TofWJFFH1H0D",
        "outputId": "41b3654e-90c3-4e35-f9b4-24426ebc27b8"
      },
      "source": [
        "# モジュールの読み込み\n",
        "import numpy as np\n",
        "import matplotlib.pyplot as plt\n",
        "import pandas as pd\n",
        "import seaborn as sns\n",
        "from sklearn.linear_model import LinearRegression as LR\n",
        "from sklearn.metrics import mean_squared_error as MSE\n",
        "\n",
        "# Googleマウント\n",
        "from google.colab import drive\n",
        "drive.mount('/content/drive')"
      ],
      "execution_count": 284,
      "outputs": [
        {
          "output_type": "stream",
          "text": [
            "Drive already mounted at /content/drive; to attempt to forcibly remount, call drive.mount(\"/content/drive\", force_remount=True).\n"
          ],
          "name": "stdout"
        }
      ]
    },
    {
      "cell_type": "code",
      "metadata": {
        "id": "7vuL8pyq2RcR"
      },
      "source": [
        "# データの読み込み\n",
        "data_train = pd.read_csv(\"/content/SIGNATE/train.tsv\", sep=\"\\t\")\n",
        "X_test = pd.read_csv(\"/content/SIGNATE/test.tsv\", sep=\"\\t\")"
      ],
      "execution_count": 285,
      "outputs": []
    },
    {
      "cell_type": "code",
      "metadata": {
        "colab": {
          "base_uri": "https://localhost:8080/",
          "height": 204
        },
        "id": "UaRubhQaNfSH",
        "outputId": "c49e27eb-1cdf-4b53-aab6-97aafc183a1a"
      },
      "source": [
        "data_train.head()"
      ],
      "execution_count": 286,
      "outputs": [
        {
          "output_type": "execute_result",
          "data": {
            "text/html": [
              "<div>\n",
              "<style scoped>\n",
              "    .dataframe tbody tr th:only-of-type {\n",
              "        vertical-align: middle;\n",
              "    }\n",
              "\n",
              "    .dataframe tbody tr th {\n",
              "        vertical-align: top;\n",
              "    }\n",
              "\n",
              "    .dataframe thead th {\n",
              "        text-align: right;\n",
              "    }\n",
              "</style>\n",
              "<table border=\"1\" class=\"dataframe\">\n",
              "  <thead>\n",
              "    <tr style=\"text-align: right;\">\n",
              "      <th></th>\n",
              "      <th>id</th>\n",
              "      <th>mpg</th>\n",
              "      <th>cylinders</th>\n",
              "      <th>displacement</th>\n",
              "      <th>horsepower</th>\n",
              "      <th>weight</th>\n",
              "      <th>acceleration</th>\n",
              "      <th>model year</th>\n",
              "      <th>origin</th>\n",
              "      <th>car name</th>\n",
              "    </tr>\n",
              "  </thead>\n",
              "  <tbody>\n",
              "    <tr>\n",
              "      <th>0</th>\n",
              "      <td>0</td>\n",
              "      <td>29.0</td>\n",
              "      <td>4</td>\n",
              "      <td>135.0</td>\n",
              "      <td>84.00</td>\n",
              "      <td>2525.0</td>\n",
              "      <td>16.0</td>\n",
              "      <td>82</td>\n",
              "      <td>1</td>\n",
              "      <td>dodge aries se</td>\n",
              "    </tr>\n",
              "    <tr>\n",
              "      <th>1</th>\n",
              "      <td>3</td>\n",
              "      <td>31.9</td>\n",
              "      <td>4</td>\n",
              "      <td>89.0</td>\n",
              "      <td>71.00</td>\n",
              "      <td>1925.0</td>\n",
              "      <td>14.0</td>\n",
              "      <td>79</td>\n",
              "      <td>2</td>\n",
              "      <td>vw rabbit custom</td>\n",
              "    </tr>\n",
              "    <tr>\n",
              "      <th>2</th>\n",
              "      <td>9</td>\n",
              "      <td>19.0</td>\n",
              "      <td>6</td>\n",
              "      <td>156.0</td>\n",
              "      <td>108.0</td>\n",
              "      <td>2930.0</td>\n",
              "      <td>15.5</td>\n",
              "      <td>76</td>\n",
              "      <td>3</td>\n",
              "      <td>toyota mark ii</td>\n",
              "    </tr>\n",
              "    <tr>\n",
              "      <th>3</th>\n",
              "      <td>11</td>\n",
              "      <td>28.0</td>\n",
              "      <td>4</td>\n",
              "      <td>90.0</td>\n",
              "      <td>75.00</td>\n",
              "      <td>2125.0</td>\n",
              "      <td>14.5</td>\n",
              "      <td>74</td>\n",
              "      <td>1</td>\n",
              "      <td>dodge colt</td>\n",
              "    </tr>\n",
              "    <tr>\n",
              "      <th>4</th>\n",
              "      <td>13</td>\n",
              "      <td>37.7</td>\n",
              "      <td>4</td>\n",
              "      <td>89.0</td>\n",
              "      <td>62.00</td>\n",
              "      <td>2050.0</td>\n",
              "      <td>17.3</td>\n",
              "      <td>81</td>\n",
              "      <td>3</td>\n",
              "      <td>toyota tercel</td>\n",
              "    </tr>\n",
              "  </tbody>\n",
              "</table>\n",
              "</div>"
            ],
            "text/plain": [
              "   id   mpg  cylinders  ...  model year origin          car name\n",
              "0   0  29.0          4  ...          82      1    dodge aries se\n",
              "1   3  31.9          4  ...          79      2  vw rabbit custom\n",
              "2   9  19.0          6  ...          76      3    toyota mark ii\n",
              "3  11  28.0          4  ...          74      1        dodge colt\n",
              "4  13  37.7          4  ...          81      3     toyota tercel\n",
              "\n",
              "[5 rows x 10 columns]"
            ]
          },
          "metadata": {
            "tags": []
          },
          "execution_count": 286
        }
      ]
    },
    {
      "cell_type": "code",
      "metadata": {
        "colab": {
          "base_uri": "https://localhost:8080/",
          "height": 297
        },
        "id": "tdYjxwPo6J0x",
        "outputId": "51200a53-eae5-4ab8-c686-6e55e804d23f"
      },
      "source": [
        "data_train.describe()"
      ],
      "execution_count": 287,
      "outputs": [
        {
          "output_type": "execute_result",
          "data": {
            "text/html": [
              "<div>\n",
              "<style scoped>\n",
              "    .dataframe tbody tr th:only-of-type {\n",
              "        vertical-align: middle;\n",
              "    }\n",
              "\n",
              "    .dataframe tbody tr th {\n",
              "        vertical-align: top;\n",
              "    }\n",
              "\n",
              "    .dataframe thead th {\n",
              "        text-align: right;\n",
              "    }\n",
              "</style>\n",
              "<table border=\"1\" class=\"dataframe\">\n",
              "  <thead>\n",
              "    <tr style=\"text-align: right;\">\n",
              "      <th></th>\n",
              "      <th>id</th>\n",
              "      <th>mpg</th>\n",
              "      <th>cylinders</th>\n",
              "      <th>displacement</th>\n",
              "      <th>weight</th>\n",
              "      <th>acceleration</th>\n",
              "      <th>model year</th>\n",
              "      <th>origin</th>\n",
              "    </tr>\n",
              "  </thead>\n",
              "  <tbody>\n",
              "    <tr>\n",
              "      <th>count</th>\n",
              "      <td>199.000000</td>\n",
              "      <td>199.000000</td>\n",
              "      <td>199.000000</td>\n",
              "      <td>199.000000</td>\n",
              "      <td>199.000000</td>\n",
              "      <td>199.000000</td>\n",
              "      <td>199.000000</td>\n",
              "      <td>199.000000</td>\n",
              "    </tr>\n",
              "    <tr>\n",
              "      <th>mean</th>\n",
              "      <td>200.170854</td>\n",
              "      <td>24.307035</td>\n",
              "      <td>5.296482</td>\n",
              "      <td>183.311558</td>\n",
              "      <td>2883.839196</td>\n",
              "      <td>15.647739</td>\n",
              "      <td>76.165829</td>\n",
              "      <td>1.582915</td>\n",
              "    </tr>\n",
              "    <tr>\n",
              "      <th>std</th>\n",
              "      <td>113.432759</td>\n",
              "      <td>7.797665</td>\n",
              "      <td>1.644562</td>\n",
              "      <td>98.400457</td>\n",
              "      <td>819.766870</td>\n",
              "      <td>2.701885</td>\n",
              "      <td>3.802928</td>\n",
              "      <td>0.798932</td>\n",
              "    </tr>\n",
              "    <tr>\n",
              "      <th>min</th>\n",
              "      <td>0.000000</td>\n",
              "      <td>9.000000</td>\n",
              "      <td>3.000000</td>\n",
              "      <td>71.000000</td>\n",
              "      <td>1613.000000</td>\n",
              "      <td>8.500000</td>\n",
              "      <td>70.000000</td>\n",
              "      <td>1.000000</td>\n",
              "    </tr>\n",
              "    <tr>\n",
              "      <th>25%</th>\n",
              "      <td>98.500000</td>\n",
              "      <td>18.000000</td>\n",
              "      <td>4.000000</td>\n",
              "      <td>98.000000</td>\n",
              "      <td>2217.500000</td>\n",
              "      <td>14.000000</td>\n",
              "      <td>73.000000</td>\n",
              "      <td>1.000000</td>\n",
              "    </tr>\n",
              "    <tr>\n",
              "      <th>50%</th>\n",
              "      <td>202.000000</td>\n",
              "      <td>24.000000</td>\n",
              "      <td>4.000000</td>\n",
              "      <td>140.000000</td>\n",
              "      <td>2702.000000</td>\n",
              "      <td>15.500000</td>\n",
              "      <td>76.000000</td>\n",
              "      <td>1.000000</td>\n",
              "    </tr>\n",
              "    <tr>\n",
              "      <th>75%</th>\n",
              "      <td>294.500000</td>\n",
              "      <td>30.500000</td>\n",
              "      <td>6.000000</td>\n",
              "      <td>250.000000</td>\n",
              "      <td>3426.500000</td>\n",
              "      <td>17.150000</td>\n",
              "      <td>80.000000</td>\n",
              "      <td>2.000000</td>\n",
              "    </tr>\n",
              "    <tr>\n",
              "      <th>max</th>\n",
              "      <td>396.000000</td>\n",
              "      <td>44.600000</td>\n",
              "      <td>8.000000</td>\n",
              "      <td>454.000000</td>\n",
              "      <td>5140.000000</td>\n",
              "      <td>23.700000</td>\n",
              "      <td>82.000000</td>\n",
              "      <td>3.000000</td>\n",
              "    </tr>\n",
              "  </tbody>\n",
              "</table>\n",
              "</div>"
            ],
            "text/plain": [
              "               id         mpg   cylinders  ...  acceleration  model year      origin\n",
              "count  199.000000  199.000000  199.000000  ...    199.000000  199.000000  199.000000\n",
              "mean   200.170854   24.307035    5.296482  ...     15.647739   76.165829    1.582915\n",
              "std    113.432759    7.797665    1.644562  ...      2.701885    3.802928    0.798932\n",
              "min      0.000000    9.000000    3.000000  ...      8.500000   70.000000    1.000000\n",
              "25%     98.500000   18.000000    4.000000  ...     14.000000   73.000000    1.000000\n",
              "50%    202.000000   24.000000    4.000000  ...     15.500000   76.000000    1.000000\n",
              "75%    294.500000   30.500000    6.000000  ...     17.150000   80.000000    2.000000\n",
              "max    396.000000   44.600000    8.000000  ...     23.700000   82.000000    3.000000\n",
              "\n",
              "[8 rows x 8 columns]"
            ]
          },
          "metadata": {
            "tags": []
          },
          "execution_count": 287
        }
      ]
    },
    {
      "cell_type": "code",
      "metadata": {
        "colab": {
          "base_uri": "https://localhost:8080/"
        },
        "id": "QNEkznQtE7oI",
        "outputId": "e1059b02-9657-46ff-f16b-6375ab5fc5d9"
      },
      "source": [
        "data_train.info()"
      ],
      "execution_count": 288,
      "outputs": [
        {
          "output_type": "stream",
          "text": [
            "<class 'pandas.core.frame.DataFrame'>\n",
            "RangeIndex: 199 entries, 0 to 198\n",
            "Data columns (total 10 columns):\n",
            " #   Column        Non-Null Count  Dtype  \n",
            "---  ------        --------------  -----  \n",
            " 0   id            199 non-null    int64  \n",
            " 1   mpg           199 non-null    float64\n",
            " 2   cylinders     199 non-null    int64  \n",
            " 3   displacement  199 non-null    float64\n",
            " 4   horsepower    199 non-null    object \n",
            " 5   weight        199 non-null    float64\n",
            " 6   acceleration  199 non-null    float64\n",
            " 7   model year    199 non-null    int64  \n",
            " 8   origin        199 non-null    int64  \n",
            " 9   car name      199 non-null    object \n",
            "dtypes: float64(4), int64(4), object(2)\n",
            "memory usage: 15.7+ KB\n"
          ],
          "name": "stdout"
        }
      ]
    },
    {
      "cell_type": "code",
      "metadata": {
        "colab": {
          "base_uri": "https://localhost:8080/"
        },
        "id": "Ap2QC6cxG-od",
        "outputId": "b18a650e-39e3-4a4d-d1ff-77f236a19064"
      },
      "source": [
        "print(data_train['horsepower'].unique())\n",
        "print(X_test['horsepower'].unique())"
      ],
      "execution_count": 289,
      "outputs": [
        {
          "output_type": "stream",
          "text": [
            "['84.00' '71.00' '108.0' '75.00' '62.00' '90.00' '105.0' '180.0' '113.0'\n",
            " '135.0' '120.0' '88.00' '165.0' '100.0' '69.00' '70.00' '60.00' '80.00'\n",
            " '132.0' '85.00' '130.0' '93.00' '?' '175.0' '68.00' '58.00' '110.0'\n",
            " '65.00' '67.00' '78.00' '48.00' '112.0' '86.00' '83.00' '81.00' '82.00'\n",
            " '92.00' '97.00' '76.00' '193.0' '148.0' '72.00' '170.0' '140.0' '220.0'\n",
            " '79.00' '198.0' '150.0' '64.00' '96.00' '138.0' '52.00' '145.0' '95.00'\n",
            " '160.0' '74.00' '54.00' '149.0' '139.0' '129.0' '63.00' '122.0' '200.0'\n",
            " '46.00' '153.0' '89.00' '155.0' '61.00' '215.0' '190.0' '115.0']\n",
            "['76.00' '98.00' '92.00' '110.0' '88.00' '90.00' '150.0' '105.0' '190.0'\n",
            " '75.00' '175.0' '65.00' '87.00' '77.00' '140.0' '67.00' '48.00' '170.0'\n",
            " '155.0' '84.00' '70.00' '60.00' '95.00' '215.0' '52.00' '180.0' '71.00'\n",
            " '49.00' '68.00' '63.00' '103.0' '85.00' '80.00' '152.0' '58.00' '79.00'\n",
            " '86.00' '78.00' '?' '100.0' '69.00' '145.0' '230.0' '125.0' '115.0'\n",
            " '130.0' '198.0' '94.00' '153.0' '83.00' '208.0' '46.00' '137.0' '142.0'\n",
            " '72.00' '102.0' '81.00' '66.00' '165.0' '160.0' '225.0' '97.00' '53.00'\n",
            " '120.0' '167.0' '210.0' '74.00' '129.0' '133.0' '158.0' '107.0' '116.0'\n",
            " '91.00']\n"
          ],
          "name": "stdout"
        }
      ]
    },
    {
      "cell_type": "code",
      "metadata": {
        "id": "gbF71mIEHPZL"
      },
      "source": [
        "#条件にマッチしたIndexを取得\n",
        "drop_index = data_train.index[data_train['horsepower'] == '?']\n",
        "#条件にマッチしたIndexを削除\n",
        "data_train = data_train.drop(drop_index)\n",
        "\n",
        "data_train['horsepower'] = data_train['horsepower'].astype(float)\n",
        "\n",
        "mean = data_train['horsepower'].mean()\n",
        "#条件にマッチしたIndexを置換\n",
        "X_test['horsepower'] = X_test['horsepower'].replace('?', mean)"
      ],
      "execution_count": 290,
      "outputs": []
    },
    {
      "cell_type": "code",
      "metadata": {
        "id": "xMaAN6U4F3bl"
      },
      "source": [
        "X_test['horsepower'] = X_test['horsepower'].astype(float)"
      ],
      "execution_count": 291,
      "outputs": []
    },
    {
      "cell_type": "code",
      "metadata": {
        "colab": {
          "base_uri": "https://localhost:8080/"
        },
        "id": "Hmp0QEf7KPqp",
        "outputId": "42652dea-2662-4a91-ac4e-95b5bf60f6aa"
      },
      "source": [
        "print(data_train.info())\n",
        "print(X_test.info())"
      ],
      "execution_count": 292,
      "outputs": [
        {
          "output_type": "stream",
          "text": [
            "<class 'pandas.core.frame.DataFrame'>\n",
            "Int64Index: 195 entries, 0 to 198\n",
            "Data columns (total 10 columns):\n",
            " #   Column        Non-Null Count  Dtype  \n",
            "---  ------        --------------  -----  \n",
            " 0   id            195 non-null    int64  \n",
            " 1   mpg           195 non-null    float64\n",
            " 2   cylinders     195 non-null    int64  \n",
            " 3   displacement  195 non-null    float64\n",
            " 4   horsepower    195 non-null    float64\n",
            " 5   weight        195 non-null    float64\n",
            " 6   acceleration  195 non-null    float64\n",
            " 7   model year    195 non-null    int64  \n",
            " 8   origin        195 non-null    int64  \n",
            " 9   car name      195 non-null    object \n",
            "dtypes: float64(5), int64(4), object(1)\n",
            "memory usage: 16.8+ KB\n",
            "None\n",
            "<class 'pandas.core.frame.DataFrame'>\n",
            "RangeIndex: 199 entries, 0 to 198\n",
            "Data columns (total 9 columns):\n",
            " #   Column        Non-Null Count  Dtype  \n",
            "---  ------        --------------  -----  \n",
            " 0   id            199 non-null    int64  \n",
            " 1   cylinders     199 non-null    int64  \n",
            " 2   displacement  199 non-null    float64\n",
            " 3   horsepower    199 non-null    float64\n",
            " 4   weight        199 non-null    float64\n",
            " 5   acceleration  199 non-null    float64\n",
            " 6   model year    199 non-null    int64  \n",
            " 7   origin        199 non-null    int64  \n",
            " 8   car name      199 non-null    object \n",
            "dtypes: float64(4), int64(4), object(1)\n",
            "memory usage: 14.1+ KB\n",
            "None\n"
          ],
          "name": "stdout"
        }
      ]
    },
    {
      "cell_type": "code",
      "metadata": {
        "id": "CpKnRXgN_8ZO"
      },
      "source": [
        "data_train = data_train.drop(columns=['id', 'model year', 'origin', 'car name'])\n",
        "X_test = X_test.drop(columns=['id', 'model year', 'origin', 'car name'])"
      ],
      "execution_count": 293,
      "outputs": []
    },
    {
      "cell_type": "code",
      "metadata": {
        "id": "UeSno1stCBbj"
      },
      "source": [
        "X_train = data_train[['cylinders',\t'displacement',\t'horsepower',\t'weight',\t'acceleration']]\n",
        "y_train = data_train['mpg']"
      ],
      "execution_count": 294,
      "outputs": []
    },
    {
      "cell_type": "code",
      "metadata": {
        "id": "FzYPYMRBD0Ni"
      },
      "source": [
        "lr = LR()"
      ],
      "execution_count": 295,
      "outputs": []
    },
    {
      "cell_type": "code",
      "metadata": {
        "colab": {
          "base_uri": "https://localhost:8080/"
        },
        "id": "HJxSjTNpEae4",
        "outputId": "f9371509-79cd-49b8-b593-143374d2644e"
      },
      "source": [
        "lr.fit(X_train, y_train)"
      ],
      "execution_count": 296,
      "outputs": [
        {
          "output_type": "execute_result",
          "data": {
            "text/plain": [
              "LinearRegression(copy_X=True, fit_intercept=True, n_jobs=None, normalize=False)"
            ]
          },
          "metadata": {
            "tags": []
          },
          "execution_count": 296
        }
      ]
    },
    {
      "cell_type": "code",
      "metadata": {
        "id": "YxbYgTTcEvOd"
      },
      "source": [
        "y_pred_train = lr.predict(X_train)\n",
        "y_pred_test = lr.predict(X_test)"
      ],
      "execution_count": 297,
      "outputs": []
    },
    {
      "cell_type": "code",
      "metadata": {
        "id": "AqzEsUE7KfYf"
      },
      "source": [
        "mse_train = MSE(y_train, y_pred_train)"
      ],
      "execution_count": 298,
      "outputs": []
    },
    {
      "cell_type": "code",
      "metadata": {
        "colab": {
          "base_uri": "https://localhost:8080/"
        },
        "id": "whATA4QPLJTS",
        "outputId": "c342d017-31cf-40e5-d596-72447d1bc5c2"
      },
      "source": [
        "rmse_train = np.sqrt(mse_train)\n",
        "print(rmse_train)"
      ],
      "execution_count": 299,
      "outputs": [
        {
          "output_type": "stream",
          "text": [
            "4.192614685478882\n"
          ],
          "name": "stdout"
        }
      ]
    },
    {
      "cell_type": "code",
      "metadata": {
        "id": "_3GkAynLLYAw"
      },
      "source": [
        "sub = pd.read_csv('/content/SIGNATE/sample_submit.csv', encoding = 'UTF-8', names=['id', 'ans'])\n",
        "sub['ans'] = list(map(int, y_pred_test))\n",
        "sub.to_csv(\"/content/SIGNATE/Car_Mileage_Prediction_submit01.csv\", header=False, index=False)"
      ],
      "execution_count": 302,
      "outputs": []
    }
  ]
}