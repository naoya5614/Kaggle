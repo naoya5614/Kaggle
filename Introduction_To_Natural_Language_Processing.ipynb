{
  "nbformat": 4,
  "nbformat_minor": 0,
  "metadata": {
    "colab": {
      "name": "Introduction_To_Natural_Language_Processing.ipynb",
      "provenance": [],
      "collapsed_sections": [],
      "toc_visible": true,
      "authorship_tag": "ABX9TyOUO5qKkXQQL4Xj2pOA7Prw"
    },
    "kernelspec": {
      "name": "python3",
      "display_name": "Python 3"
    },
    "language_info": {
      "name": "python"
    }
  },
  "cells": [
    {
      "cell_type": "markdown",
      "metadata": {
        "id": "s9ssRMhsEeIj"
      },
      "source": [
        "# 自然言語処理入門"
      ]
    },
    {
      "cell_type": "markdown",
      "metadata": {
        "id": "dC_YDGfyEeLW"
      },
      "source": [
        "# [1] 自然言語処理の基本"
      ]
    },
    {
      "cell_type": "markdown",
      "metadata": {
        "id": "EjoS0xkwEeNl"
      },
      "source": [
        "## 1.文字列の操作"
      ]
    },
    {
      "cell_type": "markdown",
      "metadata": {
        "id": "mXhhLb17EeQC"
      },
      "source": [
        "## 2.自然言語の前処理"
      ]
    },
    {
      "cell_type": "markdown",
      "metadata": {
        "id": "ptu7pmL0EeSU"
      },
      "source": [
        "## 3.形態素解析"
      ]
    },
    {
      "cell_type": "markdown",
      "metadata": {
        "id": "RukAc29xEeZs"
      },
      "source": [
        "## 4.構文解析"
      ]
    },
    {
      "cell_type": "markdown",
      "metadata": {
        "id": "7Y6wXEJEEeei"
      },
      "source": [
        "# [2] 自然言語処理の手法（機械学習）"
      ]
    },
    {
      "cell_type": "markdown",
      "metadata": {
        "id": "5hCU4u6aE7OB"
      },
      "source": [
        "## 1.n-gram"
      ]
    },
    {
      "cell_type": "markdown",
      "metadata": {
        "id": "lHsH8DGDE7Qu"
      },
      "source": [
        "## 2.Bag of Words"
      ]
    },
    {
      "cell_type": "markdown",
      "metadata": {
        "id": "w3PVYEPmE7TF"
      },
      "source": [
        "## 3.tf-idf"
      ]
    },
    {
      "cell_type": "markdown",
      "metadata": {
        "id": "An27vPFXE7Vi"
      },
      "source": [
        "## 4.LDA"
      ]
    },
    {
      "cell_type": "markdown",
      "metadata": {
        "id": "czuPihqzE7bJ"
      },
      "source": [
        "## 5.Word2Vec"
      ]
    },
    {
      "cell_type": "markdown",
      "metadata": {
        "id": "g7JU382fE7fN"
      },
      "source": [
        "# [3] 自然言語処理の手法（深層学習）"
      ]
    },
    {
      "cell_type": "markdown",
      "metadata": {
        "id": "ZkplPJupE7hz"
      },
      "source": [
        "## 1.自然言語処理の手法（深層学習）"
      ]
    },
    {
      "cell_type": "markdown",
      "metadata": {
        "id": "usFWODyBFaRY"
      },
      "source": [
        "# [4] 自然言語処理の実践（映画レビュー分類）"
      ]
    },
    {
      "cell_type": "markdown",
      "metadata": {
        "id": "TOIBS3ZZFaTo"
      },
      "source": [
        "## 1.データの読み込みと目的変数の数値化"
      ]
    },
    {
      "cell_type": "markdown",
      "metadata": {
        "id": "cQuUyTjQFaWH"
      },
      "source": [
        "## 2.前処理"
      ]
    },
    {
      "cell_type": "markdown",
      "metadata": {
        "id": "PoGmlUR0FaYK"
      },
      "source": [
        "## 3.Bag of Words"
      ]
    },
    {
      "cell_type": "markdown",
      "metadata": {
        "id": "PEixARzzFp1I"
      },
      "source": [
        "## 4.モデリング"
      ]
    }
  ]
}