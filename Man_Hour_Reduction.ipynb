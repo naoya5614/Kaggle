{
  "nbformat": 4,
  "nbformat_minor": 0,
  "metadata": {
    "colab": {
      "name": "Man_Hour_Reduction.ipynb",
      "provenance": [],
      "toc_visible": true,
      "authorship_tag": "ABX9TyNDEtWuN5uSAm6qR0M6ZL6l"
    },
    "kernelspec": {
      "name": "python3",
      "display_name": "Python 3"
    },
    "language_info": {
      "name": "python"
    }
  },
  "cells": [
    {
      "cell_type": "markdown",
      "metadata": {
        "id": "_WO2GiHjrY43"
      },
      "source": [
        "# 新入社員の配属先割り当ての工数削減"
      ]
    },
    {
      "cell_type": "markdown",
      "metadata": {
        "id": "Ed_Ge4BnrZ0N"
      },
      "source": [
        "# [1] データの前分析"
      ]
    },
    {
      "cell_type": "markdown",
      "metadata": {
        "id": "kGCUX2QAruqm"
      },
      "source": [
        "## 1.グラフの作成"
      ]
    },
    {
      "cell_type": "markdown",
      "metadata": {
        "id": "0e5vOTnPsSFp"
      },
      "source": [
        "### 1-1.ライブラリをインポートする"
      ]
    },
    {
      "cell_type": "markdown",
      "metadata": {
        "id": "GAi42RXysUar"
      },
      "source": [
        "**データ分析で役立つライブラリ**\n",
        "\n",
        "\n",
        "```\n",
        "*   pandas:データ分析に必要なDataFrameという道具を扱うためのライブラリ\n",
        "*   numpy:数値演算で必要なライブラリ\n",
        "*   networkx:データ構造としてのグラフを扱うライブラリ\n",
        "*   matplotlib:グラフを作成する可視化ライブラリ\n",
        "*   seaborn:グラフを作成する可視化ライブラリ(matplotlibよりも記述が簡単)\n",
        "*   scikit-learn:機械学習のライブラリ\n",
        "```\n",
        "\n",
        "\n",
        "**ライブラリをインポートする**\n",
        "\n",
        "\n",
        "```\n",
        "import ライブラリ名\n",
        "\n",
        "import ライブラリ名 as 省略名\n",
        "\n",
        "from ライブラリ名 import モジュール名\n",
        "\n",
        "import ライブラリ名.モジュール名\n",
        "\n",
        "from ライブラリ名 import モジュール名 as 省略名\n",
        "```\n",
        "\n"
      ]
    },
    {
      "cell_type": "code",
      "metadata": {
        "id": "TcCIJB3LtV7E"
      },
      "source": [
        "# networkxのインポート\n",
        "import networkx as nx \n",
        "\n",
        "# pandasのインポート\n",
        "import pandas as pd\n",
        "\n",
        "# matplotlibのインポート\n",
        "from matplotlib import pyplot as plt"
      ],
      "execution_count": null,
      "outputs": []
    },
    {
      "cell_type": "markdown",
      "metadata": {
        "id": "WnMwTMJhtfYr"
      },
      "source": [
        "### 1-2.ノードとエッジを作成する"
      ]
    },
    {
      "cell_type": "markdown",
      "metadata": {
        "id": "-pdp9tSJtsJU"
      },
      "source": [
        "**データ構造としてのグラフを作成する**\n",
        "**太字空のグラフを作成**\n",
        "\n",
        "\n",
        "```\n",
        "G = nx.Graph()\n",
        "```\n",
        "\n",
        "**ノードを追加**\n",
        "\n",
        "\n",
        "```\n",
        "G.add_nodes_from([ノード1, ノード2, ...])\n",
        "```\n",
        "\n",
        "**各要素に対応するノードの名前と属性名を記述**\n",
        "\n",
        "\n",
        "```\n",
        "(ノードの名前, {'attr': 属性名})\n",
        "```\n",
        "\n",
        "**ノードの内容を確認**\n",
        "\n",
        "\n",
        "```\n",
        "print(G.nodes.data())\n",
        "```\n",
        "\n",
        "**エッジを追加**\n",
        "\n",
        "\n",
        "```\n",
        "G.add_edges_from([エッジ1, エッジ2, ...])\n",
        "\n",
        "(ノードx, ノードy, {属性名: 値})\n",
        "```\n",
        "\n",
        "**エッジの内容を確認**\n",
        "\n",
        "\n",
        "```\n",
        "print(G.edges.data())\n",
        "```\n",
        "\n"
      ]
    },
    {
      "cell_type": "code",
      "metadata": {
        "id": "nrKyS6IHvAyY"
      },
      "source": [
        "# networkxのインポート\n",
        "import networkx as nx\n",
        "\n",
        "# 空のグラフの作成\n",
        "G = nx.Graph()\n",
        "\n",
        "# ノードをその属性とともに追加\n",
        "G.add_nodes_from([(1, {'attr': 'source'}),(2, {'attr': 'destination'})])\n",
        "print(G.nodes)\n",
        "\n",
        "# ノードの内容を確認\n",
        "print(G.nodes.data())\n",
        "\n",
        "# エッジをその属性とともに追加\n",
        "G.add_edges_from([(1, 2, {'distance': 1})])\n",
        "print(G.edges)\n",
        "\n",
        "# エッジの内容を確認\n",
        "print(G.edges.data())"
      ],
      "execution_count": null,
      "outputs": []
    },
    {
      "cell_type": "markdown",
      "metadata": {
        "id": "E6bR5emy35dO"
      },
      "source": [
        "### 1-3.read_csvによりファイルを読み込む"
      ]
    },
    {
      "cell_type": "markdown",
      "metadata": {
        "id": "dxkekcvG4BC4"
      },
      "source": [
        "\n",
        "\n",
        "```\n",
        "ライブラリ名.関数()\n",
        "\n",
        "pd.read_csv()\n",
        "\n",
        "pd.read_csv('ファイル名')\n",
        "\n",
        "変数名 = pd.read_csv('ファイル名', sep = '区切り文字')\n",
        "```\n",
        "\n"
      ]
    },
    {
      "cell_type": "code",
      "metadata": {
        "id": "e-rTAoJv4sWi"
      },
      "source": [
        "# pandasのインポート\n",
        "import pandas as pd\n",
        "\n",
        "# データの読み込み\n",
        "data = pd.read_csv('data.csv', sep=',')"
      ],
      "execution_count": null,
      "outputs": []
    },
    {
      "cell_type": "markdown",
      "metadata": {
        "id": "wHUVpR4P4x1r"
      },
      "source": [
        "### 1-4.DataFrameからグラフを作成する"
      ]
    },
    {
      "cell_type": "markdown",
      "metadata": {
        "id": "Kc0-UejO43zN"
      },
      "source": [
        "**最初の数行を確認**\n",
        "\n",
        "\n",
        "```\n",
        "data.head()\n",
        "```\n",
        "\n",
        "\n",
        "```\n",
        "G = nx.from_pandas_edgelist(データ, source=ノード集合1, target=ノード集合2, edge_attr=エッジの属性情報)\n",
        "```\n",
        "\n",
        "**重み情報を確認**\n",
        "\n",
        "```\n",
        "print(G.edges[エッジ])\n",
        "\n",
        "(ノードx, ノードy)\n",
        "```\n",
        "\n",
        "\n"
      ]
    },
    {
      "cell_type": "code",
      "metadata": {
        "id": "W81WLUoH5z3i"
      },
      "source": [
        "# 最初の数行を確認\n",
        "print(data.head())\n",
        "\n",
        "# グラフの作成\n",
        "G = nx.from_pandas_edgelist(data, source='worker', target='department', edge_attr='score')\n",
        "print(G.nodes)\n",
        "\n",
        "# 新入社員1の部署hに対する満足度を確認\n",
        "print(G.edges[(1, 'h')])"
      ],
      "execution_count": null,
      "outputs": []
    },
    {
      "cell_type": "markdown",
      "metadata": {
        "id": "5NYJcjs1ruwK"
      },
      "source": [
        "## 2.グラフの分析"
      ]
    },
    {
      "cell_type": "markdown",
      "metadata": {
        "id": "NfpOOFy258B1"
      },
      "source": [
        "### 2-1.ノードやエッジの数を集計する"
      ]
    },
    {
      "cell_type": "markdown",
      "metadata": {
        "id": "mCVrUgEO6AI_"
      },
      "source": [
        "**ノードの数を確認**\n",
        "\n",
        "```\n",
        "len(G.nodes)\n",
        "```\n",
        "**エッジの数の確認**\n",
        "\n",
        "```\n",
        "len(G.edges)\n",
        "```\n",
        "**ノードにつながっているエッジの数(次数)を確認**\n",
        "\n",
        "```\n",
        "print(G.degree)\n",
        "\n",
        "(ノード, 次数)\n",
        "```\n",
        "\n",
        "\n",
        "\n"
      ]
    },
    {
      "cell_type": "code",
      "metadata": {
        "id": "jaUE4_vv6f_B"
      },
      "source": [
        "# ノードの数を表示\n",
        "print(len(G.nodes))\n",
        "\n",
        "# エッジの数を表示\n",
        "print(len(G.edges))\n",
        "\n",
        "# グラフの次数を表示\n",
        "print(G.degree)"
      ],
      "execution_count": null,
      "outputs": []
    },
    {
      "cell_type": "markdown",
      "metadata": {
        "id": "FC5x_2Rv6j1h"
      },
      "source": [
        "### 2-2.隣接ノードを確認する"
      ]
    },
    {
      "cell_type": "markdown",
      "metadata": {
        "id": "UZ67WFoj6pGN"
      },
      "source": [
        "**隣接ノードを確認**\n",
        "\n",
        "\n",
        "```\n",
        "G.adj\n",
        "\n",
        "　# 特定の隣接ノードを取得\n",
        "G.adj[ノード1]\n",
        "```\n",
        "\n",
        "**ノードとつながっているエッジの属性情報が以下のように格納**\n",
        "```\n",
        "{ノード2: {属性1: 値}, ノード3: {属性1: 値}, ...}\n",
        "```\n",
        "\n",
        "\n"
      ]
    },
    {
      "cell_type": "code",
      "metadata": {
        "id": "4JJpT8Uh7G6_"
      },
      "source": [
        "# 隣接ノード一覧を取得\n",
        "adj = G.adj\n",
        "\n",
        "# 部署aの隣接ノードの情報を表示\n",
        "print(adj['a'])\n",
        "\n",
        "# 新入社員1の隣接ノードの情報を表示\n",
        "print(adj[1])"
      ],
      "execution_count": null,
      "outputs": []
    },
    {
      "cell_type": "markdown",
      "metadata": {
        "id": "TLNA8o-j7MPK"
      },
      "source": [
        "### 2-3.グラフを可視化する"
      ]
    },
    {
      "cell_type": "markdown",
      "metadata": {
        "id": "3Z6BH8Z37RXj"
      },
      "source": [
        "**可視化に必要なライブラリをインポート**\n",
        "\n",
        "```\n",
        "from matplotlib import pyplot as plt\n",
        "```\n",
        "**ノードの位置を設定**\n",
        "\n",
        "```\n",
        "pos = nx.spring_layout(グラフ)\n",
        "```\n",
        "**networkxのdraw_networkx関数にグラフと位置を渡す**\n",
        "\n",
        "\n",
        "```\n",
        "nx.draw_networkx(G, pos)\n",
        "```\n",
        "**枠を外して可視化**\n",
        "\n",
        "\n",
        "```\n",
        "plt.axis('off')\n",
        "plt.show()\n",
        "```\n",
        "\n",
        "\n"
      ]
    },
    {
      "cell_type": "code",
      "metadata": {
        "id": "jekyqMio8EBS"
      },
      "source": [
        "# matplotlibのインポート\n",
        "from matplotlib import pyplot as plt\n",
        "\n",
        "# グラフGの可視化\n",
        "pos = nx.spring_layout(G)  # positions for all nodes\n",
        "nx.draw_networkx(G, pos)\n",
        "\n",
        "plt.axis('off')\n",
        "plt.show()"
      ],
      "execution_count": null,
      "outputs": []
    },
    {
      "cell_type": "markdown",
      "metadata": {
        "id": "1Jqcc_1-rZ2m"
      },
      "source": [
        "# [2] 2部グラフにおける最適化"
      ]
    },
    {
      "cell_type": "markdown",
      "metadata": {
        "id": "AF30GDwLr5ei"
      },
      "source": [
        "## 1.2部グラフの扱い"
      ]
    },
    {
      "cell_type": "markdown",
      "metadata": {
        "id": "Kw42rWKr88hr"
      },
      "source": [
        "### 1-1.2部グラフの基本性質を調べる"
      ]
    },
    {
      "cell_type": "markdown",
      "metadata": {
        "id": "4QuEvdvs9cLm"
      },
      "source": [
        "**読み込んだデータで作成したグラフGが2部グラフかどうか判定**\n",
        "\n",
        "```\n",
        "bipartite.is_bipartite(G)\n",
        "```\n",
        "**2部グラフをエッジを挟んでちょうど2つのノード集合に分ける**\n",
        "\n",
        "```\n",
        "top, bottom = bipartite.sets(G)\n",
        "```\n",
        "**それぞれのノードの重み付き次数を確認**\n",
        "\n",
        "```\n",
        "bipartite.degrees(G, top, weight = 'score')\n",
        "```\n",
        "\n",
        "\n",
        "\n",
        "\n"
      ]
    },
    {
      "cell_type": "code",
      "metadata": {
        "id": "vGmBjGcfKIyX"
      },
      "source": [
        "# bipartiteモジュールのインポート\n",
        "from networkx.algorithms import bipartite\n",
        "\n",
        "# グラフGが2部グラフかどうか判定\n",
        "print(bipartite.is_bipartite(G))\n",
        "\n",
        "# 2つのノード集合を出力して中身を確認\n",
        "top, bottom = bipartite.sets(G)\n",
        "print(top, bottom)\n",
        "\n",
        "# 重みscoreにおけるグラフGの次数を確認\n",
        "print(bipartite.degrees(G, top, weight = 'score'))"
      ],
      "execution_count": null,
      "outputs": []
    },
    {
      "cell_type": "markdown",
      "metadata": {
        "id": "GIJ1troUKtP9"
      },
      "source": [
        "### 1-2.2部グラフを可視化する"
      ]
    },
    {
      "cell_type": "markdown",
      "metadata": {
        "id": "j8oskMpoK7Ps"
      },
      "source": [
        "**位置はdict型で{ノード名: (x座標, y座標)}のように指定**\n",
        "\n",
        "```\n",
        "pos = {}\n",
        "for i, n in enumerate(新入社員のノード集合):\n",
        "    pos.update({n: (1, i)})\n",
        "for i, n in enumerate(部署のノード集合):\n",
        "    pos.update({n: (2, i)})\n",
        "```\n",
        "**ノードの色を指定**\n",
        "\n",
        "```\n",
        "node_color = []\n",
        "for n in G.nodes:\n",
        "    if n in top:\n",
        "        node_color.append('r')\n",
        "    else:\n",
        "        node_color.append('b')\n",
        "```\n",
        "**エッジの太さを指定**\n",
        "\n",
        "```\n",
        "width = []\n",
        "for u,v,w in G.edges(data=True):\n",
        "    width.append(w['score'])\n",
        "```\n",
        "**networkxのdraw_networkx関数に渡してグラフを可視化**\n",
        "\n",
        "```\n",
        "nx.draw_networkx(G=グラフ, pos=位置, font_size=フォントサイズ, node_size=ノードサイズ, node_color=node_color, width=width)\n",
        "```\n",
        "**枠を非表示にして描画**\n",
        "\n",
        "```\n",
        "plt.axis('off')\n",
        "plt.show()\n",
        "```\n",
        "\n",
        "\n",
        "\n",
        "\n",
        "\n"
      ]
    },
    {
      "cell_type": "code",
      "metadata": {
        "id": "uwr4Ee3PMdd1"
      },
      "source": [
        "# 各ノードの位置を設定\n",
        "pos = {}\n",
        "for i, n in enumerate(top):\n",
        "    pos.update({n: (1, i)})\n",
        "for i, n in enumerate(bottom):\n",
        "    pos.update({n: (2, i)})\n",
        "\n",
        "# 各ノードの色を指定\n",
        "node_color = []\n",
        "for n in G.nodes:\n",
        "    if n in top:\n",
        "        node_color.append('r')\n",
        "    else:\n",
        "        node_color.append('b')\n",
        "\n",
        "# 各エッジの太さを指定\n",
        "width = []\n",
        "for u,v,w in G.edges(data=True):\n",
        "    width.append(w['score'])\n",
        "\n",
        "# 2部グラフGの可視化\n",
        "nx.draw_networkx(G=G, pos=pos, font_size=15, node_size=400, node_color=node_color, width=width)\n",
        "plt.axis('off')\n",
        "plt.show()"
      ],
      "execution_count": null,
      "outputs": []
    },
    {
      "cell_type": "markdown",
      "metadata": {
        "id": "G1JBcXvUr5hq"
      },
      "source": [
        "## 2.最大重みマッチング"
      ]
    },
    {
      "cell_type": "markdown",
      "metadata": {
        "id": "4g4EPkD_Moh7"
      },
      "source": [
        "### 2-1.最適化を実行する"
      ]
    },
    {
      "cell_type": "markdown",
      "metadata": {
        "id": "2FyBMc52M45f"
      },
      "source": [
        "**最大重みマッチングを行う**\n",
        "\n",
        "```\n",
        "result = nx.max_weight_matching(G, weight='score')\n",
        "```\n",
        "**実際の満足度を表示する**\n",
        "\n",
        "```\n",
        "for e in result:\n",
        "    print(e, G.edges[e])\n",
        "```\n",
        "\n",
        "\n"
      ]
    },
    {
      "cell_type": "code",
      "metadata": {
        "id": "onh3AigdNRSa"
      },
      "source": [
        "# 最適化を実行\n",
        "result = nx.max_weight_matching(G, weight='score')\n",
        "\n",
        "# 結果を表示\n",
        "for e in result:\n",
        "    print(e, G.edges[e])"
      ],
      "execution_count": null,
      "outputs": []
    },
    {
      "cell_type": "markdown",
      "metadata": {
        "id": "_e7aWOSGNTjj"
      },
      "source": [
        "### 2-2.結果を可視化する"
      ]
    },
    {
      "cell_type": "markdown",
      "metadata": {
        "id": "u_564SrONdX5"
      },
      "source": [
        "**位置はdict型で{ノード名: (x座標, y座標)}のように指定**\n",
        "\n",
        "```\n",
        "pos = {}\n",
        "for i, n in enumerate(新入社員のノード集合):\n",
        "    pos.update({n: (1, i)})\n",
        "for i, n in enumerate(部署のノード集合):\n",
        "    pos.update({n: (2, i)})\n",
        "```\n",
        "**ノードの色を指定**\n",
        "\n",
        "```\n",
        "node_color = []\n",
        "for n in G.nodes:\n",
        "    if n in top:\n",
        "        node_color.append('r')\n",
        "    else:\n",
        "        node_color.append('b')\n",
        "```\n",
        "**エッジの太さを指定**\n",
        "\n",
        "```\n",
        "width = []\n",
        "for u,v,w in G.edges(data=True):\n",
        "    width.append(w['score'])\n",
        "```\n",
        "**グラフを可視化**\n",
        "\n",
        "```\n",
        "nx.draw_networkx(G, pos, font_size=15, node_size=400, node_color=node_color, width=width)\n",
        "```\n",
        "**枠を非表示にして描画**\n",
        "```\n",
        "plt.axis('off')\n",
        "plt.show()\n",
        "```\n",
        "\n",
        "\n",
        "\n",
        "\n"
      ]
    },
    {
      "cell_type": "code",
      "metadata": {
        "id": "leKEHmMPOFIP"
      },
      "source": [
        "# 最適値を達成するエッジの集合を持つグラフの作成\n",
        "top, bottom = bipartite.sets(G) # グラフGのノード集合を分割\n",
        "H = nx.Graph() # 新しいグラフHの作成\n",
        "H.add_nodes_from(top) # ノードを追加\n",
        "H.add_nodes_from(bottom) # ノードを追加\n",
        "H.add_edges_from(result) # エッジを追加\n",
        "\n",
        "# 各ノードの位置を設定\n",
        "pos = {}\n",
        "for i, n in enumerate(top):\n",
        "    pos.update({n: (1, i)})\n",
        "for i, n in enumerate(bottom):\n",
        "    pos.update({n: (2, i)})\n",
        "\n",
        "# 各ノードの色を指定\n",
        "node_color = []\n",
        "for n in H.nodes:\n",
        "    if n in top:\n",
        "        node_color.append('r')\n",
        "    else:\n",
        "        node_color.append('b')\n",
        "\n",
        "# 各エッジの太さを指定\n",
        "width = []\n",
        "for u,v in H.edges:\n",
        "    width.append(G.edges[u,v]['score'])\n",
        "\n",
        "# 2部グラフGの可視化\n",
        "nx.draw_networkx(G=H, pos=pos,font_size=15, node_size=400, node_color=node_color, width=width)\n",
        "plt.axis('off')\n",
        "plt.show()"
      ],
      "execution_count": null,
      "outputs": []
    },
    {
      "cell_type": "markdown",
      "metadata": {
        "id": "6w4hQAmQrZ40"
      },
      "source": [
        "# [3] 数理最適化"
      ]
    },
    {
      "cell_type": "markdown",
      "metadata": {
        "id": "uz40OYLHrZ7M"
      },
      "source": [
        "## 1.定式化"
      ]
    },
    {
      "cell_type": "markdown",
      "metadata": {
        "id": "p2rUrXdWPC5J"
      },
      "source": [
        "### 1-1.決定変数を設定する"
      ]
    },
    {
      "cell_type": "markdown",
      "metadata": {
        "id": "1G8W-9JnPLDk"
      },
      "source": [
        "**決定変数**\n",
        "\n",
        "\n",
        "```\n",
        "問題における状態などを特徴づけるためのパラメータ\n",
        "```\n",
        "**今回の場合**\n",
        "\n",
        "```\n",
        "100人の新入社員を10個の部署へ割り当てる\n",
        "\n",
        "# 以下の制約条件あり\n",
        "*   1人につき1部署\n",
        "*   特定の人たちは全員異なる部署に割り当てる\n",
        "*   各部署には受け入れ人数に上限があり、これを超えない\n",
        "```\n",
        "\n",
        "```\n",
        "0または1の値のみとる決定変数を2値変数と呼ぶ\n",
        "```\n",
        "**数理最適化を行うためのライブラリをインポート**\n",
        "\n",
        "```\n",
        "import pulp\n",
        "```\n",
        "**上記のような組み合わせの決定変数を定義**\n",
        "\n",
        "```\n",
        "x = pulp.LpVariable.dicts('x', (新入社員リスト, 部署リスト), cat='Binary')\n",
        "```\n",
        "**新入社員数×部署数分の決定変数へのアクセス**\n",
        "\n",
        "```\n",
        "x[k][l]\n",
        "```\n",
        "\n",
        "\n",
        "\n",
        "\n",
        "\n",
        "\n",
        "\n",
        "\n"
      ]
    },
    {
      "cell_type": "code",
      "metadata": {
        "id": "Ujj0riC2Qh3v"
      },
      "source": [
        "# pulpのインポート\n",
        "import pulp\n",
        "\n",
        "# 決定変数の設定\n",
        "from networkx.algorithms import bipartite\n",
        "top, bottom = bipartite.sets(G)\n",
        "x = pulp.LpVariable.dicts('x', (top, bottom), cat='Binary')\n",
        "\n",
        "# 決定変数(x_1_a)が整数となっていることを確認\n",
        "print(x[1]['a'].cat)\n",
        "\n",
        "# 決定変数(x_1_a)の下限が0となっていることを確認\n",
        "print(x[1]['a'].getLb())\n",
        "\n",
        "# 決定変数(x_1_a)の上限が1となっていることを確認\n",
        "print(x[1]['a'].getUb())"
      ],
      "execution_count": null,
      "outputs": []
    },
    {
      "cell_type": "markdown",
      "metadata": {
        "id": "MqGfClOnQnyg"
      },
      "source": [
        "### 1-2.目的関数を設定する"
      ]
    },
    {
      "cell_type": "markdown",
      "metadata": {
        "id": "K1PdyOQ2Qv54"
      },
      "source": [
        "**目的関数を設定**\n",
        "\n",
        "```\n",
        "pulp.lpSum(足し合わせる項のリスト)\n",
        "\n",
        "terms = []\n",
        "for t in 新入社員リスト:\n",
        "    for b in 部署リスト:\n",
        "        if (t, b) in G.edges:\n",
        "            terms.append(G.edges[t,b]['score']*x[t][b])\n",
        "```\n",
        "**目的関数を最大化**\n",
        "\n",
        "```\n",
        "model = pulp.LpProblem(問題の名前, pulp.LpMaximize)\n",
        "```\n",
        "**目的関数を以下のように追加**\n",
        "\n",
        "```\n",
        "model += pulp.lpSum(足し合わせる項のリスト)\n",
        "```\n",
        "\n",
        "\n",
        "\n"
      ]
    },
    {
      "cell_type": "code",
      "metadata": {
        "id": "FCmFiF1bSzTu"
      },
      "source": [
        "# 目的関数の設定\n",
        "model = pulp.LpProblem('Worker Allocation Model', pulp.LpMaximize)\n",
        "terms = []\n",
        "for t in top:\n",
        "    for b in bottom:\n",
        "        if (t, b) in G.edges:\n",
        "            terms.append(G.edges[t,b]['score']*x[t][b])\n",
        "model += pulp.lpSum(terms)\n",
        "print(model)"
      ],
      "execution_count": null,
      "outputs": []
    },
    {
      "cell_type": "markdown",
      "metadata": {
        "id": "TpjOlV0IS5Vo"
      },
      "source": [
        "### 1-3.制約条件を設定する"
      ]
    },
    {
      "cell_type": "markdown",
      "metadata": {
        "id": "xNETxhpLTPkB"
      },
      "source": [
        "**制約条件を設定**\n",
        "\n",
        "```\n",
        "model += 条件式, 条件式の名前\n",
        "```\n",
        "\n"
      ]
    },
    {
      "cell_type": "code",
      "metadata": {
        "id": "AHmZHt-7TZtZ"
      },
      "source": [
        "# workerに対する制約条件の設定\n",
        "for t in top:\n",
        "    terms = []\n",
        "    for b in bottom:\n",
        "        terms.append(x[t][b])\n",
        "    model += pulp.lpSum(terms) == 1, 'worker {}'.format(t)\n",
        "print(model)\n",
        "\n",
        "# 同じdepartmentに存在してほしくないworkerの設定\n",
        "ngs = {1, 2, 3, 4, 5, 6, 7, 8, 9}\n",
        "for b in bottom:\n",
        "    terms = []\n",
        "    for t in ngs:\n",
        "        terms.append(x[t][b])\n",
        "    model += pulp.lpSum(terms) <=1, 'NG members {}'.format(b)\n",
        "print(model)\n",
        "\n",
        "# departmentに対する制約条件の設定\n",
        "capacity = pd.read_csv('capacity.csv', index_col = 'department')\n",
        "cap = capacity.to_dict()['capacity']\n",
        "for b in bottom:\n",
        "    terms = []\n",
        "    for t in top:\n",
        "        terms.append(x[t][b])\n",
        "    model += pulp.lpSum(terms) <= cap[b], 'department {}'.format(b)\n",
        "print(model)"
      ],
      "execution_count": null,
      "outputs": []
    },
    {
      "cell_type": "markdown",
      "metadata": {
        "id": "1IN082BMrZ9S"
      },
      "source": [
        "## 2.求解"
      ]
    },
    {
      "cell_type": "markdown",
      "metadata": {
        "id": "wXtfyexHTfS4"
      },
      "source": [
        "### 2-1.最適化を実行する"
      ]
    },
    {
      "cell_type": "markdown",
      "metadata": {
        "id": "1iKyv1aZTi4K"
      },
      "source": [
        "**最適化を実行**\n",
        "\n",
        "```\n",
        "model.solve()\n",
        "\n",
        "model.status\n",
        "```\n",
        "\n"
      ]
    },
    {
      "cell_type": "code",
      "metadata": {
        "id": "UM8b0vTQT2y_"
      },
      "source": [
        "# 最適化の実行\n",
        "model.solve()\n",
        "print(model.status)"
      ],
      "execution_count": null,
      "outputs": []
    },
    {
      "cell_type": "markdown",
      "metadata": {
        "id": "xdMBtctXT58M"
      },
      "source": [
        "### 2-2.結果を分析する"
      ]
    },
    {
      "cell_type": "markdown",
      "metadata": {
        "id": "I-wXGDQLUEMy"
      },
      "source": [
        "**満足度の値を取得**\n",
        "\n",
        "```\n",
        "x[k][l].value()\n",
        "\n",
        "if x[k][l].value() == 1:\n",
        "    その後の処理\n",
        "```\n",
        "**エッジを指定することで取得**\n",
        "\n",
        "```\n",
        "G.edges[k,l]['score']\n",
        "```\n",
        "**エッジが存在するかどうかを判別**\n",
        "\n",
        "```\n",
        "if (k, l) in G.edges:\n",
        "    print('{} -> {} (score: {})'.format(k, l, G.edges[k,l]['score']))\n",
        "else:\n",
        "    print('{} -> {} (score: {})'.format(k, l, 0))\n",
        "```\n",
        "**各部署について、xklが1となっている部分だけ数えればよい**\n",
        "\n",
        "```\n",
        "num_workers = 0\n",
        "for k in workers:\n",
        "    if x[k][l].value()==1:\n",
        "        num_workers += 1\n",
        "```\n",
        "**最適解に対する目的関数の値(最適値と呼ぶ)を確認**\n",
        "\n",
        "```\n",
        "model.objective.value()\n",
        "```\n",
        "\n",
        "\n",
        "\n",
        "\n",
        "\n"
      ]
    },
    {
      "cell_type": "code",
      "metadata": {
        "id": "XKK8eJAkV5fp"
      },
      "source": [
        "# 各新入社員が所属する部署の確認\n",
        "worker_allocations = {}\n",
        "for t in sorted(top):\n",
        "    for b in bottom:\n",
        "        if x[t][b].value()==1:\n",
        "            if (t,b) in G.edges:\n",
        "                print('{} -> {} (score: {})'.format(t, b, G.edges[t,b]['score']))\n",
        "            else:\n",
        "                print('{} -> {} (score: {})'.format(t, b, 0))\n",
        "            worker_allocations[t]=b\n",
        "\n",
        "# 各部署に所属する人数の確認\n",
        "department_allocations = {}\n",
        "for b in sorted(bottom):\n",
        "    num_workers = 0\n",
        "    for t in top:\n",
        "        if x[t][b].value()==1:\n",
        "            num_workers += 1\n",
        "    department_allocations[b] = num_workers\n",
        "    print('department {}: {} workers (capacity: {})'.format(b, num_workers, cap[b]))\n",
        "\n",
        "# 目的関数の最適値の確認\n",
        "print(model.objective.value())"
      ],
      "execution_count": null,
      "outputs": []
    }
  ]
}